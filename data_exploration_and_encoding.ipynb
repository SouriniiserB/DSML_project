{
  "cells": [
    {
      "cell_type": "markdown",
      "metadata": {
        "id": "5kzQlhPXLuI5"
      },
      "source": [
        "\n",
        "\n",
        "**Predict Test Scores of Students:**"
      ]
    },
    {
      "cell_type": "markdown",
      "metadata": {
        "id": "vdV6RSSwNcfn"
      },
      "source": [
        "The objective is to predict the score of individual students in a particular test given a data set  which includes features such as, school setting, school type, gender, pretest scores etc.  \n"
      ]
    },
    {
      "cell_type": "markdown",
      "metadata": {
        "id": "gQr_m4lSObT-"
      },
      "source": [
        "The dataset contains 12 columns\n",
        "\n",
        "Target filed: posttest\n",
        "\n",
        "\n",
        "Number of attributes: 11\n",
        "\n"
      ]
    },
    {
      "cell_type": "markdown",
      "metadata": {
        "id": "XmLKa1OqL0KN"
      },
      "source": [
        "About the Dataset:\n",
        "\n",
        "1. school: contain different school name\n",
        "2. school_setting: where the school is set urban or sub-urben or rural\n",
        "3. school_type: define the school type\n",
        "4. classroom: contain different classroom\n",
        "5. teaching_method: shows type of teaching methode\n",
        "6. n_student: Represent the mnumber of student\n",
        "7. student_id: contains id of different individual student\n",
        "8. gender\t: represent the gender of a student\n",
        "9. lunch: contains type of lunches\n",
        "10. pretest: contains pretest score of a student\n",
        "11. 1st column: contains unique alphabets\n",
        "\n",
        "\n",
        "\n",
        "\n",
        "\n",
        "\n",
        "\n",
        "\n",
        "    \n",
        "\n"
      ]
    },
    {
      "cell_type": "markdown",
      "metadata": {
        "id": "5CUjUqwOLDVd"
      },
      "source": [
        "## Importing the Dependencies:"
      ]
    },
    {
      "cell_type": "code",
      "source": [
        "import tensorflow as tf"
      ],
      "metadata": {
        "id": "LdATSQIOVwqp"
      },
      "execution_count": null,
      "outputs": []
    },
    {
      "cell_type": "code",
      "source": [
        "tf.test.gpu_device_name()"
      ],
      "metadata": {
        "colab": {
          "base_uri": "https://localhost:8080/",
          "height": 35
        },
        "id": "vLxl9TZ0WFKb",
        "outputId": "909688d0-1225-4922-aff5-14d9d32be9ac"
      },
      "execution_count": null,
      "outputs": [
        {
          "output_type": "execute_result",
          "data": {
            "text/plain": [
              "'/device:GPU:0'"
            ],
            "application/vnd.google.colaboratory.intrinsic+json": {
              "type": "string"
            }
          },
          "metadata": {},
          "execution_count": 3
        }
      ]
    },
    {
      "cell_type": "code",
      "execution_count": 1,
      "metadata": {
        "id": "QkFlXAFKKu05"
      },
      "outputs": [],
      "source": [
        "#Basic Libraries for Machine Learning\n",
        "import numpy as np \n",
        "import pandas as pd\n",
        "\n",
        "# For Date Visualization and EDA\n",
        "import matplotlib.pyplot as plt\n",
        "import seaborn as sns\n",
        "import plotly\n",
        "import plotly.express as px\n",
        "import plotly.figure_factory as ff\n",
        "import plotly.graph_objects as go\n",
        "\n",
        "# Importing sklearn library\n",
        "import sklearn\n",
        "\n",
        "# For Data Encoding\n",
        "from sklearn import preprocessing\n",
        "from sklearn.preprocessing import LabelEncoder\n",
        "\n",
        "# For Correlation matrix\n",
        "from scipy.stats import pearsonr\n",
        "\n",
        "# For Scaling the datasets\n",
        "from sklearn.preprocessing import StandardScaler\n",
        "\n",
        "from sklearn.model_selection import cross_val_score\n",
        "from sklearn.feature_selection import SelectKBest\n",
        "\n",
        "# Splitting the datasets\n",
        "from sklearn.model_selection import train_test_split\n",
        "\n",
        "# For checking accuracy and confusion matrix\n",
        "from sklearn.metrics import accuracy_score, roc_auc_score, confusion_matrix, classification_report\n",
        "\n",
        "#Cross-validation\n",
        "from sklearn.model_selection import GridSearchCV\n",
        "from sklearn.model_selection import RandomizedSearchCV \n",
        "from sklearn.pipeline import make_pipeline\n",
        "\n",
        "from scipy.stats import uniform, randint\n",
        "\n",
        "# For importing the models\n",
        "from sklearn.linear_model import LogisticRegression\n",
        "from sklearn import svm\n",
        "from sklearn.svm import SVC\n",
        "from sklearn.naive_bayes import GaussianNB\n",
        "from sklearn.tree import DecisionTreeClassifier\n",
        "from sklearn.ensemble import RandomForestClassifier\n",
        "from sklearn.neighbors import KNeighborsClassifier"
      ]
    },
    {
      "cell_type": "markdown",
      "metadata": {
        "id": "N_5Kr3EIPoEh"
      },
      "source": [
        "# Data Collection and Pre-Processing:"
      ]
    },
    {
      "cell_type": "code",
      "execution_count": 3,
      "metadata": {
        "id": "EkCGd_GtPpw8"
      },
      "outputs": [],
      "source": [
        "# loading the dataset to pandas DataFrame\n",
        "train = pd.read_csv('train.csv')"
      ]
    },
    {
      "cell_type": "code",
      "execution_count": 4,
      "metadata": {
        "id": "XxOHk1tgOVDs",
        "colab": {
          "base_uri": "https://localhost:8080/",
          "height": 374
        },
        "outputId": "6da4eeca-3752-4599-fcba-bf1411a65817"
      },
      "outputs": [
        {
          "output_type": "execute_result",
          "data": {
            "text/plain": [
              "    any school school_setting school_type classroom teaching_method  \\\n",
              "0  1180  OJOBU          Rural      Public       6U9        Standard   \n",
              "1   564  GJJHK       Suburban      Public       X78        Standard   \n",
              "2    39  ANKYI          Urban  Non-public       ZNS        Standard   \n",
              "3  1444  UAGPU       Suburban      Public       NWZ        Standard   \n",
              "4  1330  QOQTS          Urban      Public       SUR        Standard   \n",
              "\n",
              "   n_student student_id  gender                             lunch  pretest  \n",
              "0         22      KG40V  Female                  Does not qualify       53  \n",
              "1         21      SJ05X  Female  Qualifies for reduced/free lunch       54  \n",
              "2         21      VKX2N  Female                  Does not qualify       62  \n",
              "3         21      V9D0M  Female                  Does not qualify       58  \n",
              "4         28      SDWCT  Female                  Does not qualify       52  "
            ],
            "text/html": [
              "\n",
              "  <div id=\"df-5721eef6-abfd-440d-a930-17f3a2ac96e4\">\n",
              "    <div class=\"colab-df-container\">\n",
              "      <div>\n",
              "<style scoped>\n",
              "    .dataframe tbody tr th:only-of-type {\n",
              "        vertical-align: middle;\n",
              "    }\n",
              "\n",
              "    .dataframe tbody tr th {\n",
              "        vertical-align: top;\n",
              "    }\n",
              "\n",
              "    .dataframe thead th {\n",
              "        text-align: right;\n",
              "    }\n",
              "</style>\n",
              "<table border=\"1\" class=\"dataframe\">\n",
              "  <thead>\n",
              "    <tr style=\"text-align: right;\">\n",
              "      <th></th>\n",
              "      <th>any</th>\n",
              "      <th>school</th>\n",
              "      <th>school_setting</th>\n",
              "      <th>school_type</th>\n",
              "      <th>classroom</th>\n",
              "      <th>teaching_method</th>\n",
              "      <th>n_student</th>\n",
              "      <th>student_id</th>\n",
              "      <th>gender</th>\n",
              "      <th>lunch</th>\n",
              "      <th>pretest</th>\n",
              "    </tr>\n",
              "  </thead>\n",
              "  <tbody>\n",
              "    <tr>\n",
              "      <th>0</th>\n",
              "      <td>1180</td>\n",
              "      <td>OJOBU</td>\n",
              "      <td>Rural</td>\n",
              "      <td>Public</td>\n",
              "      <td>6U9</td>\n",
              "      <td>Standard</td>\n",
              "      <td>22</td>\n",
              "      <td>KG40V</td>\n",
              "      <td>Female</td>\n",
              "      <td>Does not qualify</td>\n",
              "      <td>53</td>\n",
              "    </tr>\n",
              "    <tr>\n",
              "      <th>1</th>\n",
              "      <td>564</td>\n",
              "      <td>GJJHK</td>\n",
              "      <td>Suburban</td>\n",
              "      <td>Public</td>\n",
              "      <td>X78</td>\n",
              "      <td>Standard</td>\n",
              "      <td>21</td>\n",
              "      <td>SJ05X</td>\n",
              "      <td>Female</td>\n",
              "      <td>Qualifies for reduced/free lunch</td>\n",
              "      <td>54</td>\n",
              "    </tr>\n",
              "    <tr>\n",
              "      <th>2</th>\n",
              "      <td>39</td>\n",
              "      <td>ANKYI</td>\n",
              "      <td>Urban</td>\n",
              "      <td>Non-public</td>\n",
              "      <td>ZNS</td>\n",
              "      <td>Standard</td>\n",
              "      <td>21</td>\n",
              "      <td>VKX2N</td>\n",
              "      <td>Female</td>\n",
              "      <td>Does not qualify</td>\n",
              "      <td>62</td>\n",
              "    </tr>\n",
              "    <tr>\n",
              "      <th>3</th>\n",
              "      <td>1444</td>\n",
              "      <td>UAGPU</td>\n",
              "      <td>Suburban</td>\n",
              "      <td>Public</td>\n",
              "      <td>NWZ</td>\n",
              "      <td>Standard</td>\n",
              "      <td>21</td>\n",
              "      <td>V9D0M</td>\n",
              "      <td>Female</td>\n",
              "      <td>Does not qualify</td>\n",
              "      <td>58</td>\n",
              "    </tr>\n",
              "    <tr>\n",
              "      <th>4</th>\n",
              "      <td>1330</td>\n",
              "      <td>QOQTS</td>\n",
              "      <td>Urban</td>\n",
              "      <td>Public</td>\n",
              "      <td>SUR</td>\n",
              "      <td>Standard</td>\n",
              "      <td>28</td>\n",
              "      <td>SDWCT</td>\n",
              "      <td>Female</td>\n",
              "      <td>Does not qualify</td>\n",
              "      <td>52</td>\n",
              "    </tr>\n",
              "  </tbody>\n",
              "</table>\n",
              "</div>\n",
              "      <button class=\"colab-df-convert\" onclick=\"convertToInteractive('df-5721eef6-abfd-440d-a930-17f3a2ac96e4')\"\n",
              "              title=\"Convert this dataframe to an interactive table.\"\n",
              "              style=\"display:none;\">\n",
              "        \n",
              "  <svg xmlns=\"http://www.w3.org/2000/svg\" height=\"24px\"viewBox=\"0 0 24 24\"\n",
              "       width=\"24px\">\n",
              "    <path d=\"M0 0h24v24H0V0z\" fill=\"none\"/>\n",
              "    <path d=\"M18.56 5.44l.94 2.06.94-2.06 2.06-.94-2.06-.94-.94-2.06-.94 2.06-2.06.94zm-11 1L8.5 8.5l.94-2.06 2.06-.94-2.06-.94L8.5 2.5l-.94 2.06-2.06.94zm10 10l.94 2.06.94-2.06 2.06-.94-2.06-.94-.94-2.06-.94 2.06-2.06.94z\"/><path d=\"M17.41 7.96l-1.37-1.37c-.4-.4-.92-.59-1.43-.59-.52 0-1.04.2-1.43.59L10.3 9.45l-7.72 7.72c-.78.78-.78 2.05 0 2.83L4 21.41c.39.39.9.59 1.41.59.51 0 1.02-.2 1.41-.59l7.78-7.78 2.81-2.81c.8-.78.8-2.07 0-2.86zM5.41 20L4 18.59l7.72-7.72 1.47 1.35L5.41 20z\"/>\n",
              "  </svg>\n",
              "      </button>\n",
              "      \n",
              "  <style>\n",
              "    .colab-df-container {\n",
              "      display:flex;\n",
              "      flex-wrap:wrap;\n",
              "      gap: 12px;\n",
              "    }\n",
              "\n",
              "    .colab-df-convert {\n",
              "      background-color: #E8F0FE;\n",
              "      border: none;\n",
              "      border-radius: 50%;\n",
              "      cursor: pointer;\n",
              "      display: none;\n",
              "      fill: #1967D2;\n",
              "      height: 32px;\n",
              "      padding: 0 0 0 0;\n",
              "      width: 32px;\n",
              "    }\n",
              "\n",
              "    .colab-df-convert:hover {\n",
              "      background-color: #E2EBFA;\n",
              "      box-shadow: 0px 1px 2px rgba(60, 64, 67, 0.3), 0px 1px 3px 1px rgba(60, 64, 67, 0.15);\n",
              "      fill: #174EA6;\n",
              "    }\n",
              "\n",
              "    [theme=dark] .colab-df-convert {\n",
              "      background-color: #3B4455;\n",
              "      fill: #D2E3FC;\n",
              "    }\n",
              "\n",
              "    [theme=dark] .colab-df-convert:hover {\n",
              "      background-color: #434B5C;\n",
              "      box-shadow: 0px 1px 3px 1px rgba(0, 0, 0, 0.15);\n",
              "      filter: drop-shadow(0px 1px 2px rgba(0, 0, 0, 0.3));\n",
              "      fill: #FFFFFF;\n",
              "    }\n",
              "  </style>\n",
              "\n",
              "      <script>\n",
              "        const buttonEl =\n",
              "          document.querySelector('#df-5721eef6-abfd-440d-a930-17f3a2ac96e4 button.colab-df-convert');\n",
              "        buttonEl.style.display =\n",
              "          google.colab.kernel.accessAllowed ? 'block' : 'none';\n",
              "\n",
              "        async function convertToInteractive(key) {\n",
              "          const element = document.querySelector('#df-5721eef6-abfd-440d-a930-17f3a2ac96e4');\n",
              "          const dataTable =\n",
              "            await google.colab.kernel.invokeFunction('convertToInteractive',\n",
              "                                                     [key], {});\n",
              "          if (!dataTable) return;\n",
              "\n",
              "          const docLinkHtml = 'Like what you see? Visit the ' +\n",
              "            '<a target=\"_blank\" href=https://colab.research.google.com/notebooks/data_table.ipynb>data table notebook</a>'\n",
              "            + ' to learn more about interactive tables.';\n",
              "          element.innerHTML = '';\n",
              "          dataTable['output_type'] = 'display_data';\n",
              "          await google.colab.output.renderOutput(dataTable, element);\n",
              "          const docLink = document.createElement('div');\n",
              "          docLink.innerHTML = docLinkHtml;\n",
              "          element.appendChild(docLink);\n",
              "        }\n",
              "      </script>\n",
              "    </div>\n",
              "  </div>\n",
              "  "
            ]
          },
          "metadata": {},
          "execution_count": 4
        }
      ],
      "source": [
        "# printing the first 5 rows of the dataframe\n",
        "train.head()"
      ]
    },
    {
      "cell_type": "code",
      "execution_count": 5,
      "metadata": {
        "id": "5Ijli2i6OY3q",
        "colab": {
          "base_uri": "https://localhost:8080/",
          "height": 426
        },
        "outputId": "774aa1f0-6b61-4f5d-aaae-9453272064c3"
      },
      "outputs": [
        {
          "output_type": "execute_result",
          "data": {
            "text/plain": [
              "       any school school_setting school_type classroom teaching_method  \\\n",
              "2021  1033  KZKKE          Rural      Public       5JK        Standard   \n",
              "2022  1731  VHDHF          Rural  Non-public       KR1    Experimental   \n",
              "2023   763  GOOBU          Urban      Public       HKF        Standard   \n",
              "2024   835  GOOBU          Urban      Public       W8A    Experimental   \n",
              "2025  1653  UUUQX       Suburban  Non-public       P8I        Standard   \n",
              "\n",
              "      n_student student_id  gender                             lunch  pretest  \n",
              "2021         24      BC0AI    Male  Qualifies for reduced/free lunch       33  \n",
              "2022         15      UV4VL    Male  Qualifies for reduced/free lunch       53  \n",
              "2023         28      ZDEIJ  Female  Qualifies for reduced/free lunch       33  \n",
              "2024         26      RDNR9    Male  Qualifies for reduced/free lunch       36  \n",
              "2025         20      8RSUD  Female                  Does not qualify       65  "
            ],
            "text/html": [
              "\n",
              "  <div id=\"df-0f8e5286-a0c2-44c6-9549-25790115326f\">\n",
              "    <div class=\"colab-df-container\">\n",
              "      <div>\n",
              "<style scoped>\n",
              "    .dataframe tbody tr th:only-of-type {\n",
              "        vertical-align: middle;\n",
              "    }\n",
              "\n",
              "    .dataframe tbody tr th {\n",
              "        vertical-align: top;\n",
              "    }\n",
              "\n",
              "    .dataframe thead th {\n",
              "        text-align: right;\n",
              "    }\n",
              "</style>\n",
              "<table border=\"1\" class=\"dataframe\">\n",
              "  <thead>\n",
              "    <tr style=\"text-align: right;\">\n",
              "      <th></th>\n",
              "      <th>any</th>\n",
              "      <th>school</th>\n",
              "      <th>school_setting</th>\n",
              "      <th>school_type</th>\n",
              "      <th>classroom</th>\n",
              "      <th>teaching_method</th>\n",
              "      <th>n_student</th>\n",
              "      <th>student_id</th>\n",
              "      <th>gender</th>\n",
              "      <th>lunch</th>\n",
              "      <th>pretest</th>\n",
              "    </tr>\n",
              "  </thead>\n",
              "  <tbody>\n",
              "    <tr>\n",
              "      <th>2021</th>\n",
              "      <td>1033</td>\n",
              "      <td>KZKKE</td>\n",
              "      <td>Rural</td>\n",
              "      <td>Public</td>\n",
              "      <td>5JK</td>\n",
              "      <td>Standard</td>\n",
              "      <td>24</td>\n",
              "      <td>BC0AI</td>\n",
              "      <td>Male</td>\n",
              "      <td>Qualifies for reduced/free lunch</td>\n",
              "      <td>33</td>\n",
              "    </tr>\n",
              "    <tr>\n",
              "      <th>2022</th>\n",
              "      <td>1731</td>\n",
              "      <td>VHDHF</td>\n",
              "      <td>Rural</td>\n",
              "      <td>Non-public</td>\n",
              "      <td>KR1</td>\n",
              "      <td>Experimental</td>\n",
              "      <td>15</td>\n",
              "      <td>UV4VL</td>\n",
              "      <td>Male</td>\n",
              "      <td>Qualifies for reduced/free lunch</td>\n",
              "      <td>53</td>\n",
              "    </tr>\n",
              "    <tr>\n",
              "      <th>2023</th>\n",
              "      <td>763</td>\n",
              "      <td>GOOBU</td>\n",
              "      <td>Urban</td>\n",
              "      <td>Public</td>\n",
              "      <td>HKF</td>\n",
              "      <td>Standard</td>\n",
              "      <td>28</td>\n",
              "      <td>ZDEIJ</td>\n",
              "      <td>Female</td>\n",
              "      <td>Qualifies for reduced/free lunch</td>\n",
              "      <td>33</td>\n",
              "    </tr>\n",
              "    <tr>\n",
              "      <th>2024</th>\n",
              "      <td>835</td>\n",
              "      <td>GOOBU</td>\n",
              "      <td>Urban</td>\n",
              "      <td>Public</td>\n",
              "      <td>W8A</td>\n",
              "      <td>Experimental</td>\n",
              "      <td>26</td>\n",
              "      <td>RDNR9</td>\n",
              "      <td>Male</td>\n",
              "      <td>Qualifies for reduced/free lunch</td>\n",
              "      <td>36</td>\n",
              "    </tr>\n",
              "    <tr>\n",
              "      <th>2025</th>\n",
              "      <td>1653</td>\n",
              "      <td>UUUQX</td>\n",
              "      <td>Suburban</td>\n",
              "      <td>Non-public</td>\n",
              "      <td>P8I</td>\n",
              "      <td>Standard</td>\n",
              "      <td>20</td>\n",
              "      <td>8RSUD</td>\n",
              "      <td>Female</td>\n",
              "      <td>Does not qualify</td>\n",
              "      <td>65</td>\n",
              "    </tr>\n",
              "  </tbody>\n",
              "</table>\n",
              "</div>\n",
              "      <button class=\"colab-df-convert\" onclick=\"convertToInteractive('df-0f8e5286-a0c2-44c6-9549-25790115326f')\"\n",
              "              title=\"Convert this dataframe to an interactive table.\"\n",
              "              style=\"display:none;\">\n",
              "        \n",
              "  <svg xmlns=\"http://www.w3.org/2000/svg\" height=\"24px\"viewBox=\"0 0 24 24\"\n",
              "       width=\"24px\">\n",
              "    <path d=\"M0 0h24v24H0V0z\" fill=\"none\"/>\n",
              "    <path d=\"M18.56 5.44l.94 2.06.94-2.06 2.06-.94-2.06-.94-.94-2.06-.94 2.06-2.06.94zm-11 1L8.5 8.5l.94-2.06 2.06-.94-2.06-.94L8.5 2.5l-.94 2.06-2.06.94zm10 10l.94 2.06.94-2.06 2.06-.94-2.06-.94-.94-2.06-.94 2.06-2.06.94z\"/><path d=\"M17.41 7.96l-1.37-1.37c-.4-.4-.92-.59-1.43-.59-.52 0-1.04.2-1.43.59L10.3 9.45l-7.72 7.72c-.78.78-.78 2.05 0 2.83L4 21.41c.39.39.9.59 1.41.59.51 0 1.02-.2 1.41-.59l7.78-7.78 2.81-2.81c.8-.78.8-2.07 0-2.86zM5.41 20L4 18.59l7.72-7.72 1.47 1.35L5.41 20z\"/>\n",
              "  </svg>\n",
              "      </button>\n",
              "      \n",
              "  <style>\n",
              "    .colab-df-container {\n",
              "      display:flex;\n",
              "      flex-wrap:wrap;\n",
              "      gap: 12px;\n",
              "    }\n",
              "\n",
              "    .colab-df-convert {\n",
              "      background-color: #E8F0FE;\n",
              "      border: none;\n",
              "      border-radius: 50%;\n",
              "      cursor: pointer;\n",
              "      display: none;\n",
              "      fill: #1967D2;\n",
              "      height: 32px;\n",
              "      padding: 0 0 0 0;\n",
              "      width: 32px;\n",
              "    }\n",
              "\n",
              "    .colab-df-convert:hover {\n",
              "      background-color: #E2EBFA;\n",
              "      box-shadow: 0px 1px 2px rgba(60, 64, 67, 0.3), 0px 1px 3px 1px rgba(60, 64, 67, 0.15);\n",
              "      fill: #174EA6;\n",
              "    }\n",
              "\n",
              "    [theme=dark] .colab-df-convert {\n",
              "      background-color: #3B4455;\n",
              "      fill: #D2E3FC;\n",
              "    }\n",
              "\n",
              "    [theme=dark] .colab-df-convert:hover {\n",
              "      background-color: #434B5C;\n",
              "      box-shadow: 0px 1px 3px 1px rgba(0, 0, 0, 0.15);\n",
              "      filter: drop-shadow(0px 1px 2px rgba(0, 0, 0, 0.3));\n",
              "      fill: #FFFFFF;\n",
              "    }\n",
              "  </style>\n",
              "\n",
              "      <script>\n",
              "        const buttonEl =\n",
              "          document.querySelector('#df-0f8e5286-a0c2-44c6-9549-25790115326f button.colab-df-convert');\n",
              "        buttonEl.style.display =\n",
              "          google.colab.kernel.accessAllowed ? 'block' : 'none';\n",
              "\n",
              "        async function convertToInteractive(key) {\n",
              "          const element = document.querySelector('#df-0f8e5286-a0c2-44c6-9549-25790115326f');\n",
              "          const dataTable =\n",
              "            await google.colab.kernel.invokeFunction('convertToInteractive',\n",
              "                                                     [key], {});\n",
              "          if (!dataTable) return;\n",
              "\n",
              "          const docLinkHtml = 'Like what you see? Visit the ' +\n",
              "            '<a target=\"_blank\" href=https://colab.research.google.com/notebooks/data_table.ipynb>data table notebook</a>'\n",
              "            + ' to learn more about interactive tables.';\n",
              "          element.innerHTML = '';\n",
              "          dataTable['output_type'] = 'display_data';\n",
              "          await google.colab.output.renderOutput(dataTable, element);\n",
              "          const docLink = document.createElement('div');\n",
              "          docLink.innerHTML = docLinkHtml;\n",
              "          element.appendChild(docLink);\n",
              "        }\n",
              "      </script>\n",
              "    </div>\n",
              "  </div>\n",
              "  "
            ]
          },
          "metadata": {},
          "execution_count": 5
        }
      ],
      "source": [
        "# printing the last 5 rows of the dataframe\n",
        "train.tail()"
      ]
    },
    {
      "cell_type": "code",
      "execution_count": 6,
      "metadata": {
        "id": "xWYIRrStOmw0",
        "colab": {
          "base_uri": "https://localhost:8080/"
        },
        "outputId": "76b92771-9eba-45df-ef7a-06040e0cb5ba"
      },
      "outputs": [
        {
          "output_type": "execute_result",
          "data": {
            "text/plain": [
              "(2026, 11)"
            ]
          },
          "metadata": {},
          "execution_count": 6
        }
      ],
      "source": [
        "# number of rows and columns\n",
        "train.shape"
      ]
    },
    {
      "cell_type": "code",
      "execution_count": 7,
      "metadata": {
        "id": "O5JEzwRrTEZM"
      },
      "outputs": [],
      "source": [
        "# loading the train class label dataset to pandas DataFrame\n",
        "train_class_labels = pd.read_csv('train_class_labels.csv')"
      ]
    },
    {
      "cell_type": "code",
      "execution_count": 8,
      "metadata": {
        "id": "u7puxpjATNUk",
        "colab": {
          "base_uri": "https://localhost:8080/",
          "height": 206
        },
        "outputId": "750764cc-8149-4ff5-b351-cca0b79dc908"
      },
      "outputs": [
        {
          "output_type": "execute_result",
          "data": {
            "text/plain": [
              "    any  posttest\n",
              "0  1180        62\n",
              "1   564        69\n",
              "2    39        72\n",
              "3  1444        69\n",
              "4  1330        59"
            ],
            "text/html": [
              "\n",
              "  <div id=\"df-07e1b036-06c2-4b17-bb3f-96cc038b65e2\">\n",
              "    <div class=\"colab-df-container\">\n",
              "      <div>\n",
              "<style scoped>\n",
              "    .dataframe tbody tr th:only-of-type {\n",
              "        vertical-align: middle;\n",
              "    }\n",
              "\n",
              "    .dataframe tbody tr th {\n",
              "        vertical-align: top;\n",
              "    }\n",
              "\n",
              "    .dataframe thead th {\n",
              "        text-align: right;\n",
              "    }\n",
              "</style>\n",
              "<table border=\"1\" class=\"dataframe\">\n",
              "  <thead>\n",
              "    <tr style=\"text-align: right;\">\n",
              "      <th></th>\n",
              "      <th>any</th>\n",
              "      <th>posttest</th>\n",
              "    </tr>\n",
              "  </thead>\n",
              "  <tbody>\n",
              "    <tr>\n",
              "      <th>0</th>\n",
              "      <td>1180</td>\n",
              "      <td>62</td>\n",
              "    </tr>\n",
              "    <tr>\n",
              "      <th>1</th>\n",
              "      <td>564</td>\n",
              "      <td>69</td>\n",
              "    </tr>\n",
              "    <tr>\n",
              "      <th>2</th>\n",
              "      <td>39</td>\n",
              "      <td>72</td>\n",
              "    </tr>\n",
              "    <tr>\n",
              "      <th>3</th>\n",
              "      <td>1444</td>\n",
              "      <td>69</td>\n",
              "    </tr>\n",
              "    <tr>\n",
              "      <th>4</th>\n",
              "      <td>1330</td>\n",
              "      <td>59</td>\n",
              "    </tr>\n",
              "  </tbody>\n",
              "</table>\n",
              "</div>\n",
              "      <button class=\"colab-df-convert\" onclick=\"convertToInteractive('df-07e1b036-06c2-4b17-bb3f-96cc038b65e2')\"\n",
              "              title=\"Convert this dataframe to an interactive table.\"\n",
              "              style=\"display:none;\">\n",
              "        \n",
              "  <svg xmlns=\"http://www.w3.org/2000/svg\" height=\"24px\"viewBox=\"0 0 24 24\"\n",
              "       width=\"24px\">\n",
              "    <path d=\"M0 0h24v24H0V0z\" fill=\"none\"/>\n",
              "    <path d=\"M18.56 5.44l.94 2.06.94-2.06 2.06-.94-2.06-.94-.94-2.06-.94 2.06-2.06.94zm-11 1L8.5 8.5l.94-2.06 2.06-.94-2.06-.94L8.5 2.5l-.94 2.06-2.06.94zm10 10l.94 2.06.94-2.06 2.06-.94-2.06-.94-.94-2.06-.94 2.06-2.06.94z\"/><path d=\"M17.41 7.96l-1.37-1.37c-.4-.4-.92-.59-1.43-.59-.52 0-1.04.2-1.43.59L10.3 9.45l-7.72 7.72c-.78.78-.78 2.05 0 2.83L4 21.41c.39.39.9.59 1.41.59.51 0 1.02-.2 1.41-.59l7.78-7.78 2.81-2.81c.8-.78.8-2.07 0-2.86zM5.41 20L4 18.59l7.72-7.72 1.47 1.35L5.41 20z\"/>\n",
              "  </svg>\n",
              "      </button>\n",
              "      \n",
              "  <style>\n",
              "    .colab-df-container {\n",
              "      display:flex;\n",
              "      flex-wrap:wrap;\n",
              "      gap: 12px;\n",
              "    }\n",
              "\n",
              "    .colab-df-convert {\n",
              "      background-color: #E8F0FE;\n",
              "      border: none;\n",
              "      border-radius: 50%;\n",
              "      cursor: pointer;\n",
              "      display: none;\n",
              "      fill: #1967D2;\n",
              "      height: 32px;\n",
              "      padding: 0 0 0 0;\n",
              "      width: 32px;\n",
              "    }\n",
              "\n",
              "    .colab-df-convert:hover {\n",
              "      background-color: #E2EBFA;\n",
              "      box-shadow: 0px 1px 2px rgba(60, 64, 67, 0.3), 0px 1px 3px 1px rgba(60, 64, 67, 0.15);\n",
              "      fill: #174EA6;\n",
              "    }\n",
              "\n",
              "    [theme=dark] .colab-df-convert {\n",
              "      background-color: #3B4455;\n",
              "      fill: #D2E3FC;\n",
              "    }\n",
              "\n",
              "    [theme=dark] .colab-df-convert:hover {\n",
              "      background-color: #434B5C;\n",
              "      box-shadow: 0px 1px 3px 1px rgba(0, 0, 0, 0.15);\n",
              "      filter: drop-shadow(0px 1px 2px rgba(0, 0, 0, 0.3));\n",
              "      fill: #FFFFFF;\n",
              "    }\n",
              "  </style>\n",
              "\n",
              "      <script>\n",
              "        const buttonEl =\n",
              "          document.querySelector('#df-07e1b036-06c2-4b17-bb3f-96cc038b65e2 button.colab-df-convert');\n",
              "        buttonEl.style.display =\n",
              "          google.colab.kernel.accessAllowed ? 'block' : 'none';\n",
              "\n",
              "        async function convertToInteractive(key) {\n",
              "          const element = document.querySelector('#df-07e1b036-06c2-4b17-bb3f-96cc038b65e2');\n",
              "          const dataTable =\n",
              "            await google.colab.kernel.invokeFunction('convertToInteractive',\n",
              "                                                     [key], {});\n",
              "          if (!dataTable) return;\n",
              "\n",
              "          const docLinkHtml = 'Like what you see? Visit the ' +\n",
              "            '<a target=\"_blank\" href=https://colab.research.google.com/notebooks/data_table.ipynb>data table notebook</a>'\n",
              "            + ' to learn more about interactive tables.';\n",
              "          element.innerHTML = '';\n",
              "          dataTable['output_type'] = 'display_data';\n",
              "          await google.colab.output.renderOutput(dataTable, element);\n",
              "          const docLink = document.createElement('div');\n",
              "          docLink.innerHTML = docLinkHtml;\n",
              "          element.appendChild(docLink);\n",
              "        }\n",
              "      </script>\n",
              "    </div>\n",
              "  </div>\n",
              "  "
            ]
          },
          "metadata": {},
          "execution_count": 8
        }
      ],
      "source": [
        "# printing the first 5 rows of the dataframe\n",
        "train_class_labels.head()"
      ]
    },
    {
      "cell_type": "code",
      "execution_count": 9,
      "metadata": {
        "id": "FK83AOAzUPYe",
        "colab": {
          "base_uri": "https://localhost:8080/"
        },
        "outputId": "782c548c-fafb-4e79-f1d8-de05831c3b74"
      },
      "outputs": [
        {
          "output_type": "execute_result",
          "data": {
            "text/plain": [
              "(2026, 2)"
            ]
          },
          "metadata": {},
          "execution_count": 9
        }
      ],
      "source": [
        "# number of rows and columns\n",
        "train_class_labels.shape"
      ]
    },
    {
      "cell_type": "markdown",
      "metadata": {
        "id": "81i7tTgpUUnH"
      },
      "source": [
        "Now we are going to merge the two datasets"
      ]
    },
    {
      "cell_type": "code",
      "execution_count": 10,
      "metadata": {
        "id": "vg0Vmwd_UUPK"
      },
      "outputs": [],
      "source": [
        "score_dataset = pd.merge(train,train_class_labels)"
      ]
    },
    {
      "cell_type": "code",
      "execution_count": 11,
      "metadata": {
        "id": "MuzFSb2lVZI1",
        "colab": {
          "base_uri": "https://localhost:8080/",
          "height": 374
        },
        "outputId": "59640f89-8116-45d4-d070-7ac384665d2c"
      },
      "outputs": [
        {
          "output_type": "execute_result",
          "data": {
            "text/plain": [
              "    any school school_setting school_type classroom teaching_method  \\\n",
              "0  1180  OJOBU          Rural      Public       6U9        Standard   \n",
              "1   564  GJJHK       Suburban      Public       X78        Standard   \n",
              "2    39  ANKYI          Urban  Non-public       ZNS        Standard   \n",
              "3  1444  UAGPU       Suburban      Public       NWZ        Standard   \n",
              "4  1330  QOQTS          Urban      Public       SUR        Standard   \n",
              "\n",
              "   n_student student_id  gender                             lunch  pretest  \\\n",
              "0         22      KG40V  Female                  Does not qualify       53   \n",
              "1         21      SJ05X  Female  Qualifies for reduced/free lunch       54   \n",
              "2         21      VKX2N  Female                  Does not qualify       62   \n",
              "3         21      V9D0M  Female                  Does not qualify       58   \n",
              "4         28      SDWCT  Female                  Does not qualify       52   \n",
              "\n",
              "   posttest  \n",
              "0        62  \n",
              "1        69  \n",
              "2        72  \n",
              "3        69  \n",
              "4        59  "
            ],
            "text/html": [
              "\n",
              "  <div id=\"df-d243fdb4-3656-41b9-85e6-9f983825c4ec\">\n",
              "    <div class=\"colab-df-container\">\n",
              "      <div>\n",
              "<style scoped>\n",
              "    .dataframe tbody tr th:only-of-type {\n",
              "        vertical-align: middle;\n",
              "    }\n",
              "\n",
              "    .dataframe tbody tr th {\n",
              "        vertical-align: top;\n",
              "    }\n",
              "\n",
              "    .dataframe thead th {\n",
              "        text-align: right;\n",
              "    }\n",
              "</style>\n",
              "<table border=\"1\" class=\"dataframe\">\n",
              "  <thead>\n",
              "    <tr style=\"text-align: right;\">\n",
              "      <th></th>\n",
              "      <th>any</th>\n",
              "      <th>school</th>\n",
              "      <th>school_setting</th>\n",
              "      <th>school_type</th>\n",
              "      <th>classroom</th>\n",
              "      <th>teaching_method</th>\n",
              "      <th>n_student</th>\n",
              "      <th>student_id</th>\n",
              "      <th>gender</th>\n",
              "      <th>lunch</th>\n",
              "      <th>pretest</th>\n",
              "      <th>posttest</th>\n",
              "    </tr>\n",
              "  </thead>\n",
              "  <tbody>\n",
              "    <tr>\n",
              "      <th>0</th>\n",
              "      <td>1180</td>\n",
              "      <td>OJOBU</td>\n",
              "      <td>Rural</td>\n",
              "      <td>Public</td>\n",
              "      <td>6U9</td>\n",
              "      <td>Standard</td>\n",
              "      <td>22</td>\n",
              "      <td>KG40V</td>\n",
              "      <td>Female</td>\n",
              "      <td>Does not qualify</td>\n",
              "      <td>53</td>\n",
              "      <td>62</td>\n",
              "    </tr>\n",
              "    <tr>\n",
              "      <th>1</th>\n",
              "      <td>564</td>\n",
              "      <td>GJJHK</td>\n",
              "      <td>Suburban</td>\n",
              "      <td>Public</td>\n",
              "      <td>X78</td>\n",
              "      <td>Standard</td>\n",
              "      <td>21</td>\n",
              "      <td>SJ05X</td>\n",
              "      <td>Female</td>\n",
              "      <td>Qualifies for reduced/free lunch</td>\n",
              "      <td>54</td>\n",
              "      <td>69</td>\n",
              "    </tr>\n",
              "    <tr>\n",
              "      <th>2</th>\n",
              "      <td>39</td>\n",
              "      <td>ANKYI</td>\n",
              "      <td>Urban</td>\n",
              "      <td>Non-public</td>\n",
              "      <td>ZNS</td>\n",
              "      <td>Standard</td>\n",
              "      <td>21</td>\n",
              "      <td>VKX2N</td>\n",
              "      <td>Female</td>\n",
              "      <td>Does not qualify</td>\n",
              "      <td>62</td>\n",
              "      <td>72</td>\n",
              "    </tr>\n",
              "    <tr>\n",
              "      <th>3</th>\n",
              "      <td>1444</td>\n",
              "      <td>UAGPU</td>\n",
              "      <td>Suburban</td>\n",
              "      <td>Public</td>\n",
              "      <td>NWZ</td>\n",
              "      <td>Standard</td>\n",
              "      <td>21</td>\n",
              "      <td>V9D0M</td>\n",
              "      <td>Female</td>\n",
              "      <td>Does not qualify</td>\n",
              "      <td>58</td>\n",
              "      <td>69</td>\n",
              "    </tr>\n",
              "    <tr>\n",
              "      <th>4</th>\n",
              "      <td>1330</td>\n",
              "      <td>QOQTS</td>\n",
              "      <td>Urban</td>\n",
              "      <td>Public</td>\n",
              "      <td>SUR</td>\n",
              "      <td>Standard</td>\n",
              "      <td>28</td>\n",
              "      <td>SDWCT</td>\n",
              "      <td>Female</td>\n",
              "      <td>Does not qualify</td>\n",
              "      <td>52</td>\n",
              "      <td>59</td>\n",
              "    </tr>\n",
              "  </tbody>\n",
              "</table>\n",
              "</div>\n",
              "      <button class=\"colab-df-convert\" onclick=\"convertToInteractive('df-d243fdb4-3656-41b9-85e6-9f983825c4ec')\"\n",
              "              title=\"Convert this dataframe to an interactive table.\"\n",
              "              style=\"display:none;\">\n",
              "        \n",
              "  <svg xmlns=\"http://www.w3.org/2000/svg\" height=\"24px\"viewBox=\"0 0 24 24\"\n",
              "       width=\"24px\">\n",
              "    <path d=\"M0 0h24v24H0V0z\" fill=\"none\"/>\n",
              "    <path d=\"M18.56 5.44l.94 2.06.94-2.06 2.06-.94-2.06-.94-.94-2.06-.94 2.06-2.06.94zm-11 1L8.5 8.5l.94-2.06 2.06-.94-2.06-.94L8.5 2.5l-.94 2.06-2.06.94zm10 10l.94 2.06.94-2.06 2.06-.94-2.06-.94-.94-2.06-.94 2.06-2.06.94z\"/><path d=\"M17.41 7.96l-1.37-1.37c-.4-.4-.92-.59-1.43-.59-.52 0-1.04.2-1.43.59L10.3 9.45l-7.72 7.72c-.78.78-.78 2.05 0 2.83L4 21.41c.39.39.9.59 1.41.59.51 0 1.02-.2 1.41-.59l7.78-7.78 2.81-2.81c.8-.78.8-2.07 0-2.86zM5.41 20L4 18.59l7.72-7.72 1.47 1.35L5.41 20z\"/>\n",
              "  </svg>\n",
              "      </button>\n",
              "      \n",
              "  <style>\n",
              "    .colab-df-container {\n",
              "      display:flex;\n",
              "      flex-wrap:wrap;\n",
              "      gap: 12px;\n",
              "    }\n",
              "\n",
              "    .colab-df-convert {\n",
              "      background-color: #E8F0FE;\n",
              "      border: none;\n",
              "      border-radius: 50%;\n",
              "      cursor: pointer;\n",
              "      display: none;\n",
              "      fill: #1967D2;\n",
              "      height: 32px;\n",
              "      padding: 0 0 0 0;\n",
              "      width: 32px;\n",
              "    }\n",
              "\n",
              "    .colab-df-convert:hover {\n",
              "      background-color: #E2EBFA;\n",
              "      box-shadow: 0px 1px 2px rgba(60, 64, 67, 0.3), 0px 1px 3px 1px rgba(60, 64, 67, 0.15);\n",
              "      fill: #174EA6;\n",
              "    }\n",
              "\n",
              "    [theme=dark] .colab-df-convert {\n",
              "      background-color: #3B4455;\n",
              "      fill: #D2E3FC;\n",
              "    }\n",
              "\n",
              "    [theme=dark] .colab-df-convert:hover {\n",
              "      background-color: #434B5C;\n",
              "      box-shadow: 0px 1px 3px 1px rgba(0, 0, 0, 0.15);\n",
              "      filter: drop-shadow(0px 1px 2px rgba(0, 0, 0, 0.3));\n",
              "      fill: #FFFFFF;\n",
              "    }\n",
              "  </style>\n",
              "\n",
              "      <script>\n",
              "        const buttonEl =\n",
              "          document.querySelector('#df-d243fdb4-3656-41b9-85e6-9f983825c4ec button.colab-df-convert');\n",
              "        buttonEl.style.display =\n",
              "          google.colab.kernel.accessAllowed ? 'block' : 'none';\n",
              "\n",
              "        async function convertToInteractive(key) {\n",
              "          const element = document.querySelector('#df-d243fdb4-3656-41b9-85e6-9f983825c4ec');\n",
              "          const dataTable =\n",
              "            await google.colab.kernel.invokeFunction('convertToInteractive',\n",
              "                                                     [key], {});\n",
              "          if (!dataTable) return;\n",
              "\n",
              "          const docLinkHtml = 'Like what you see? Visit the ' +\n",
              "            '<a target=\"_blank\" href=https://colab.research.google.com/notebooks/data_table.ipynb>data table notebook</a>'\n",
              "            + ' to learn more about interactive tables.';\n",
              "          element.innerHTML = '';\n",
              "          dataTable['output_type'] = 'display_data';\n",
              "          await google.colab.output.renderOutput(dataTable, element);\n",
              "          const docLink = document.createElement('div');\n",
              "          docLink.innerHTML = docLinkHtml;\n",
              "          element.appendChild(docLink);\n",
              "        }\n",
              "      </script>\n",
              "    </div>\n",
              "  </div>\n",
              "  "
            ]
          },
          "metadata": {},
          "execution_count": 11
        }
      ],
      "source": [
        "# printing the first 5 rows of the dataframe\n",
        "score_dataset.head()"
      ]
    },
    {
      "cell_type": "code",
      "execution_count": 12,
      "metadata": {
        "id": "F6zEXLWjWXgC",
        "colab": {
          "base_uri": "https://localhost:8080/",
          "height": 426
        },
        "outputId": "2eea2d79-335e-4239-8442-993a17540844"
      },
      "outputs": [
        {
          "output_type": "execute_result",
          "data": {
            "text/plain": [
              "       any school school_setting school_type classroom teaching_method  \\\n",
              "2021  1033  KZKKE          Rural      Public       5JK        Standard   \n",
              "2022  1731  VHDHF          Rural  Non-public       KR1    Experimental   \n",
              "2023   763  GOOBU          Urban      Public       HKF        Standard   \n",
              "2024   835  GOOBU          Urban      Public       W8A    Experimental   \n",
              "2025  1653  UUUQX       Suburban  Non-public       P8I        Standard   \n",
              "\n",
              "      n_student student_id  gender                             lunch  pretest  \\\n",
              "2021         24      BC0AI    Male  Qualifies for reduced/free lunch       33   \n",
              "2022         15      UV4VL    Male  Qualifies for reduced/free lunch       53   \n",
              "2023         28      ZDEIJ  Female  Qualifies for reduced/free lunch       33   \n",
              "2024         26      RDNR9    Male  Qualifies for reduced/free lunch       36   \n",
              "2025         20      8RSUD  Female                  Does not qualify       65   \n",
              "\n",
              "      posttest  \n",
              "2021        45  \n",
              "2022        68  \n",
              "2023        40  \n",
              "2024        51  \n",
              "2025        78  "
            ],
            "text/html": [
              "\n",
              "  <div id=\"df-5e1a884d-b89c-4efa-bb31-419c59054cd2\">\n",
              "    <div class=\"colab-df-container\">\n",
              "      <div>\n",
              "<style scoped>\n",
              "    .dataframe tbody tr th:only-of-type {\n",
              "        vertical-align: middle;\n",
              "    }\n",
              "\n",
              "    .dataframe tbody tr th {\n",
              "        vertical-align: top;\n",
              "    }\n",
              "\n",
              "    .dataframe thead th {\n",
              "        text-align: right;\n",
              "    }\n",
              "</style>\n",
              "<table border=\"1\" class=\"dataframe\">\n",
              "  <thead>\n",
              "    <tr style=\"text-align: right;\">\n",
              "      <th></th>\n",
              "      <th>any</th>\n",
              "      <th>school</th>\n",
              "      <th>school_setting</th>\n",
              "      <th>school_type</th>\n",
              "      <th>classroom</th>\n",
              "      <th>teaching_method</th>\n",
              "      <th>n_student</th>\n",
              "      <th>student_id</th>\n",
              "      <th>gender</th>\n",
              "      <th>lunch</th>\n",
              "      <th>pretest</th>\n",
              "      <th>posttest</th>\n",
              "    </tr>\n",
              "  </thead>\n",
              "  <tbody>\n",
              "    <tr>\n",
              "      <th>2021</th>\n",
              "      <td>1033</td>\n",
              "      <td>KZKKE</td>\n",
              "      <td>Rural</td>\n",
              "      <td>Public</td>\n",
              "      <td>5JK</td>\n",
              "      <td>Standard</td>\n",
              "      <td>24</td>\n",
              "      <td>BC0AI</td>\n",
              "      <td>Male</td>\n",
              "      <td>Qualifies for reduced/free lunch</td>\n",
              "      <td>33</td>\n",
              "      <td>45</td>\n",
              "    </tr>\n",
              "    <tr>\n",
              "      <th>2022</th>\n",
              "      <td>1731</td>\n",
              "      <td>VHDHF</td>\n",
              "      <td>Rural</td>\n",
              "      <td>Non-public</td>\n",
              "      <td>KR1</td>\n",
              "      <td>Experimental</td>\n",
              "      <td>15</td>\n",
              "      <td>UV4VL</td>\n",
              "      <td>Male</td>\n",
              "      <td>Qualifies for reduced/free lunch</td>\n",
              "      <td>53</td>\n",
              "      <td>68</td>\n",
              "    </tr>\n",
              "    <tr>\n",
              "      <th>2023</th>\n",
              "      <td>763</td>\n",
              "      <td>GOOBU</td>\n",
              "      <td>Urban</td>\n",
              "      <td>Public</td>\n",
              "      <td>HKF</td>\n",
              "      <td>Standard</td>\n",
              "      <td>28</td>\n",
              "      <td>ZDEIJ</td>\n",
              "      <td>Female</td>\n",
              "      <td>Qualifies for reduced/free lunch</td>\n",
              "      <td>33</td>\n",
              "      <td>40</td>\n",
              "    </tr>\n",
              "    <tr>\n",
              "      <th>2024</th>\n",
              "      <td>835</td>\n",
              "      <td>GOOBU</td>\n",
              "      <td>Urban</td>\n",
              "      <td>Public</td>\n",
              "      <td>W8A</td>\n",
              "      <td>Experimental</td>\n",
              "      <td>26</td>\n",
              "      <td>RDNR9</td>\n",
              "      <td>Male</td>\n",
              "      <td>Qualifies for reduced/free lunch</td>\n",
              "      <td>36</td>\n",
              "      <td>51</td>\n",
              "    </tr>\n",
              "    <tr>\n",
              "      <th>2025</th>\n",
              "      <td>1653</td>\n",
              "      <td>UUUQX</td>\n",
              "      <td>Suburban</td>\n",
              "      <td>Non-public</td>\n",
              "      <td>P8I</td>\n",
              "      <td>Standard</td>\n",
              "      <td>20</td>\n",
              "      <td>8RSUD</td>\n",
              "      <td>Female</td>\n",
              "      <td>Does not qualify</td>\n",
              "      <td>65</td>\n",
              "      <td>78</td>\n",
              "    </tr>\n",
              "  </tbody>\n",
              "</table>\n",
              "</div>\n",
              "      <button class=\"colab-df-convert\" onclick=\"convertToInteractive('df-5e1a884d-b89c-4efa-bb31-419c59054cd2')\"\n",
              "              title=\"Convert this dataframe to an interactive table.\"\n",
              "              style=\"display:none;\">\n",
              "        \n",
              "  <svg xmlns=\"http://www.w3.org/2000/svg\" height=\"24px\"viewBox=\"0 0 24 24\"\n",
              "       width=\"24px\">\n",
              "    <path d=\"M0 0h24v24H0V0z\" fill=\"none\"/>\n",
              "    <path d=\"M18.56 5.44l.94 2.06.94-2.06 2.06-.94-2.06-.94-.94-2.06-.94 2.06-2.06.94zm-11 1L8.5 8.5l.94-2.06 2.06-.94-2.06-.94L8.5 2.5l-.94 2.06-2.06.94zm10 10l.94 2.06.94-2.06 2.06-.94-2.06-.94-.94-2.06-.94 2.06-2.06.94z\"/><path d=\"M17.41 7.96l-1.37-1.37c-.4-.4-.92-.59-1.43-.59-.52 0-1.04.2-1.43.59L10.3 9.45l-7.72 7.72c-.78.78-.78 2.05 0 2.83L4 21.41c.39.39.9.59 1.41.59.51 0 1.02-.2 1.41-.59l7.78-7.78 2.81-2.81c.8-.78.8-2.07 0-2.86zM5.41 20L4 18.59l7.72-7.72 1.47 1.35L5.41 20z\"/>\n",
              "  </svg>\n",
              "      </button>\n",
              "      \n",
              "  <style>\n",
              "    .colab-df-container {\n",
              "      display:flex;\n",
              "      flex-wrap:wrap;\n",
              "      gap: 12px;\n",
              "    }\n",
              "\n",
              "    .colab-df-convert {\n",
              "      background-color: #E8F0FE;\n",
              "      border: none;\n",
              "      border-radius: 50%;\n",
              "      cursor: pointer;\n",
              "      display: none;\n",
              "      fill: #1967D2;\n",
              "      height: 32px;\n",
              "      padding: 0 0 0 0;\n",
              "      width: 32px;\n",
              "    }\n",
              "\n",
              "    .colab-df-convert:hover {\n",
              "      background-color: #E2EBFA;\n",
              "      box-shadow: 0px 1px 2px rgba(60, 64, 67, 0.3), 0px 1px 3px 1px rgba(60, 64, 67, 0.15);\n",
              "      fill: #174EA6;\n",
              "    }\n",
              "\n",
              "    [theme=dark] .colab-df-convert {\n",
              "      background-color: #3B4455;\n",
              "      fill: #D2E3FC;\n",
              "    }\n",
              "\n",
              "    [theme=dark] .colab-df-convert:hover {\n",
              "      background-color: #434B5C;\n",
              "      box-shadow: 0px 1px 3px 1px rgba(0, 0, 0, 0.15);\n",
              "      filter: drop-shadow(0px 1px 2px rgba(0, 0, 0, 0.3));\n",
              "      fill: #FFFFFF;\n",
              "    }\n",
              "  </style>\n",
              "\n",
              "      <script>\n",
              "        const buttonEl =\n",
              "          document.querySelector('#df-5e1a884d-b89c-4efa-bb31-419c59054cd2 button.colab-df-convert');\n",
              "        buttonEl.style.display =\n",
              "          google.colab.kernel.accessAllowed ? 'block' : 'none';\n",
              "\n",
              "        async function convertToInteractive(key) {\n",
              "          const element = document.querySelector('#df-5e1a884d-b89c-4efa-bb31-419c59054cd2');\n",
              "          const dataTable =\n",
              "            await google.colab.kernel.invokeFunction('convertToInteractive',\n",
              "                                                     [key], {});\n",
              "          if (!dataTable) return;\n",
              "\n",
              "          const docLinkHtml = 'Like what you see? Visit the ' +\n",
              "            '<a target=\"_blank\" href=https://colab.research.google.com/notebooks/data_table.ipynb>data table notebook</a>'\n",
              "            + ' to learn more about interactive tables.';\n",
              "          element.innerHTML = '';\n",
              "          dataTable['output_type'] = 'display_data';\n",
              "          await google.colab.output.renderOutput(dataTable, element);\n",
              "          const docLink = document.createElement('div');\n",
              "          docLink.innerHTML = docLinkHtml;\n",
              "          element.appendChild(docLink);\n",
              "        }\n",
              "      </script>\n",
              "    </div>\n",
              "  </div>\n",
              "  "
            ]
          },
          "metadata": {},
          "execution_count": 12
        }
      ],
      "source": [
        "# printing the last 5 rows of the dataframe\n",
        "score_dataset.tail()"
      ]
    },
    {
      "cell_type": "code",
      "execution_count": 13,
      "metadata": {
        "id": "lzdmKZbYXLDd",
        "colab": {
          "base_uri": "https://localhost:8080/"
        },
        "outputId": "67940448-4dd6-4f6b-9bf7-fe3320954ed4"
      },
      "outputs": [
        {
          "output_type": "execute_result",
          "data": {
            "text/plain": [
              "(2026, 12)"
            ]
          },
          "metadata": {},
          "execution_count": 13
        }
      ],
      "source": [
        "# number of rows and columns\n",
        "score_dataset.shape"
      ]
    },
    {
      "cell_type": "markdown",
      "metadata": {
        "id": "6hp6UwG0eOnw"
      },
      "source": [
        "Now we are going to remove the first column as that is just a Serial/any number and the student_id column as it has all unique values."
      ]
    },
    {
      "cell_type": "code",
      "execution_count": 14,
      "metadata": {
        "id": "_Yf9A8nPfMuK"
      },
      "outputs": [],
      "source": [
        "# drop the \"any\" column from the dataFrame\n",
        "score_dataset = score_dataset.drop(columns='any', axis=1)"
      ]
    },
    {
      "cell_type": "code",
      "source": [
        "# drop the \"student_id\" column from the dataFrame\n",
        "score_dataset = score_dataset.drop(columns='student_id', axis=1)"
      ],
      "metadata": {
        "id": "3hYu7hirAlcO"
      },
      "execution_count": 15,
      "outputs": []
    },
    {
      "cell_type": "code",
      "execution_count": 16,
      "metadata": {
        "id": "ttYryPGcfT4w",
        "colab": {
          "base_uri": "https://localhost:8080/"
        },
        "outputId": "d91b60bf-5006-4925-82b2-56082c5472a2"
      },
      "outputs": [
        {
          "output_type": "execute_result",
          "data": {
            "text/plain": [
              "(2026, 10)"
            ]
          },
          "metadata": {},
          "execution_count": 16
        }
      ],
      "source": [
        "# number of rows and columns\n",
        "score_dataset.shape"
      ]
    },
    {
      "cell_type": "code",
      "execution_count": 17,
      "metadata": {
        "id": "75-mb-H1YjlB",
        "colab": {
          "base_uri": "https://localhost:8080/"
        },
        "outputId": "a9e6476f-f76c-4832-e538-2b3fd8a58bcb"
      },
      "outputs": [
        {
          "output_type": "execute_result",
          "data": {
            "text/plain": [
              "Index(['school', 'school_setting', 'school_type', 'classroom',\n",
              "       'teaching_method', 'n_student', 'gender', 'lunch', 'pretest',\n",
              "       'posttest'],\n",
              "      dtype='object')"
            ]
          },
          "metadata": {},
          "execution_count": 17
        }
      ],
      "source": [
        "score_dataset.columns"
      ]
    },
    {
      "cell_type": "code",
      "execution_count": 18,
      "metadata": {
        "id": "VjFxgsaZOiAq",
        "colab": {
          "base_uri": "https://localhost:8080/"
        },
        "outputId": "b2b96819-1d20-4c38-dba6-1728c582a043"
      },
      "outputs": [
        {
          "output_type": "stream",
          "name": "stdout",
          "text": [
            "<class 'pandas.core.frame.DataFrame'>\n",
            "Int64Index: 2026 entries, 0 to 2025\n",
            "Data columns (total 10 columns):\n",
            " #   Column           Non-Null Count  Dtype \n",
            "---  ------           --------------  ----- \n",
            " 0   school           2026 non-null   object\n",
            " 1   school_setting   2026 non-null   object\n",
            " 2   school_type      2026 non-null   object\n",
            " 3   classroom        2026 non-null   object\n",
            " 4   teaching_method  2026 non-null   object\n",
            " 5   n_student        2026 non-null   int64 \n",
            " 6   gender           2026 non-null   object\n",
            " 7   lunch            2026 non-null   object\n",
            " 8   pretest          2026 non-null   int64 \n",
            " 9   posttest         2026 non-null   int64 \n",
            "dtypes: int64(3), object(7)\n",
            "memory usage: 174.1+ KB\n"
          ]
        }
      ],
      "source": [
        "score_dataset.info()"
      ]
    },
    {
      "cell_type": "markdown",
      "metadata": {
        "id": "94BOx7SlZewz"
      },
      "source": [
        "From the above, we can see that there are 3 numerical column and 7 categorical column"
      ]
    },
    {
      "cell_type": "code",
      "execution_count": 20,
      "metadata": {
        "id": "hSOc7jHSOk3O",
        "colab": {
          "base_uri": "https://localhost:8080/",
          "height": 300
        },
        "outputId": "b8244e49-5dc6-4b53-f592-e1e8284d189a"
      },
      "outputs": [
        {
          "output_type": "execute_result",
          "data": {
            "text/plain": [
              "         n_student      pretest     posttest\n",
              "count  2026.000000  2026.000000  2026.000000\n",
              "mean     22.776407    54.974827    67.099704\n",
              "std       4.226998    13.611210    14.043352\n",
              "min      14.000000    22.000000    32.000000\n",
              "25%      20.000000    44.000000    56.000000\n",
              "50%      22.000000    56.000000    68.000000\n",
              "75%      27.000000    65.000000    77.000000\n",
              "max      31.000000    93.000000   100.000000"
            ],
            "text/html": [
              "\n",
              "  <div id=\"df-30093c3c-1398-4e17-8bc6-100fcede6b17\">\n",
              "    <div class=\"colab-df-container\">\n",
              "      <div>\n",
              "<style scoped>\n",
              "    .dataframe tbody tr th:only-of-type {\n",
              "        vertical-align: middle;\n",
              "    }\n",
              "\n",
              "    .dataframe tbody tr th {\n",
              "        vertical-align: top;\n",
              "    }\n",
              "\n",
              "    .dataframe thead th {\n",
              "        text-align: right;\n",
              "    }\n",
              "</style>\n",
              "<table border=\"1\" class=\"dataframe\">\n",
              "  <thead>\n",
              "    <tr style=\"text-align: right;\">\n",
              "      <th></th>\n",
              "      <th>n_student</th>\n",
              "      <th>pretest</th>\n",
              "      <th>posttest</th>\n",
              "    </tr>\n",
              "  </thead>\n",
              "  <tbody>\n",
              "    <tr>\n",
              "      <th>count</th>\n",
              "      <td>2026.000000</td>\n",
              "      <td>2026.000000</td>\n",
              "      <td>2026.000000</td>\n",
              "    </tr>\n",
              "    <tr>\n",
              "      <th>mean</th>\n",
              "      <td>22.776407</td>\n",
              "      <td>54.974827</td>\n",
              "      <td>67.099704</td>\n",
              "    </tr>\n",
              "    <tr>\n",
              "      <th>std</th>\n",
              "      <td>4.226998</td>\n",
              "      <td>13.611210</td>\n",
              "      <td>14.043352</td>\n",
              "    </tr>\n",
              "    <tr>\n",
              "      <th>min</th>\n",
              "      <td>14.000000</td>\n",
              "      <td>22.000000</td>\n",
              "      <td>32.000000</td>\n",
              "    </tr>\n",
              "    <tr>\n",
              "      <th>25%</th>\n",
              "      <td>20.000000</td>\n",
              "      <td>44.000000</td>\n",
              "      <td>56.000000</td>\n",
              "    </tr>\n",
              "    <tr>\n",
              "      <th>50%</th>\n",
              "      <td>22.000000</td>\n",
              "      <td>56.000000</td>\n",
              "      <td>68.000000</td>\n",
              "    </tr>\n",
              "    <tr>\n",
              "      <th>75%</th>\n",
              "      <td>27.000000</td>\n",
              "      <td>65.000000</td>\n",
              "      <td>77.000000</td>\n",
              "    </tr>\n",
              "    <tr>\n",
              "      <th>max</th>\n",
              "      <td>31.000000</td>\n",
              "      <td>93.000000</td>\n",
              "      <td>100.000000</td>\n",
              "    </tr>\n",
              "  </tbody>\n",
              "</table>\n",
              "</div>\n",
              "      <button class=\"colab-df-convert\" onclick=\"convertToInteractive('df-30093c3c-1398-4e17-8bc6-100fcede6b17')\"\n",
              "              title=\"Convert this dataframe to an interactive table.\"\n",
              "              style=\"display:none;\">\n",
              "        \n",
              "  <svg xmlns=\"http://www.w3.org/2000/svg\" height=\"24px\"viewBox=\"0 0 24 24\"\n",
              "       width=\"24px\">\n",
              "    <path d=\"M0 0h24v24H0V0z\" fill=\"none\"/>\n",
              "    <path d=\"M18.56 5.44l.94 2.06.94-2.06 2.06-.94-2.06-.94-.94-2.06-.94 2.06-2.06.94zm-11 1L8.5 8.5l.94-2.06 2.06-.94-2.06-.94L8.5 2.5l-.94 2.06-2.06.94zm10 10l.94 2.06.94-2.06 2.06-.94-2.06-.94-.94-2.06-.94 2.06-2.06.94z\"/><path d=\"M17.41 7.96l-1.37-1.37c-.4-.4-.92-.59-1.43-.59-.52 0-1.04.2-1.43.59L10.3 9.45l-7.72 7.72c-.78.78-.78 2.05 0 2.83L4 21.41c.39.39.9.59 1.41.59.51 0 1.02-.2 1.41-.59l7.78-7.78 2.81-2.81c.8-.78.8-2.07 0-2.86zM5.41 20L4 18.59l7.72-7.72 1.47 1.35L5.41 20z\"/>\n",
              "  </svg>\n",
              "      </button>\n",
              "      \n",
              "  <style>\n",
              "    .colab-df-container {\n",
              "      display:flex;\n",
              "      flex-wrap:wrap;\n",
              "      gap: 12px;\n",
              "    }\n",
              "\n",
              "    .colab-df-convert {\n",
              "      background-color: #E8F0FE;\n",
              "      border: none;\n",
              "      border-radius: 50%;\n",
              "      cursor: pointer;\n",
              "      display: none;\n",
              "      fill: #1967D2;\n",
              "      height: 32px;\n",
              "      padding: 0 0 0 0;\n",
              "      width: 32px;\n",
              "    }\n",
              "\n",
              "    .colab-df-convert:hover {\n",
              "      background-color: #E2EBFA;\n",
              "      box-shadow: 0px 1px 2px rgba(60, 64, 67, 0.3), 0px 1px 3px 1px rgba(60, 64, 67, 0.15);\n",
              "      fill: #174EA6;\n",
              "    }\n",
              "\n",
              "    [theme=dark] .colab-df-convert {\n",
              "      background-color: #3B4455;\n",
              "      fill: #D2E3FC;\n",
              "    }\n",
              "\n",
              "    [theme=dark] .colab-df-convert:hover {\n",
              "      background-color: #434B5C;\n",
              "      box-shadow: 0px 1px 3px 1px rgba(0, 0, 0, 0.15);\n",
              "      filter: drop-shadow(0px 1px 2px rgba(0, 0, 0, 0.3));\n",
              "      fill: #FFFFFF;\n",
              "    }\n",
              "  </style>\n",
              "\n",
              "      <script>\n",
              "        const buttonEl =\n",
              "          document.querySelector('#df-30093c3c-1398-4e17-8bc6-100fcede6b17 button.colab-df-convert');\n",
              "        buttonEl.style.display =\n",
              "          google.colab.kernel.accessAllowed ? 'block' : 'none';\n",
              "\n",
              "        async function convertToInteractive(key) {\n",
              "          const element = document.querySelector('#df-30093c3c-1398-4e17-8bc6-100fcede6b17');\n",
              "          const dataTable =\n",
              "            await google.colab.kernel.invokeFunction('convertToInteractive',\n",
              "                                                     [key], {});\n",
              "          if (!dataTable) return;\n",
              "\n",
              "          const docLinkHtml = 'Like what you see? Visit the ' +\n",
              "            '<a target=\"_blank\" href=https://colab.research.google.com/notebooks/data_table.ipynb>data table notebook</a>'\n",
              "            + ' to learn more about interactive tables.';\n",
              "          element.innerHTML = '';\n",
              "          dataTable['output_type'] = 'display_data';\n",
              "          await google.colab.output.renderOutput(dataTable, element);\n",
              "          const docLink = document.createElement('div');\n",
              "          docLink.innerHTML = docLinkHtml;\n",
              "          element.appendChild(docLink);\n",
              "        }\n",
              "      </script>\n",
              "    </div>\n",
              "  </div>\n",
              "  "
            ]
          },
          "metadata": {},
          "execution_count": 20
        }
      ],
      "source": [
        "# statistical measures\n",
        "score_dataset.describe()"
      ]
    },
    {
      "cell_type": "code",
      "execution_count": 21,
      "metadata": {
        "id": "X4NymYPt6Avq",
        "colab": {
          "base_uri": "https://localhost:8080/",
          "height": 143
        },
        "outputId": "f59974ad-e986-407a-b9dd-897f983272fa"
      },
      "outputs": [
        {
          "output_type": "execute_result",
          "data": {
            "text/plain": [
              "            count       mean        std   min   25%   50%   75%    max\n",
              "n_student  2026.0  22.776407   4.226998  14.0  20.0  22.0  27.0   31.0\n",
              "pretest    2026.0  54.974827  13.611210  22.0  44.0  56.0  65.0   93.0\n",
              "posttest   2026.0  67.099704  14.043352  32.0  56.0  68.0  77.0  100.0"
            ],
            "text/html": [
              "\n",
              "  <div id=\"df-5e4bfe11-1b95-4e38-b13e-15e7f8acf6b5\">\n",
              "    <div class=\"colab-df-container\">\n",
              "      <div>\n",
              "<style scoped>\n",
              "    .dataframe tbody tr th:only-of-type {\n",
              "        vertical-align: middle;\n",
              "    }\n",
              "\n",
              "    .dataframe tbody tr th {\n",
              "        vertical-align: top;\n",
              "    }\n",
              "\n",
              "    .dataframe thead th {\n",
              "        text-align: right;\n",
              "    }\n",
              "</style>\n",
              "<table border=\"1\" class=\"dataframe\">\n",
              "  <thead>\n",
              "    <tr style=\"text-align: right;\">\n",
              "      <th></th>\n",
              "      <th>count</th>\n",
              "      <th>mean</th>\n",
              "      <th>std</th>\n",
              "      <th>min</th>\n",
              "      <th>25%</th>\n",
              "      <th>50%</th>\n",
              "      <th>75%</th>\n",
              "      <th>max</th>\n",
              "    </tr>\n",
              "  </thead>\n",
              "  <tbody>\n",
              "    <tr>\n",
              "      <th>n_student</th>\n",
              "      <td>2026.0</td>\n",
              "      <td>22.776407</td>\n",
              "      <td>4.226998</td>\n",
              "      <td>14.0</td>\n",
              "      <td>20.0</td>\n",
              "      <td>22.0</td>\n",
              "      <td>27.0</td>\n",
              "      <td>31.0</td>\n",
              "    </tr>\n",
              "    <tr>\n",
              "      <th>pretest</th>\n",
              "      <td>2026.0</td>\n",
              "      <td>54.974827</td>\n",
              "      <td>13.611210</td>\n",
              "      <td>22.0</td>\n",
              "      <td>44.0</td>\n",
              "      <td>56.0</td>\n",
              "      <td>65.0</td>\n",
              "      <td>93.0</td>\n",
              "    </tr>\n",
              "    <tr>\n",
              "      <th>posttest</th>\n",
              "      <td>2026.0</td>\n",
              "      <td>67.099704</td>\n",
              "      <td>14.043352</td>\n",
              "      <td>32.0</td>\n",
              "      <td>56.0</td>\n",
              "      <td>68.0</td>\n",
              "      <td>77.0</td>\n",
              "      <td>100.0</td>\n",
              "    </tr>\n",
              "  </tbody>\n",
              "</table>\n",
              "</div>\n",
              "      <button class=\"colab-df-convert\" onclick=\"convertToInteractive('df-5e4bfe11-1b95-4e38-b13e-15e7f8acf6b5')\"\n",
              "              title=\"Convert this dataframe to an interactive table.\"\n",
              "              style=\"display:none;\">\n",
              "        \n",
              "  <svg xmlns=\"http://www.w3.org/2000/svg\" height=\"24px\"viewBox=\"0 0 24 24\"\n",
              "       width=\"24px\">\n",
              "    <path d=\"M0 0h24v24H0V0z\" fill=\"none\"/>\n",
              "    <path d=\"M18.56 5.44l.94 2.06.94-2.06 2.06-.94-2.06-.94-.94-2.06-.94 2.06-2.06.94zm-11 1L8.5 8.5l.94-2.06 2.06-.94-2.06-.94L8.5 2.5l-.94 2.06-2.06.94zm10 10l.94 2.06.94-2.06 2.06-.94-2.06-.94-.94-2.06-.94 2.06-2.06.94z\"/><path d=\"M17.41 7.96l-1.37-1.37c-.4-.4-.92-.59-1.43-.59-.52 0-1.04.2-1.43.59L10.3 9.45l-7.72 7.72c-.78.78-.78 2.05 0 2.83L4 21.41c.39.39.9.59 1.41.59.51 0 1.02-.2 1.41-.59l7.78-7.78 2.81-2.81c.8-.78.8-2.07 0-2.86zM5.41 20L4 18.59l7.72-7.72 1.47 1.35L5.41 20z\"/>\n",
              "  </svg>\n",
              "      </button>\n",
              "      \n",
              "  <style>\n",
              "    .colab-df-container {\n",
              "      display:flex;\n",
              "      flex-wrap:wrap;\n",
              "      gap: 12px;\n",
              "    }\n",
              "\n",
              "    .colab-df-convert {\n",
              "      background-color: #E8F0FE;\n",
              "      border: none;\n",
              "      border-radius: 50%;\n",
              "      cursor: pointer;\n",
              "      display: none;\n",
              "      fill: #1967D2;\n",
              "      height: 32px;\n",
              "      padding: 0 0 0 0;\n",
              "      width: 32px;\n",
              "    }\n",
              "\n",
              "    .colab-df-convert:hover {\n",
              "      background-color: #E2EBFA;\n",
              "      box-shadow: 0px 1px 2px rgba(60, 64, 67, 0.3), 0px 1px 3px 1px rgba(60, 64, 67, 0.15);\n",
              "      fill: #174EA6;\n",
              "    }\n",
              "\n",
              "    [theme=dark] .colab-df-convert {\n",
              "      background-color: #3B4455;\n",
              "      fill: #D2E3FC;\n",
              "    }\n",
              "\n",
              "    [theme=dark] .colab-df-convert:hover {\n",
              "      background-color: #434B5C;\n",
              "      box-shadow: 0px 1px 3px 1px rgba(0, 0, 0, 0.15);\n",
              "      filter: drop-shadow(0px 1px 2px rgba(0, 0, 0, 0.3));\n",
              "      fill: #FFFFFF;\n",
              "    }\n",
              "  </style>\n",
              "\n",
              "      <script>\n",
              "        const buttonEl =\n",
              "          document.querySelector('#df-5e4bfe11-1b95-4e38-b13e-15e7f8acf6b5 button.colab-df-convert');\n",
              "        buttonEl.style.display =\n",
              "          google.colab.kernel.accessAllowed ? 'block' : 'none';\n",
              "\n",
              "        async function convertToInteractive(key) {\n",
              "          const element = document.querySelector('#df-5e4bfe11-1b95-4e38-b13e-15e7f8acf6b5');\n",
              "          const dataTable =\n",
              "            await google.colab.kernel.invokeFunction('convertToInteractive',\n",
              "                                                     [key], {});\n",
              "          if (!dataTable) return;\n",
              "\n",
              "          const docLinkHtml = 'Like what you see? Visit the ' +\n",
              "            '<a target=\"_blank\" href=https://colab.research.google.com/notebooks/data_table.ipynb>data table notebook</a>'\n",
              "            + ' to learn more about interactive tables.';\n",
              "          element.innerHTML = '';\n",
              "          dataTable['output_type'] = 'display_data';\n",
              "          await google.colab.output.renderOutput(dataTable, element);\n",
              "          const docLink = document.createElement('div');\n",
              "          docLink.innerHTML = docLinkHtml;\n",
              "          element.appendChild(docLink);\n",
              "        }\n",
              "      </script>\n",
              "    </div>\n",
              "  </div>\n",
              "  "
            ]
          },
          "metadata": {},
          "execution_count": 21
        }
      ],
      "source": [
        "score_dataset.describe().transpose()"
      ]
    },
    {
      "cell_type": "code",
      "execution_count": 22,
      "metadata": {
        "id": "6O_GrPTgPH0Q",
        "colab": {
          "base_uri": "https://localhost:8080/"
        },
        "outputId": "18bec6e2-d908-437f-f7d6-ab77bda8bcfc"
      },
      "outputs": [
        {
          "output_type": "execute_result",
          "data": {
            "text/plain": [
              "school             0\n",
              "school_setting     0\n",
              "school_type        0\n",
              "classroom          0\n",
              "teaching_method    0\n",
              "n_student          0\n",
              "gender             0\n",
              "lunch              0\n",
              "pretest            0\n",
              "posttest           0\n",
              "dtype: int64"
            ]
          },
          "metadata": {},
          "execution_count": 22
        }
      ],
      "source": [
        "# number of missing values in each column\n",
        "score_dataset.isnull().sum()"
      ]
    },
    {
      "cell_type": "markdown",
      "metadata": {
        "id": "PRSomJPqgICh"
      },
      "source": [
        "# Handling the Missing values:"
      ]
    },
    {
      "cell_type": "markdown",
      "metadata": {
        "id": "5BqI_zAChGD3"
      },
      "source": [
        "Since there is no missing values in our data set."
      ]
    },
    {
      "cell_type": "markdown",
      "metadata": {
        "id": "fn_Dy-aybB3J"
      },
      "source": [
        "# Data Analysis and Data Visualization:"
      ]
    },
    {
      "cell_type": "markdown",
      "metadata": {
        "id": "5GFkUxmuWCxc"
      },
      "source": [
        "## For the Categorical Columns:"
      ]
    },
    {
      "cell_type": "markdown",
      "metadata": {
        "id": "5EMG1fnltaqp"
      },
      "source": [
        "Categorical Features:\n",
        "- school\n",
        "- school_setting\n",
        "- school_type\n",
        "- classroom\n",
        "- teaching_method\n",
        "- lunch\n",
        "- gender\n"
      ]
    },
    {
      "cell_type": "code",
      "execution_count": 23,
      "metadata": {
        "id": "yI2o3e5lSKn5",
        "colab": {
          "base_uri": "https://localhost:8080/"
        },
        "outputId": "1717f887-98bf-4ff1-cfe4-7d6b352effc2"
      },
      "outputs": [
        {
          "output_type": "stream",
          "name": "stdout",
          "text": [
            "-------------------\n",
            "school\n",
            "-------------------\n",
            "school  school_setting  school_type  classroom  teaching_method  n_student  gender  lunch                             pretest  posttest\n",
            "IDGFP   Urban           Non-public   05H        Standard         22         Male    Does not qualify                  74       85          5\n",
            "ZOWMK   Urban           Public       Q0E        Experimental     30         Female  Qualifies for reduced/free lunch  38       53          3\n",
            "KZKKE   Rural           Public       QTU        Standard         23         Male    Qualifies for reduced/free lunch  32       41          2\n",
            "OJOBU   Rural           Public       6U9        Standard         22         Male    Does not qualify                  47       58          2\n",
            "CIMBB   Urban           Non-public   EID        Standard         21         Female  Does not qualify                  69       79          2\n",
            "                                                                                                                                          ..\n",
            "GOOBU   Urban           Public       18K        Standard         31         Male    Qualifies for reduced/free lunch  48       58          1\n",
            "                                                                                                                               53          1\n",
            "                                                                                                                      47       53          1\n",
            "                                                                                                                      46       59          1\n",
            "ZOWMK   Urban           Public       ZBH        Standard         30         Male    Qualifies for reduced/free lunch  46       53          1\n",
            "Length: 1951, dtype: int64\n",
            "------------------------------------------------------------------\n",
            "-------------------\n",
            "school_setting\n",
            "-------------------\n",
            "school  school_setting  school_type  classroom  teaching_method  n_student  gender  lunch                             pretest  posttest\n",
            "IDGFP   Urban           Non-public   05H        Standard         22         Male    Does not qualify                  74       85          5\n",
            "ZOWMK   Urban           Public       Q0E        Experimental     30         Female  Qualifies for reduced/free lunch  38       53          3\n",
            "KZKKE   Rural           Public       QTU        Standard         23         Male    Qualifies for reduced/free lunch  32       41          2\n",
            "OJOBU   Rural           Public       6U9        Standard         22         Male    Does not qualify                  47       58          2\n",
            "CIMBB   Urban           Non-public   EID        Standard         21         Female  Does not qualify                  69       79          2\n",
            "                                                                                                                                          ..\n",
            "GOOBU   Urban           Public       18K        Standard         31         Male    Qualifies for reduced/free lunch  48       58          1\n",
            "                                                                                                                               53          1\n",
            "                                                                                                                      47       53          1\n",
            "                                                                                                                      46       59          1\n",
            "ZOWMK   Urban           Public       ZBH        Standard         30         Male    Qualifies for reduced/free lunch  46       53          1\n",
            "Length: 1951, dtype: int64\n",
            "------------------------------------------------------------------\n",
            "-------------------\n",
            "school_type\n",
            "-------------------\n",
            "school  school_setting  school_type  classroom  teaching_method  n_student  gender  lunch                             pretest  posttest\n",
            "IDGFP   Urban           Non-public   05H        Standard         22         Male    Does not qualify                  74       85          5\n",
            "ZOWMK   Urban           Public       Q0E        Experimental     30         Female  Qualifies for reduced/free lunch  38       53          3\n",
            "KZKKE   Rural           Public       QTU        Standard         23         Male    Qualifies for reduced/free lunch  32       41          2\n",
            "OJOBU   Rural           Public       6U9        Standard         22         Male    Does not qualify                  47       58          2\n",
            "CIMBB   Urban           Non-public   EID        Standard         21         Female  Does not qualify                  69       79          2\n",
            "                                                                                                                                          ..\n",
            "GOOBU   Urban           Public       18K        Standard         31         Male    Qualifies for reduced/free lunch  48       58          1\n",
            "                                                                                                                               53          1\n",
            "                                                                                                                      47       53          1\n",
            "                                                                                                                      46       59          1\n",
            "ZOWMK   Urban           Public       ZBH        Standard         30         Male    Qualifies for reduced/free lunch  46       53          1\n",
            "Length: 1951, dtype: int64\n",
            "------------------------------------------------------------------\n",
            "-------------------\n",
            "classroom\n",
            "-------------------\n",
            "school  school_setting  school_type  classroom  teaching_method  n_student  gender  lunch                             pretest  posttest\n",
            "IDGFP   Urban           Non-public   05H        Standard         22         Male    Does not qualify                  74       85          5\n",
            "ZOWMK   Urban           Public       Q0E        Experimental     30         Female  Qualifies for reduced/free lunch  38       53          3\n",
            "KZKKE   Rural           Public       QTU        Standard         23         Male    Qualifies for reduced/free lunch  32       41          2\n",
            "OJOBU   Rural           Public       6U9        Standard         22         Male    Does not qualify                  47       58          2\n",
            "CIMBB   Urban           Non-public   EID        Standard         21         Female  Does not qualify                  69       79          2\n",
            "                                                                                                                                          ..\n",
            "GOOBU   Urban           Public       18K        Standard         31         Male    Qualifies for reduced/free lunch  48       58          1\n",
            "                                                                                                                               53          1\n",
            "                                                                                                                      47       53          1\n",
            "                                                                                                                      46       59          1\n",
            "ZOWMK   Urban           Public       ZBH        Standard         30         Male    Qualifies for reduced/free lunch  46       53          1\n",
            "Length: 1951, dtype: int64\n",
            "------------------------------------------------------------------\n",
            "-------------------\n",
            "teaching_method\n",
            "-------------------\n",
            "school  school_setting  school_type  classroom  teaching_method  n_student  gender  lunch                             pretest  posttest\n",
            "IDGFP   Urban           Non-public   05H        Standard         22         Male    Does not qualify                  74       85          5\n",
            "ZOWMK   Urban           Public       Q0E        Experimental     30         Female  Qualifies for reduced/free lunch  38       53          3\n",
            "KZKKE   Rural           Public       QTU        Standard         23         Male    Qualifies for reduced/free lunch  32       41          2\n",
            "OJOBU   Rural           Public       6U9        Standard         22         Male    Does not qualify                  47       58          2\n",
            "CIMBB   Urban           Non-public   EID        Standard         21         Female  Does not qualify                  69       79          2\n",
            "                                                                                                                                          ..\n",
            "GOOBU   Urban           Public       18K        Standard         31         Male    Qualifies for reduced/free lunch  48       58          1\n",
            "                                                                                                                               53          1\n",
            "                                                                                                                      47       53          1\n",
            "                                                                                                                      46       59          1\n",
            "ZOWMK   Urban           Public       ZBH        Standard         30         Male    Qualifies for reduced/free lunch  46       53          1\n",
            "Length: 1951, dtype: int64\n",
            "------------------------------------------------------------------\n",
            "-------------------\n",
            "lunch\n",
            "-------------------\n",
            "school  school_setting  school_type  classroom  teaching_method  n_student  gender  lunch                             pretest  posttest\n",
            "IDGFP   Urban           Non-public   05H        Standard         22         Male    Does not qualify                  74       85          5\n",
            "ZOWMK   Urban           Public       Q0E        Experimental     30         Female  Qualifies for reduced/free lunch  38       53          3\n",
            "KZKKE   Rural           Public       QTU        Standard         23         Male    Qualifies for reduced/free lunch  32       41          2\n",
            "OJOBU   Rural           Public       6U9        Standard         22         Male    Does not qualify                  47       58          2\n",
            "CIMBB   Urban           Non-public   EID        Standard         21         Female  Does not qualify                  69       79          2\n",
            "                                                                                                                                          ..\n",
            "GOOBU   Urban           Public       18K        Standard         31         Male    Qualifies for reduced/free lunch  48       58          1\n",
            "                                                                                                                               53          1\n",
            "                                                                                                                      47       53          1\n",
            "                                                                                                                      46       59          1\n",
            "ZOWMK   Urban           Public       ZBH        Standard         30         Male    Qualifies for reduced/free lunch  46       53          1\n",
            "Length: 1951, dtype: int64\n",
            "------------------------------------------------------------------\n",
            "-------------------\n",
            "gender\n",
            "-------------------\n",
            "school  school_setting  school_type  classroom  teaching_method  n_student  gender  lunch                             pretest  posttest\n",
            "IDGFP   Urban           Non-public   05H        Standard         22         Male    Does not qualify                  74       85          5\n",
            "ZOWMK   Urban           Public       Q0E        Experimental     30         Female  Qualifies for reduced/free lunch  38       53          3\n",
            "KZKKE   Rural           Public       QTU        Standard         23         Male    Qualifies for reduced/free lunch  32       41          2\n",
            "OJOBU   Rural           Public       6U9        Standard         22         Male    Does not qualify                  47       58          2\n",
            "CIMBB   Urban           Non-public   EID        Standard         21         Female  Does not qualify                  69       79          2\n",
            "                                                                                                                                          ..\n",
            "GOOBU   Urban           Public       18K        Standard         31         Male    Qualifies for reduced/free lunch  48       58          1\n",
            "                                                                                                                               53          1\n",
            "                                                                                                                      47       53          1\n",
            "                                                                                                                      46       59          1\n",
            "ZOWMK   Urban           Public       ZBH        Standard         30         Male    Qualifies for reduced/free lunch  46       53          1\n",
            "Length: 1951, dtype: int64\n",
            "------------------------------------------------------------------\n"
          ]
        }
      ],
      "source": [
        "category_col=['school','school_setting','school_type', 'classroom', 'teaching_method', 'lunch', 'gender']\n",
        "l=[]\n",
        "for i in category_col:\n",
        "    print('-------------------')\n",
        "    print(i)\n",
        "    print('-------------------')\n",
        "    print((score_dataset.value_counts()))\n",
        "    print('------------------------------------------------------------------')\n"
      ]
    },
    {
      "cell_type": "code",
      "execution_count": 24,
      "metadata": {
        "id": "GMU33bnXcP5O",
        "colab": {
          "base_uri": "https://localhost:8080/",
          "height": 601
        },
        "outputId": "df77e459-6071-402f-c81e-0d9d33f32301"
      },
      "outputs": [
        {
          "output_type": "execute_result",
          "data": {
            "text/plain": [
              "<function matplotlib.pyplot.show(close=None, block=None)>"
            ]
          },
          "metadata": {},
          "execution_count": 24
        },
        {
          "output_type": "display_data",
          "data": {
            "text/plain": [
              "<Figure size 600x600 with 1 Axes>"
            ],
            "image/png": "[encoded data removed]"
          },
          "metadata": {}
        }
      ],
      "source": [
        "#making a countplot for \"school\" column\n",
        "plt.figure(figsize=(6,6))\n",
        "sns.countplot(x='school', data=score_dataset, order = score_dataset['school'].value_counts().index)\n",
        "plt.xticks(rotation=90);\n",
        "plt.show"
      ]
    },
    {
      "cell_type": "code",
      "execution_count": 25,
      "metadata": {
        "id": "nxW5fHrBcoE6",
        "colab": {
          "base_uri": "https://localhost:8080/",
          "height": 1000
        },
        "outputId": "9ea4c00c-a7be-4d53-f762-ed23c0544c5d"
      },
      "outputs": [
        {
          "output_type": "execute_result",
          "data": {
            "text/plain": [
              "<function matplotlib.pyplot.show(close=None, block=None)>"
            ]
          },
          "metadata": {},
          "execution_count": 25
        },
        {
          "output_type": "display_data",
          "data": {
            "text/plain": [
              "<Figure size 600x600 with 1 Axes>"
            ],
            "image/png": "[encoded data removed]"
          },
          "metadata": {}
        }
      ],
      "source": [
        "#making a countplot for \"school\" with respect to \"posttest\" column\n",
        "plt.figure(figsize=(6,6))\n",
        "sns.countplot(x='school', data=score_dataset, order = score_dataset['school'].value_counts().index,\n",
        "              hue=score_dataset['posttest'])\n",
        "plt.xticks(rotation=90);\n",
        "plt.show"
      ]
    },
    {
      "cell_type": "code",
      "execution_count": 26,
      "metadata": {
        "id": "n-Eb1J7beX6x",
        "colab": {
          "base_uri": "https://localhost:8080/",
          "height": 1000
        },
        "outputId": "96c4abd8-0520-4c17-ca2c-d0e346ef5f8a"
      },
      "outputs": [
        {
          "output_type": "execute_result",
          "data": {
            "text/plain": [
              "<function matplotlib.pyplot.show(close=None, block=None)>"
            ]
          },
          "metadata": {},
          "execution_count": 26
        },
        {
          "output_type": "display_data",
          "data": {
            "text/plain": [
              "<Figure size 600x600 with 1 Axes>"
            ],
            "image/png": "[encoded data removed]"
          },
          "metadata": {}
        }
      ],
      "source": [
        "#making a countplot for \"school_setting\" with respect to \"posttest\" column\n",
        "plt.figure(figsize=(6,6))\n",
        "sns.countplot(x='school_setting', data=score_dataset, order = score_dataset['school_setting'].value_counts().index,\n",
        "              hue=score_dataset['posttest'])\n",
        "plt.xticks(rotation=100);\n",
        "plt.show"
      ]
    },
    {
      "cell_type": "code",
      "execution_count": 27,
      "metadata": {
        "id": "vDj6F7GUR4Re",
        "colab": {
          "base_uri": "https://localhost:8080/",
          "height": 1000
        },
        "outputId": "7df4f58b-9638-4693-8311-f6ad6497c9b0"
      },
      "outputs": [
        {
          "output_type": "execute_result",
          "data": {
            "text/plain": [
              "<function matplotlib.pyplot.show(close=None, block=None)>"
            ]
          },
          "metadata": {},
          "execution_count": 27
        },
        {
          "output_type": "display_data",
          "data": {
            "text/plain": [
              "<Figure size 600x600 with 1 Axes>"
            ],
            "image/png": "[encoded data removed]"
          },
          "metadata": {}
        }
      ],
      "source": [
        "#making a countplot for \"school_type\" with respect to \"posttest\" column\n",
        "plt.figure(figsize=(6,6))\n",
        "sns.countplot(x='school_type', data=score_dataset, order = score_dataset['school_type'].value_counts().index,\n",
        "              hue=score_dataset['posttest'])\n",
        "plt.xticks(rotation=90);\n",
        "plt.show"
      ]
    },
    {
      "cell_type": "code",
      "execution_count": 28,
      "metadata": {
        "id": "_PsZ_eHsRtfV",
        "colab": {
          "base_uri": "https://localhost:8080/",
          "height": 542
        },
        "outputId": "015fdc06-ecb1-476f-ffe0-474dbb52b23e"
      },
      "outputs": [
        {
          "output_type": "display_data",
          "data": {
            "text/html": [
              "<html>\n",
              "<head><meta charset=\"utf-8\" /></head>\n",
              "<body>\n",
              "    <div>            <script src=\"https://cdnjs.cloudflare.com/ajax/libs/mathjax/2.7.5/MathJax.js?config=TeX-AMS-MML_SVG\"></script><script type=\"text/javascript\">if (window.MathJax && window.MathJax.Hub && window.MathJax.Hub.Config) {window.MathJax.Hub.Config({SVG: {font: \"STIX-Web\"}});}</script>                <script type=\"text/javascript\">window.PlotlyConfig = {MathJaxConfig: 'local'};</script>\n",
              "        <script src=\"https://cdn.plot.ly/plotly-2.18.2.min.js\"></script>                <div id=\"c0db9548-13a2-4ad8-9964-da3890be0dda\" class=\"plotly-graph-div\" style=\"height:525px; width:100%;\"></div>            <script type=\"text/javascript\">                                    window.PLOTLYENV=window.PLOTLYENV || {};                                    if (document.getElementById(\"c0db9548-13a2-4ad8-9964-da3890be0dda\")) {                    Plotly.newPlot(                        \"c0db9548-13a2-4ad8-9964-da3890be0dda\",                        [{\"labels\":[\"Female\",\"Female\",\"Female\",\"Female\",\"Female\",\"Female\",\"Male\",\"Female\",\"Female\",\"Female\",\"Male\",\"Female\",\"Male\",\"Male\",\"Male\",\"Male\",\"Male\",\"Male\",\"Male\",\"Male\",\"Male\",\"Female\",\"Male\",\"Female\",\"Female\",\"Male\",\"Female\",\"Female\",\"Female\",\"Male\",\"Male\",\"Male\",\"Male\",\"Female\",\"Male\",\"Female\",\"Female\",\"Male\",\"Male\",\"Female\",\"Female\",\"Male\",\"Female\",\"Male\",\"Male\",\"Female\",\"Male\",\"Male\",\"Male\",\"Female\",\"Female\",\"Female\",\"Male\",\"Female\",\"Female\",\"Male\",\"Female\",\"Female\",\"Female\",\"Female\",\"Female\",\"Female\",\"Female\",\"Male\",\"Male\",\"Male\",\"Female\",\"Male\",\"Male\",\"Female\",\"Female\",\"Male\",\"Female\",\"Male\",\"Female\",\"Female\",\"Male\",\"Female\",\"Female\",\"Female\",\"Male\",\"Male\",\"Female\",\"Male\",\"Male\",\"Male\",\"Female\",\"Male\",\"Male\",\"Male\",\"Male\",\"Male\",\"Male\",\"Male\",\"Female\",\"Male\",\"Female\",\"Female\",\"Female\",\"Female\",\"Female\",\"Female\",\"Female\",\"Female\",\"Female\",\"Male\",\"Male\",\"Female\",\"Female\",\"Male\",\"Male\",\"Female\",\"Male\",\"Male\",\"Female\",\"Male\",\"Female\",\"Female\",\"Male\",\"Female\",\"Male\",\"Female\",\"Male\",\"Female\",\"Female\",\"Female\",\"Male\",\"Male\",\"Female\",\"Female\",\"Male\",\"Female\",\"Female\",\"Male\",\"Female\",\"Male\",\"Male\",\"Male\",\"Male\",\"Female\",\"Female\",\"Female\",\"Female\",\"Male\",\"Male\",\"Female\",\"Male\",\"Male\",\"Female\",\"Male\",\"Male\",\"Male\",\"Female\",\"Female\",\"Female\",\"Male\",\"Male\",\"Female\",\"Female\",\"Male\",\"Female\",\"Male\",\"Female\",\"Female\",\"Female\",\"Male\",\"Male\",\"Female\",\"Female\",\"Female\",\"Female\",\"Female\",\"Female\",\"Male\",\"Male\",\"Female\",\"Male\",\"Female\",\"Male\",\"Male\",\"Female\",\"Female\",\"Male\",\"Female\",\"Male\",\"Male\",\"Female\",\"Male\",\"Male\",\"Female\",\"Female\",\"Female\",\"Female\",\"Male\",\"Male\",\"Female\",\"Male\",\"Female\",\"Male\",\"Male\",\"Female\",\"Female\",\"Female\",\"Male\",\"Female\",\"Female\",\"Female\",\"Male\",\"Female\",\"Male\",\"Male\",\"Female\",\"Female\",\"Female\",\"Female\",\"Female\",\"Female\",\"Female\",\"Male\",\"Male\",\"Male\",\"Female\",\"Female\",\"Male\",\"Female\",\"Female\",\"Male\",\"Male\",\"Female\",\"Female\",\"Male\",\"Male\",\"Female\",\"Male\",\"Male\",\"Female\",\"Female\",\"Male\",\"Female\",\"Female\",\"Male\",\"Female\",\"Female\",\"Male\",\"Female\",\"Female\",\"Female\",\"Male\",\"Male\",\"Female\",\"Female\",\"Male\",\"Male\",\"Female\",\"Female\",\"Male\",\"Male\",\"Female\",\"Female\",\"Female\",\"Female\",\"Male\",\"Male\",\"Female\",\"Female\",\"Male\",\"Male\",\"Female\",\"Male\",\"Female\",\"Male\",\"Male\",\"Female\",\"Female\",\"Male\",\"Female\",\"Male\",\"Female\",\"Female\",\"Male\",\"Male\",\"Female\",\"Female\",\"Female\",\"Male\",\"Male\",\"Male\",\"Male\",\"Male\",\"Female\",\"Female\",\"Male\",\"Male\",\"Male\",\"Female\",\"Male\",\"Female\",\"Male\",\"Female\",\"Female\",\"Female\",\"Female\",\"Male\",\"Male\",\"Male\",\"Male\",\"Female\",\"Female\",\"Male\",\"Female\",\"Female\",\"Female\",\"Female\",\"Female\",\"Female\",\"Male\",\"Female\",\"Male\",\"Male\",\"Female\",\"Male\",\"Female\",\"Female\",\"Female\",\"Female\",\"Female\",\"Male\",\"Male\",\"Male\",\"Female\",\"Female\",\"Female\",\"Male\",\"Male\",\"Female\",\"Female\",\"Male\",\"Male\",\"Male\",\"Male\",\"Female\",\"Female\",\"Female\",\"Female\",\"Female\",\"Male\",\"Male\",\"Male\",\"Female\",\"Male\",\"Female\",\"Female\",\"Male\",\"Female\",\"Male\",\"Female\",\"Female\",\"Female\",\"Male\",\"Female\",\"Female\",\"Female\",\"Male\",\"Female\",\"Female\",\"Male\",\"Male\",\"Male\",\"Male\",\"Female\",\"Female\",\"Male\",\"Male\",\"Male\",\"Female\",\"Male\",\"Female\",\"Male\",\"Male\",\"Male\",\"Female\",\"Male\",\"Female\",\"Male\",\"Male\",\"Female\",\"Male\",\"Male\",\"Male\",\"Male\",\"Male\",\"Male\",\"Female\",\"Female\",\"Female\",\"Male\",\"Female\",\"Male\",\"Male\",\"Male\",\"Female\",\"Female\",\"Female\",\"Female\",\"Female\",\"Male\",\"Female\",\"Male\",\"Female\",\"Female\",\"Male\",\"Male\",\"Female\",\"Female\",\"Male\",\"Female\",\"Female\",\"Male\",\"Male\",\"Female\",\"Female\",\"Female\",\"Male\",\"Female\",\"Female\",\"Female\",\"Male\",\"Male\",\"Male\",\"Male\",\"Female\",\"Female\",\"Male\",\"Female\",\"Female\",\"Male\",\"Male\",\"Male\",\"Male\",\"Female\",\"Male\",\"Female\",\"Female\",\"Female\",\"Male\",\"Female\",\"Male\",\"Male\",\"Female\",\"Male\",\"Female\",\"Male\",\"Female\",\"Male\",\"Female\",\"Male\",\"Female\",\"Male\",\"Male\",\"Female\",\"Female\",\"Male\",\"Female\",\"Female\",\"Female\",\"Male\",\"Female\",\"Female\",\"Male\",\"Female\",\"Male\",\"Male\",\"Male\",\"Male\",\"Male\",\"Female\",\"Female\",\"Female\",\"Male\",\"Male\",\"Male\",\"Male\",\"Female\",\"Female\",\"Male\",\"Male\",\"Male\",\"Male\",\"Female\",\"Female\",\"Male\",\"Female\",\"Female\",\"Male\",\"Male\",\"Male\",\"Female\",\"Female\",\"Female\",\"Female\",\"Female\",\"Male\",\"Female\",\"Female\",\"Female\",\"Female\",\"Male\",\"Female\",\"Male\",\"Female\",\"Male\",\"Female\",\"Male\",\"Male\",\"Female\",\"Male\",\"Male\",\"Female\",\"Female\",\"Male\",\"Female\",\"Female\",\"Female\",\"Male\",\"Male\",\"Male\",\"Male\",\"Female\",\"Male\",\"Male\",\"Female\",\"Male\",\"Male\",\"Male\",\"Male\",\"Male\",\"Female\",\"Female\",\"Female\",\"Female\",\"Male\",\"Female\",\"Female\",\"Male\",\"Male\",\"Male\",\"Female\",\"Male\",\"Male\",\"Female\",\"Male\",\"Male\",\"Female\",\"Male\",\"Female\",\"Female\",\"Male\",\"Male\",\"Male\",\"Male\",\"Female\",\"Female\",\"Male\",\"Male\",\"Female\",\"Male\",\"Female\",\"Male\",\"Male\",\"Female\",\"Female\",\"Male\",\"Male\",\"Female\",\"Female\",\"Female\",\"Male\",\"Female\",\"Female\",\"Male\",\"Female\",\"Female\",\"Male\",\"Male\",\"Male\",\"Male\",\"Male\",\"Male\",\"Female\",\"Female\",\"Male\",\"Female\",\"Female\",\"Male\",\"Female\",\"Male\",\"Female\",\"Female\",\"Male\",\"Male\",\"Male\",\"Male\",\"Male\",\"Male\",\"Female\",\"Female\",\"Female\",\"Male\",\"Male\",\"Female\",\"Female\",\"Female\",\"Female\",\"Female\",\"Male\",\"Male\",\"Female\",\"Female\",\"Male\",\"Male\",\"Female\",\"Female\",\"Female\",\"Female\",\"Male\",\"Female\",\"Female\",\"Male\",\"Male\",\"Female\",\"Male\",\"Female\",\"Male\",\"Female\",\"Female\",\"Female\",\"Male\",\"Male\",\"Male\",\"Female\",\"Female\",\"Male\",\"Male\",\"Female\",\"Male\",\"Male\",\"Female\",\"Female\",\"Male\",\"Male\",\"Female\",\"Female\",\"Female\",\"Male\",\"Male\",\"Female\",\"Female\",\"Female\",\"Female\",\"Male\",\"Female\",\"Male\",\"Male\",\"Male\",\"Male\",\"Male\",\"Male\",\"Male\",\"Male\",\"Female\",\"Female\",\"Male\",\"Male\",\"Female\",\"Male\",\"Male\",\"Female\",\"Male\",\"Male\",\"Female\",\"Male\",\"Female\",\"Female\",\"Male\",\"Female\",\"Female\",\"Female\",\"Male\",\"Male\",\"Male\",\"Male\",\"Female\",\"Female\",\"Female\",\"Female\",\"Male\",\"Female\",\"Female\",\"Male\",\"Male\",\"Male\",\"Male\",\"Male\",\"Male\",\"Male\",\"Female\",\"Female\",\"Female\",\"Male\",\"Female\",\"Male\",\"Female\",\"Male\",\"Male\",\"Male\",\"Female\",\"Male\",\"Female\",\"Male\",\"Female\",\"Male\",\"Male\",\"Female\",\"Male\",\"Male\",\"Male\",\"Female\",\"Male\",\"Female\",\"Male\",\"Male\",\"Female\",\"Male\",\"Male\",\"Female\",\"Male\",\"Female\",\"Female\",\"Female\",\"Female\",\"Male\",\"Male\",\"Male\",\"Male\",\"Female\",\"Male\",\"Male\",\"Male\",\"Male\",\"Male\",\"Female\",\"Male\",\"Female\",\"Female\",\"Male\",\"Male\",\"Female\",\"Male\",\"Female\",\"Female\",\"Male\",\"Male\",\"Female\",\"Male\",\"Female\",\"Female\",\"Female\",\"Female\",\"Female\",\"Male\",\"Male\",\"Male\",\"Female\",\"Female\",\"Male\",\"Male\",\"Female\",\"Female\",\"Male\",\"Female\",\"Female\",\"Male\",\"Female\",\"Female\",\"Female\",\"Male\",\"Male\",\"Female\",\"Male\",\"Male\",\"Male\",\"Male\",\"Female\",\"Male\",\"Female\",\"Female\",\"Female\",\"Female\",\"Male\",\"Male\",\"Male\",\"Male\",\"Female\",\"Female\",\"Female\",\"Male\",\"Male\",\"Male\",\"Female\",\"Female\",\"Male\",\"Male\",\"Female\",\"Male\",\"Male\",\"Female\",\"Male\",\"Female\",\"Male\",\"Male\",\"Female\",\"Female\",\"Male\",\"Male\",\"Female\",\"Male\",\"Male\",\"Female\",\"Female\",\"Female\",\"Male\",\"Male\",\"Male\",\"Female\",\"Male\",\"Female\",\"Female\",\"Male\",\"Female\",\"Male\",\"Female\",\"Male\",\"Male\",\"Male\",\"Female\",\"Female\",\"Male\",\"Male\",\"Female\",\"Female\",\"Male\",\"Female\",\"Female\",\"Male\",\"Female\",\"Male\",\"Male\",\"Male\",\"Male\",\"Female\",\"Female\",\"Male\",\"Male\",\"Male\",\"Female\",\"Male\",\"Male\",\"Male\",\"Female\",\"Female\",\"Male\",\"Female\",\"Female\",\"Female\",\"Male\",\"Male\",\"Female\",\"Male\",\"Female\",\"Male\",\"Female\",\"Male\",\"Female\",\"Female\",\"Female\",\"Male\",\"Female\",\"Female\",\"Male\",\"Male\",\"Female\",\"Female\",\"Female\",\"Male\",\"Female\",\"Male\",\"Male\",\"Female\",\"Female\",\"Male\",\"Male\",\"Male\",\"Male\",\"Male\",\"Female\",\"Male\",\"Female\",\"Male\",\"Female\",\"Male\",\"Male\",\"Female\",\"Female\",\"Female\",\"Female\",\"Female\",\"Female\",\"Female\",\"Male\",\"Female\",\"Female\",\"Male\",\"Male\",\"Female\",\"Female\",\"Male\",\"Male\",\"Female\",\"Female\",\"Female\",\"Male\",\"Female\",\"Male\",\"Male\",\"Male\",\"Female\",\"Female\",\"Female\",\"Male\",\"Male\",\"Male\",\"Male\",\"Female\",\"Female\",\"Female\",\"Male\",\"Female\",\"Female\",\"Female\",\"Male\",\"Female\",\"Female\",\"Female\",\"Male\",\"Female\",\"Female\",\"Male\",\"Female\",\"Female\",\"Male\",\"Female\",\"Male\",\"Male\",\"Female\",\"Male\",\"Female\",\"Female\",\"Male\",\"Male\",\"Male\",\"Female\",\"Male\",\"Male\",\"Male\",\"Male\",\"Male\",\"Male\",\"Female\",\"Female\",\"Female\",\"Female\",\"Female\",\"Female\",\"Male\",\"Female\",\"Male\",\"Male\",\"Male\",\"Male\",\"Male\",\"Male\",\"Female\",\"Female\",\"Male\",\"Male\",\"Female\",\"Male\",\"Male\",\"Female\",\"Female\",\"Male\",\"Female\",\"Male\",\"Male\",\"Female\",\"Female\",\"Female\",\"Male\",\"Female\",\"Male\",\"Female\",\"Female\",\"Male\",\"Male\",\"Male\",\"Female\",\"Female\",\"Male\",\"Male\",\"Female\",\"Male\",\"Female\",\"Female\",\"Female\",\"Female\",\"Male\",\"Female\",\"Female\",\"Female\",\"Female\",\"Female\",\"Female\",\"Male\",\"Male\",\"Male\",\"Female\",\"Female\",\"Female\",\"Female\",\"Female\",\"Male\",\"Female\",\"Female\",\"Male\",\"Male\",\"Male\",\"Male\",\"Male\",\"Female\",\"Male\",\"Female\",\"Male\",\"Female\",\"Male\",\"Male\",\"Male\",\"Female\",\"Female\",\"Male\",\"Male\",\"Female\",\"Male\",\"Female\",\"Female\",\"Female\",\"Male\",\"Female\",\"Male\",\"Male\",\"Female\",\"Male\",\"Male\",\"Male\",\"Male\",\"Female\",\"Female\",\"Male\",\"Female\",\"Male\",\"Male\",\"Male\",\"Female\",\"Female\",\"Female\",\"Female\",\"Male\",\"Female\",\"Female\",\"Female\",\"Male\",\"Female\",\"Male\",\"Male\",\"Female\",\"Male\",\"Male\",\"Male\",\"Male\",\"Male\",\"Male\",\"Male\",\"Male\",\"Male\",\"Female\",\"Female\",\"Male\",\"Male\",\"Male\",\"Male\",\"Female\",\"Male\",\"Male\",\"Female\",\"Female\",\"Female\",\"Male\",\"Male\",\"Male\",\"Male\",\"Female\",\"Male\",\"Male\",\"Female\",\"Female\",\"Male\",\"Female\",\"Male\",\"Female\",\"Female\",\"Male\",\"Male\",\"Male\",\"Female\",\"Female\",\"Male\",\"Male\",\"Female\",\"Female\",\"Female\",\"Female\",\"Male\",\"Male\",\"Female\",\"Male\",\"Female\",\"Female\",\"Female\",\"Male\",\"Male\",\"Male\",\"Male\",\"Male\",\"Male\",\"Male\",\"Male\",\"Male\",\"Male\",\"Female\",\"Female\",\"Male\",\"Male\",\"Male\",\"Male\",\"Male\",\"Female\",\"Male\",\"Female\",\"Male\",\"Female\",\"Female\",\"Female\",\"Female\",\"Female\",\"Male\",\"Female\",\"Male\",\"Male\",\"Female\",\"Female\",\"Male\",\"Female\",\"Female\",\"Male\",\"Male\",\"Male\",\"Male\",\"Female\",\"Male\",\"Male\",\"Male\",\"Female\",\"Male\",\"Male\",\"Female\",\"Female\",\"Female\",\"Male\",\"Female\",\"Female\",\"Male\",\"Female\",\"Male\",\"Female\",\"Male\",\"Female\",\"Female\",\"Female\",\"Female\",\"Male\",\"Female\",\"Male\",\"Male\",\"Male\",\"Male\",\"Male\",\"Female\",\"Female\",\"Male\",\"Male\",\"Male\",\"Female\",\"Male\",\"Male\",\"Male\",\"Female\",\"Female\",\"Male\",\"Male\",\"Female\",\"Male\",\"Male\",\"Female\",\"Male\",\"Male\",\"Female\",\"Male\",\"Female\",\"Female\",\"Female\",\"Female\",\"Female\",\"Female\",\"Female\",\"Male\",\"Male\",\"Male\",\"Female\",\"Male\",\"Female\",\"Female\",\"Male\",\"Male\",\"Female\",\"Female\",\"Female\",\"Female\",\"Male\",\"Male\",\"Female\",\"Female\",\"Male\",\"Male\",\"Female\",\"Male\",\"Female\",\"Female\",\"Female\",\"Male\",\"Male\",\"Male\",\"Male\",\"Male\",\"Female\",\"Female\",\"Male\",\"Female\",\"Female\",\"Male\",\"Female\",\"Female\",\"Female\",\"Female\",\"Male\",\"Female\",\"Male\",\"Male\",\"Male\",\"Female\",\"Male\",\"Male\",\"Male\",\"Female\",\"Female\",\"Female\",\"Female\",\"Female\",\"Female\",\"Female\",\"Female\",\"Male\",\"Male\",\"Female\",\"Male\",\"Female\",\"Male\",\"Female\",\"Female\",\"Male\",\"Female\",\"Male\",\"Male\",\"Female\",\"Female\",\"Male\",\"Male\",\"Female\",\"Male\",\"Male\",\"Female\",\"Male\",\"Male\",\"Male\",\"Male\",\"Male\",\"Male\",\"Male\",\"Female\",\"Female\",\"Female\",\"Male\",\"Male\",\"Male\",\"Male\",\"Female\",\"Male\",\"Male\",\"Female\",\"Male\",\"Male\",\"Male\",\"Male\",\"Female\",\"Male\",\"Male\",\"Male\",\"Female\",\"Male\",\"Female\",\"Female\",\"Female\",\"Male\",\"Male\",\"Male\",\"Male\",\"Female\",\"Male\",\"Male\",\"Female\",\"Male\",\"Male\",\"Male\",\"Male\",\"Female\",\"Male\",\"Female\",\"Male\",\"Female\",\"Female\",\"Male\",\"Male\",\"Male\",\"Male\",\"Female\",\"Female\",\"Male\",\"Male\",\"Female\",\"Male\",\"Male\",\"Female\",\"Male\",\"Female\",\"Male\",\"Male\",\"Female\",\"Male\",\"Male\",\"Female\",\"Male\",\"Female\",\"Female\",\"Female\",\"Female\",\"Female\",\"Female\",\"Female\",\"Female\",\"Male\",\"Male\",\"Male\",\"Male\",\"Female\",\"Male\",\"Female\",\"Male\",\"Male\",\"Female\",\"Male\",\"Male\",\"Male\",\"Female\",\"Male\",\"Male\",\"Female\",\"Female\",\"Female\",\"Male\",\"Male\",\"Male\",\"Female\",\"Female\",\"Female\",\"Female\",\"Female\",\"Male\",\"Female\",\"Female\",\"Female\",\"Female\",\"Female\",\"Male\",\"Male\",\"Female\",\"Female\",\"Male\",\"Female\",\"Female\",\"Female\",\"Female\",\"Female\",\"Male\",\"Female\",\"Female\",\"Female\",\"Female\",\"Female\",\"Male\",\"Male\",\"Female\",\"Male\",\"Female\",\"Male\",\"Male\",\"Male\",\"Female\",\"Male\",\"Female\",\"Male\",\"Male\",\"Male\",\"Female\",\"Male\",\"Female\",\"Male\",\"Female\",\"Female\",\"Male\",\"Female\",\"Male\",\"Female\",\"Female\",\"Female\",\"Male\",\"Female\",\"Male\",\"Male\",\"Male\",\"Male\",\"Female\",\"Male\",\"Male\",\"Male\",\"Male\",\"Male\",\"Male\",\"Male\",\"Female\",\"Male\",\"Male\",\"Male\",\"Female\",\"Female\",\"Male\",\"Female\",\"Female\",\"Female\",\"Female\",\"Female\",\"Male\",\"Male\",\"Male\",\"Female\",\"Female\",\"Female\",\"Female\",\"Male\",\"Male\",\"Female\",\"Female\",\"Male\",\"Female\",\"Female\",\"Female\",\"Male\",\"Male\",\"Female\",\"Female\",\"Female\",\"Male\",\"Male\",\"Female\",\"Male\",\"Male\",\"Female\",\"Male\",\"Female\",\"Male\",\"Male\",\"Male\",\"Male\",\"Female\",\"Female\",\"Female\",\"Male\",\"Female\",\"Male\",\"Male\",\"Female\",\"Female\",\"Female\",\"Female\",\"Female\",\"Male\",\"Male\",\"Female\",\"Female\",\"Male\",\"Male\",\"Male\",\"Female\",\"Male\",\"Male\",\"Male\",\"Female\",\"Female\",\"Female\",\"Female\",\"Male\",\"Male\",\"Male\",\"Male\",\"Male\",\"Female\",\"Male\",\"Female\",\"Male\",\"Female\",\"Male\",\"Male\",\"Male\",\"Male\",\"Female\",\"Female\",\"Male\",\"Male\",\"Female\",\"Male\",\"Female\",\"Male\",\"Female\",\"Male\",\"Male\",\"Male\",\"Male\",\"Female\",\"Female\",\"Female\",\"Male\",\"Female\",\"Male\",\"Male\",\"Male\",\"Male\",\"Male\",\"Female\",\"Male\",\"Female\",\"Female\",\"Male\",\"Male\",\"Female\",\"Female\",\"Male\",\"Female\",\"Female\",\"Female\",\"Male\",\"Female\",\"Male\",\"Female\",\"Female\",\"Female\",\"Male\",\"Female\",\"Female\",\"Male\",\"Male\",\"Male\",\"Female\",\"Female\",\"Male\",\"Male\",\"Male\",\"Male\",\"Male\",\"Male\",\"Female\",\"Female\",\"Male\",\"Male\",\"Male\",\"Female\",\"Female\",\"Male\",\"Female\",\"Female\",\"Female\",\"Female\",\"Male\",\"Male\",\"Male\",\"Male\",\"Female\",\"Male\",\"Male\",\"Male\",\"Male\",\"Male\",\"Female\",\"Male\",\"Male\",\"Female\",\"Male\",\"Male\",\"Female\",\"Female\",\"Female\",\"Female\",\"Female\",\"Male\",\"Female\",\"Male\",\"Female\",\"Female\",\"Male\",\"Male\",\"Male\",\"Male\",\"Female\",\"Female\",\"Female\",\"Female\",\"Female\",\"Female\",\"Female\",\"Female\",\"Male\",\"Male\",\"Female\",\"Male\",\"Male\",\"Male\",\"Female\",\"Male\",\"Female\",\"Female\",\"Male\",\"Male\",\"Female\",\"Male\",\"Male\",\"Male\",\"Male\",\"Female\",\"Male\",\"Female\",\"Female\",\"Female\",\"Male\",\"Male\",\"Male\",\"Female\",\"Female\",\"Male\",\"Female\",\"Male\",\"Female\",\"Female\",\"Female\",\"Male\",\"Female\",\"Female\",\"Female\",\"Female\",\"Female\",\"Male\",\"Female\",\"Female\",\"Male\",\"Female\",\"Female\",\"Female\",\"Female\",\"Male\",\"Female\",\"Female\",\"Male\",\"Female\",\"Male\",\"Male\",\"Female\",\"Male\",\"Male\",\"Male\",\"Female\",\"Male\",\"Male\",\"Male\",\"Female\",\"Male\",\"Male\",\"Male\",\"Female\",\"Female\",\"Male\",\"Male\",\"Male\",\"Male\",\"Female\",\"Male\",\"Female\",\"Male\",\"Male\",\"Female\",\"Male\",\"Female\",\"Male\",\"Female\",\"Male\",\"Female\",\"Female\",\"Male\",\"Male\",\"Female\",\"Female\",\"Female\",\"Female\",\"Male\",\"Female\",\"Female\",\"Female\",\"Female\",\"Female\",\"Female\",\"Male\",\"Male\",\"Female\",\"Female\",\"Female\",\"Female\",\"Male\",\"Female\",\"Male\",\"Male\",\"Female\",\"Female\",\"Female\",\"Male\",\"Male\",\"Female\",\"Female\",\"Male\",\"Male\",\"Female\",\"Male\",\"Male\",\"Male\",\"Male\",\"Male\",\"Female\",\"Female\",\"Female\",\"Male\",\"Male\",\"Female\",\"Female\",\"Male\",\"Female\",\"Male\",\"Male\",\"Male\",\"Male\",\"Male\",\"Male\",\"Female\",\"Female\",\"Male\",\"Female\",\"Female\",\"Male\",\"Female\",\"Male\",\"Female\",\"Female\",\"Female\",\"Male\",\"Male\",\"Female\",\"Male\",\"Female\",\"Male\",\"Male\",\"Female\",\"Female\",\"Female\",\"Female\",\"Female\",\"Female\",\"Female\",\"Male\",\"Male\",\"Male\",\"Male\",\"Female\",\"Female\",\"Female\",\"Male\",\"Female\",\"Female\",\"Female\",\"Female\",\"Female\",\"Female\",\"Female\",\"Female\",\"Male\",\"Male\",\"Female\",\"Female\",\"Female\",\"Male\",\"Female\",\"Female\",\"Female\",\"Female\",\"Male\",\"Male\",\"Male\",\"Male\",\"Female\",\"Female\",\"Male\",\"Male\",\"Male\",\"Female\",\"Male\",\"Male\",\"Female\",\"Female\",\"Female\",\"Male\",\"Male\",\"Male\",\"Female\",\"Female\",\"Male\",\"Male\",\"Female\",\"Female\",\"Male\",\"Female\",\"Female\",\"Male\",\"Male\",\"Female\",\"Female\",\"Female\",\"Female\",\"Female\",\"Female\",\"Female\",\"Female\",\"Female\",\"Male\",\"Female\",\"Female\",\"Male\",\"Male\",\"Female\",\"Female\",\"Female\",\"Female\",\"Male\",\"Male\",\"Female\",\"Male\",\"Female\",\"Female\",\"Male\",\"Male\",\"Male\",\"Female\",\"Female\",\"Male\",\"Male\",\"Female\",\"Female\",\"Female\",\"Male\",\"Male\",\"Male\",\"Female\",\"Female\",\"Male\",\"Male\",\"Male\",\"Female\",\"Male\",\"Male\",\"Male\",\"Female\",\"Male\",\"Male\",\"Female\",\"Male\",\"Female\",\"Male\",\"Female\",\"Male\",\"Female\",\"Female\",\"Male\",\"Male\",\"Female\",\"Female\",\"Female\",\"Female\",\"Male\",\"Male\",\"Female\",\"Male\",\"Female\",\"Male\",\"Male\",\"Male\",\"Male\",\"Female\",\"Male\",\"Female\",\"Male\",\"Female\",\"Male\",\"Female\",\"Male\",\"Male\",\"Male\",\"Female\",\"Male\",\"Female\",\"Male\",\"Male\",\"Female\",\"Female\",\"Male\",\"Male\",\"Male\",\"Male\",\"Male\",\"Male\",\"Male\",\"Male\",\"Male\",\"Male\",\"Male\",\"Female\",\"Male\",\"Male\",\"Female\",\"Male\",\"Male\",\"Female\",\"Female\",\"Female\",\"Female\",\"Male\",\"Female\",\"Male\",\"Female\",\"Female\",\"Male\",\"Female\",\"Male\",\"Male\",\"Male\",\"Female\",\"Female\",\"Female\",\"Male\",\"Female\",\"Female\",\"Male\",\"Male\",\"Male\",\"Female\",\"Male\",\"Female\"],\"type\":\"pie\",\"textinfo\":\"percent+label\",\"textposition\":\"inside\"}],                        {\"template\":{\"data\":{\"histogram2dcontour\":[{\"type\":\"histogram2dcontour\",\"colorbar\":{\"outlinewidth\":0,\"ticks\":\"\"},\"colorscale\":[[0.0,\"#0d0887\"],[0.1111111111111111,\"#46039f\"],[0.2222222222222222,\"#7201a8\"],[0.3333333333333333,\"#9c179e\"],[0.4444444444444444,\"#bd3786\"],[0.5555555555555556,\"#d8576b\"],[0.6666666666666666,\"#ed7953\"],[0.7777777777777778,\"#fb9f3a\"],[0.8888888888888888,\"#fdca26\"],[1.0,\"#f0f921\"]]}],\"choropleth\":[{\"type\":\"choropleth\",\"colorbar\":{\"outlinewidth\":0,\"ticks\":\"\"}}],\"histogram2d\":[{\"type\":\"histogram2d\",\"colorbar\":{\"outlinewidth\":0,\"ticks\":\"\"},\"colorscale\":[[0.0,\"#0d0887\"],[0.1111111111111111,\"#46039f\"],[0.2222222222222222,\"#7201a8\"],[0.3333333333333333,\"#9c179e\"],[0.4444444444444444,\"#bd3786\"],[0.5555555555555556,\"#d8576b\"],[0.6666666666666666,\"#ed7953\"],[0.7777777777777778,\"#fb9f3a\"],[0.8888888888888888,\"#fdca26\"],[1.0,\"#f0f921\"]]}],\"heatmap\":[{\"type\":\"heatmap\",\"colorbar\":{\"outlinewidth\":0,\"ticks\":\"\"},\"colorscale\":[[0.0,\"#0d0887\"],[0.1111111111111111,\"#46039f\"],[0.2222222222222222,\"#7201a8\"],[0.3333333333333333,\"#9c179e\"],[0.4444444444444444,\"#bd3786\"],[0.5555555555555556,\"#d8576b\"],[0.6666666666666666,\"#ed7953\"],[0.7777777777777778,\"#fb9f3a\"],[0.8888888888888888,\"#fdca26\"],[1.0,\"#f0f921\"]]}],\"heatmapgl\":[{\"type\":\"heatmapgl\",\"colorbar\":{\"outlinewidth\":0,\"ticks\":\"\"},\"colorscale\":[[0.0,\"#0d0887\"],[0.1111111111111111,\"#46039f\"],[0.2222222222222222,\"#7201a8\"],[0.3333333333333333,\"#9c179e\"],[0.4444444444444444,\"#bd3786\"],[0.5555555555555556,\"#d8576b\"],[0.6666666666666666,\"#ed7953\"],[0.7777777777777778,\"#fb9f3a\"],[0.8888888888888888,\"#fdca26\"],[1.0,\"#f0f921\"]]}],\"contourcarpet\":[{\"type\":\"contourcarpet\",\"colorbar\":{\"outlinewidth\":0,\"ticks\":\"\"}}],\"contour\":[{\"type\":\"contour\",\"colorbar\":{\"outlinewidth\":0,\"ticks\":\"\"},\"colorscale\":[[0.0,\"#0d0887\"],[0.1111111111111111,\"#46039f\"],[0.2222222222222222,\"#7201a8\"],[0.3333333333333333,\"#9c179e\"],[0.4444444444444444,\"#bd3786\"],[0.5555555555555556,\"#d8576b\"],[0.6666666666666666,\"#ed7953\"],[0.7777777777777778,\"#fb9f3a\"],[0.8888888888888888,\"#fdca26\"],[1.0,\"#f0f921\"]]}],\"surface\":[{\"type\":\"surface\",\"colorbar\":{\"outlinewidth\":0,\"ticks\":\"\"},\"colorscale\":[[0.0,\"#0d0887\"],[0.1111111111111111,\"#46039f\"],[0.2222222222222222,\"#7201a8\"],[0.3333333333333333,\"#9c179e\"],[0.4444444444444444,\"#bd3786\"],[0.5555555555555556,\"#d8576b\"],[0.6666666666666666,\"#ed7953\"],[0.7777777777777778,\"#fb9f3a\"],[0.8888888888888888,\"#fdca26\"],[1.0,\"#f0f921\"]]}],\"mesh3d\":[{\"type\":\"mesh3d\",\"colorbar\":{\"outlinewidth\":0,\"ticks\":\"\"}}],\"scatter\":[{\"fillpattern\":{\"fillmode\":\"overlay\",\"size\":10,\"solidity\":0.2},\"type\":\"scatter\"}],\"parcoords\":[{\"type\":\"parcoords\",\"line\":{\"colorbar\":{\"outlinewidth\":0,\"ticks\":\"\"}}}],\"scatterpolargl\":[{\"type\":\"scatterpolargl\",\"marker\":{\"colorbar\":{\"outlinewidth\":0,\"ticks\":\"\"}}}],\"bar\":[{\"error_x\":{\"color\":\"#2a3f5f\"},\"error_y\":{\"color\":\"#2a3f5f\"},\"marker\":{\"line\":{\"color\":\"#E5ECF6\",\"width\":0.5},\"pattern\":{\"fillmode\":\"overlay\",\"size\":10,\"solidity\":0.2}},\"type\":\"bar\"}],\"scattergeo\":[{\"type\":\"scattergeo\",\"marker\":{\"colorbar\":{\"outlinewidth\":0,\"ticks\":\"\"}}}],\"scatterpolar\":[{\"type\":\"scatterpolar\",\"marker\":{\"colorbar\":{\"outlinewidth\":0,\"ticks\":\"\"}}}],\"histogram\":[{\"marker\":{\"pattern\":{\"fillmode\":\"overlay\",\"size\":10,\"solidity\":0.2}},\"type\":\"histogram\"}],\"scattergl\":[{\"type\":\"scattergl\",\"marker\":{\"colorbar\":{\"outlinewidth\":0,\"ticks\":\"\"}}}],\"scatter3d\":[{\"type\":\"scatter3d\",\"line\":{\"colorbar\":{\"outlinewidth\":0,\"ticks\":\"\"}},\"marker\":{\"colorbar\":{\"outlinewidth\":0,\"ticks\":\"\"}}}],\"scattermapbox\":[{\"type\":\"scattermapbox\",\"marker\":{\"colorbar\":{\"outlinewidth\":0,\"ticks\":\"\"}}}],\"scatterternary\":[{\"type\":\"scatterternary\",\"marker\":{\"colorbar\":{\"outlinewidth\":0,\"ticks\":\"\"}}}],\"scattercarpet\":[{\"type\":\"scattercarpet\",\"marker\":{\"colorbar\":{\"outlinewidth\":0,\"ticks\":\"\"}}}],\"carpet\":[{\"aaxis\":{\"endlinecolor\":\"#2a3f5f\",\"gridcolor\":\"white\",\"linecolor\":\"white\",\"minorgridcolor\":\"white\",\"startlinecolor\":\"#2a3f5f\"},\"baxis\":{\"endlinecolor\":\"#2a3f5f\",\"gridcolor\":\"white\",\"linecolor\":\"white\",\"minorgridcolor\":\"white\",\"startlinecolor\":\"#2a3f5f\"},\"type\":\"carpet\"}],\"table\":[{\"cells\":{\"fill\":{\"color\":\"#EBF0F8\"},\"line\":{\"color\":\"white\"}},\"header\":{\"fill\":{\"color\":\"#C8D4E3\"},\"line\":{\"color\":\"white\"}},\"type\":\"table\"}],\"barpolar\":[{\"marker\":{\"line\":{\"color\":\"#E5ECF6\",\"width\":0.5},\"pattern\":{\"fillmode\":\"overlay\",\"size\":10,\"solidity\":0.2}},\"type\":\"barpolar\"}],\"pie\":[{\"automargin\":true,\"type\":\"pie\"}]},\"layout\":{\"autotypenumbers\":\"strict\",\"colorway\":[\"#636efa\",\"#EF553B\",\"#00cc96\",\"#ab63fa\",\"#FFA15A\",\"#19d3f3\",\"#FF6692\",\"#B6E880\",\"#FF97FF\",\"#FECB52\"],\"font\":{\"color\":\"#2a3f5f\"},\"hovermode\":\"closest\",\"hoverlabel\":{\"align\":\"left\"},\"paper_bgcolor\":\"white\",\"plot_bgcolor\":\"#E5ECF6\",\"polar\":{\"bgcolor\":\"#E5ECF6\",\"angularaxis\":{\"gridcolor\":\"white\",\"linecolor\":\"white\",\"ticks\":\"\"},\"radialaxis\":{\"gridcolor\":\"white\",\"linecolor\":\"white\",\"ticks\":\"\"}},\"ternary\":{\"bgcolor\":\"#E5ECF6\",\"aaxis\":{\"gridcolor\":\"white\",\"linecolor\":\"white\",\"ticks\":\"\"},\"baxis\":{\"gridcolor\":\"white\",\"linecolor\":\"white\",\"ticks\":\"\"},\"caxis\":{\"gridcolor\":\"white\",\"linecolor\":\"white\",\"ticks\":\"\"}},\"coloraxis\":{\"colorbar\":{\"outlinewidth\":0,\"ticks\":\"\"}},\"colorscale\":{\"sequential\":[[0.0,\"#0d0887\"],[0.1111111111111111,\"#46039f\"],[0.2222222222222222,\"#7201a8\"],[0.3333333333333333,\"#9c179e\"],[0.4444444444444444,\"#bd3786\"],[0.5555555555555556,\"#d8576b\"],[0.6666666666666666,\"#ed7953\"],[0.7777777777777778,\"#fb9f3a\"],[0.8888888888888888,\"#fdca26\"],[1.0,\"#f0f921\"]],\"sequentialminus\":[[0.0,\"#0d0887\"],[0.1111111111111111,\"#46039f\"],[0.2222222222222222,\"#7201a8\"],[0.3333333333333333,\"#9c179e\"],[0.4444444444444444,\"#bd3786\"],[0.5555555555555556,\"#d8576b\"],[0.6666666666666666,\"#ed7953\"],[0.7777777777777778,\"#fb9f3a\"],[0.8888888888888888,\"#fdca26\"],[1.0,\"#f0f921\"]],\"diverging\":[[0,\"#8e0152\"],[0.1,\"#c51b7d\"],[0.2,\"#de77ae\"],[0.3,\"#f1b6da\"],[0.4,\"#fde0ef\"],[0.5,\"#f7f7f7\"],[0.6,\"#e6f5d0\"],[0.7,\"#b8e186\"],[0.8,\"#7fbc41\"],[0.9,\"#4d9221\"],[1,\"#276419\"]]},\"xaxis\":{\"gridcolor\":\"white\",\"linecolor\":\"white\",\"ticks\":\"\",\"title\":{\"standoff\":15},\"zerolinecolor\":\"white\",\"automargin\":true,\"zerolinewidth\":2},\"yaxis\":{\"gridcolor\":\"white\",\"linecolor\":\"white\",\"ticks\":\"\",\"title\":{\"standoff\":15},\"zerolinecolor\":\"white\",\"automargin\":true,\"zerolinewidth\":2},\"scene\":{\"xaxis\":{\"backgroundcolor\":\"#E5ECF6\",\"gridcolor\":\"white\",\"linecolor\":\"white\",\"showbackground\":true,\"ticks\":\"\",\"zerolinecolor\":\"white\",\"gridwidth\":2},\"yaxis\":{\"backgroundcolor\":\"#E5ECF6\",\"gridcolor\":\"white\",\"linecolor\":\"white\",\"showbackground\":true,\"ticks\":\"\",\"zerolinecolor\":\"white\",\"gridwidth\":2},\"zaxis\":{\"backgroundcolor\":\"#E5ECF6\",\"gridcolor\":\"white\",\"linecolor\":\"white\",\"showbackground\":true,\"ticks\":\"\",\"zerolinecolor\":\"white\",\"gridwidth\":2}},\"shapedefaults\":{\"line\":{\"color\":\"#2a3f5f\"}},\"annotationdefaults\":{\"arrowcolor\":\"#2a3f5f\",\"arrowhead\":0,\"arrowwidth\":1},\"geo\":{\"bgcolor\":\"white\",\"landcolor\":\"#E5ECF6\",\"subunitcolor\":\"white\",\"showland\":true,\"showlakes\":true,\"lakecolor\":\"white\"},\"title\":{\"x\":0.05},\"mapbox\":{\"style\":\"light\"}}},\"title\":{\"text\":\"Pie-chart for Gender Column\"}},                        {\"responsive\": true}                    ).then(function(){\n",
              "                            \n",
              "var gd = document.getElementById('c0db9548-13a2-4ad8-9964-da3890be0dda');\n",
              "var x = new MutationObserver(function (mutations, observer) {{\n",
              "        var display = window.getComputedStyle(gd).display;\n",
              "        if (!display || display === 'none') {{\n",
              "            console.log([gd, 'removed!']);\n",
              "            Plotly.purge(gd);\n",
              "            observer.disconnect();\n",
              "        }}\n",
              "}});\n",
              "\n",
              "// Listen for the removal of the full notebook cells\n",
              "var notebookContainer = gd.closest('#notebook-container');\n",
              "if (notebookContainer) {{\n",
              "    x.observe(notebookContainer, {childList: true});\n",
              "}}\n",
              "\n",
              "// Listen for the clearing of the current output cell\n",
              "var outputEl = gd.closest('.output');\n",
              "if (outputEl) {{\n",
              "    x.observe(outputEl, {childList: true});\n",
              "}}\n",
              "\n",
              "                        })                };                            </script>        </div>\n",
              "</body>\n",
              "</html>"
            ]
          },
          "metadata": {}
        }
      ],
      "source": [
        "#Pie chart\n",
        "fig = go.Figure(data=[go.Pie(labels=score_dataset['gender'])])\n",
        "fig.update_traces(textposition='inside',textinfo='percent+label')\n",
        "fig.update_layout(title=\"Pie-chart for Gender Column\")\n",
        "fig.show()"
      ]
    },
    {
      "cell_type": "code",
      "execution_count": 29,
      "metadata": {
        "id": "1pDbCnvmRrRx",
        "colab": {
          "base_uri": "https://localhost:8080/",
          "height": 406
        },
        "outputId": "6d8c38e5-eed7-4d6b-af36-247ee8230a92"
      },
      "outputs": [
        {
          "output_type": "display_data",
          "data": {
            "text/plain": [
              "<Figure size 640x480 with 1 Axes>"
            ],
            "image/png": "[encoded data removed]"
          },
          "metadata": {}
        }
      ],
      "source": [
        "sorted_counts = score_dataset['school_type'].value_counts()\n",
        "plt.pie(sorted_counts, labels = sorted_counts.index, startangle = 90,\n",
        "        counterclock = False, wedgeprops = {'width' : 0.5});\n",
        "plt.axis('square');"
      ]
    },
    {
      "cell_type": "markdown",
      "metadata": {
        "id": "6yI9OcS7gVEd"
      },
      "source": [
        "## For the Numerical Columns:"
      ]
    },
    {
      "cell_type": "markdown",
      "metadata": {
        "id": "Fh-uf-w3gaZW"
      },
      "source": [
        "Numerical Features:\n",
        "- n_student\n",
        "- pretest\n",
        "- posttest\n"
      ]
    },
    {
      "cell_type": "code",
      "execution_count": 30,
      "metadata": {
        "id": "bvFKsSMEgUw6",
        "colab": {
          "base_uri": "https://localhost:8080/",
          "height": 1000
        },
        "outputId": "7585e4b7-cc5a-49cd-9488-f9c3b6f1db8a"
      },
      "outputs": [
        {
          "output_type": "execute_result",
          "data": {
            "text/plain": [
              "<function matplotlib.pyplot.show(close=None, block=None)>"
            ]
          },
          "metadata": {},
          "execution_count": 30
        },
        {
          "output_type": "display_data",
          "data": {
            "text/plain": [
              "<Figure size 600x600 with 1 Axes>"
            ],
            "image/png": "[encoded data removed]"
          },
          "metadata": {}
        }
      ],
      "source": [
        "#making a countplot for \"n_student\" column with respect to \"posttest\" column\n",
        "plt.figure(figsize=(6,6))\n",
        "sns.countplot(x='n_student', data=score_dataset, order = score_dataset['n_student'].value_counts().index,\n",
        "              hue=score_dataset['posttest'])\n",
        "plt.show"
      ]
    },
    {
      "cell_type": "markdown",
      "metadata": {
        "id": "H1EItreVjOJk"
      },
      "source": [
        "# Data Encoding:"
      ]
    },
    {
      "cell_type": "markdown",
      "metadata": {
        "id": "71g_bHic-nfx"
      },
      "source": [
        "We have 7 Categorical Columns in the dataset."
      ]
    },
    {
      "cell_type": "markdown",
      "metadata": {
        "id": "59kIykNa-tm7"
      },
      "source": [
        "Computers can understand only numerical data's, they can't understand text data's. So, we have to convert the categorical columns into numerical columns so that computer can understand. This is termed as Data Encoding in Machine Learning.here we have used one hot encoding"
      ]
    },
    {
      "cell_type": "code",
      "execution_count": 31,
      "metadata": {
        "id": "5l22L3u8jTvB",
        "colab": {
          "base_uri": "https://localhost:8080/"
        },
        "outputId": "81de5060-dcca-406d-efdc-46821eec18ff"
      },
      "outputs": [
        {
          "output_type": "stream",
          "name": "stdout",
          "text": [
            "      n_student  pretest  posttest  school_ANKYI  school_CCAAW  school_CIMBB  \\\n",
            "0            22       53        62             0             0             0   \n",
            "1            21       54        69             0             0             0   \n",
            "2            21       62        72             1             0             0   \n",
            "3            21       58        69             0             0             0   \n",
            "4            28       52        59             0             0             0   \n",
            "...         ...      ...       ...           ...           ...           ...   \n",
            "2021         24       33        45             0             0             0   \n",
            "2022         15       53        68             0             0             0   \n",
            "2023         28       33        40             0             0             0   \n",
            "2024         26       36        51             0             0             0   \n",
            "2025         20       65        78             0             0             0   \n",
            "\n",
            "      school_CUQAM  school_DNQDD  school_FBUMG  school_GJJHK  ...  \\\n",
            "0                0             0             0             0  ...   \n",
            "1                0             0             0             1  ...   \n",
            "2                0             0             0             0  ...   \n",
            "3                0             0             0             0  ...   \n",
            "4                0             0             0             0  ...   \n",
            "...            ...           ...           ...           ...  ...   \n",
            "2021             0             0             0             0  ...   \n",
            "2022             0             0             0             0  ...   \n",
            "2023             0             0             0             0  ...   \n",
            "2024             0             0             0             0  ...   \n",
            "2025             0             0             0             0  ...   \n",
            "\n",
            "      classroom_YUC  classroom_ZBH  classroom_ZDT  classroom_ZNS  \\\n",
            "0                 0              0              0              0   \n",
            "1                 0              0              0              0   \n",
            "2                 0              0              0              1   \n",
            "3                 0              0              0              0   \n",
            "4                 0              0              0              0   \n",
            "...             ...            ...            ...            ...   \n",
            "2021              0              0              0              0   \n",
            "2022              0              0              0              0   \n",
            "2023              0              0              0              0   \n",
            "2024              0              0              0              0   \n",
            "2025              0              0              0              0   \n",
            "\n",
            "      teaching_method_Experimental  teaching_method_Standard  gender_Female  \\\n",
            "0                                0                         1              1   \n",
            "1                                0                         1              1   \n",
            "2                                0                         1              1   \n",
            "3                                0                         1              1   \n",
            "4                                0                         1              1   \n",
            "...                            ...                       ...            ...   \n",
            "2021                             0                         1              0   \n",
            "2022                             1                         0              0   \n",
            "2023                             0                         1              1   \n",
            "2024                             1                         0              0   \n",
            "2025                             0                         1              1   \n",
            "\n",
            "      gender_Male  lunch_Does not qualify  \\\n",
            "0               0                       1   \n",
            "1               0                       0   \n",
            "2               0                       1   \n",
            "3               0                       1   \n",
            "4               0                       1   \n",
            "...           ...                     ...   \n",
            "2021            1                       0   \n",
            "2022            1                       0   \n",
            "2023            0                       0   \n",
            "2024            1                       0   \n",
            "2025            0                       1   \n",
            "\n",
            "      lunch_Qualifies for reduced/free lunch  \n",
            "0                                          0  \n",
            "1                                          1  \n",
            "2                                          0  \n",
            "3                                          0  \n",
            "4                                          0  \n",
            "...                                      ...  \n",
            "2021                                       1  \n",
            "2022                                       1  \n",
            "2023                                       1  \n",
            "2024                                       1  \n",
            "2025                                       0  \n",
            "\n",
            "[2026 rows x 134 columns]\n"
          ]
        }
      ],
      "source": [
        "import pandas as pd\n",
        "one_hot_encoded_data=pd.get_dummies(score_dataset,columns=['school','school_setting','school_type','classroom','teaching_method','gender','lunch'])\n",
        "print(one_hot_encoded_data)#performing one hot encoding for the categorical feature\n"
      ]
    },
    {
      "cell_type": "code",
      "execution_count": 32,
      "metadata": {
        "id": "-HSJRwKFEAD0"
      },
      "outputs": [],
      "source": [
        "score_dataset=one_hot_encoded_data"
      ]
    },
    {
      "cell_type": "code",
      "execution_count": 33,
      "metadata": {
        "id": "InYusEDmFFXR",
        "colab": {
          "base_uri": "https://localhost:8080/",
          "height": 352
        },
        "outputId": "97ccf400-f745-49f1-c0d3-1a1202cd257e"
      },
      "outputs": [
        {
          "output_type": "execute_result",
          "data": {
            "text/plain": [
              "   n_student  pretest  posttest  school_ANKYI  school_CCAAW  school_CIMBB  \\\n",
              "0         22       53        62             0             0             0   \n",
              "1         21       54        69             0             0             0   \n",
              "2         21       62        72             1             0             0   \n",
              "3         21       58        69             0             0             0   \n",
              "4         28       52        59             0             0             0   \n",
              "\n",
              "   school_CUQAM  school_DNQDD  school_FBUMG  school_GJJHK  ...  classroom_YUC  \\\n",
              "0             0             0             0             0  ...              0   \n",
              "1             0             0             0             1  ...              0   \n",
              "2             0             0             0             0  ...              0   \n",
              "3             0             0             0             0  ...              0   \n",
              "4             0             0             0             0  ...              0   \n",
              "\n",
              "   classroom_ZBH  classroom_ZDT  classroom_ZNS  teaching_method_Experimental  \\\n",
              "0              0              0              0                             0   \n",
              "1              0              0              0                             0   \n",
              "2              0              0              1                             0   \n",
              "3              0              0              0                             0   \n",
              "4              0              0              0                             0   \n",
              "\n",
              "   teaching_method_Standard  gender_Female  gender_Male  \\\n",
              "0                         1              1            0   \n",
              "1                         1              1            0   \n",
              "2                         1              1            0   \n",
              "3                         1              1            0   \n",
              "4                         1              1            0   \n",
              "\n",
              "   lunch_Does not qualify  lunch_Qualifies for reduced/free lunch  \n",
              "0                       1                                       0  \n",
              "1                       0                                       1  \n",
              "2                       1                                       0  \n",
              "3                       1                                       0  \n",
              "4                       1                                       0  \n",
              "\n",
              "[5 rows x 134 columns]"
            ],
            "text/html": [
              "\n",
              "  <div id=\"df-5d4ca1b7-07ad-4938-87ca-20e8346be7ec\">\n",
              "    <div class=\"colab-df-container\">\n",
              "      <div>\n",
              "<style scoped>\n",
              "    .dataframe tbody tr th:only-of-type {\n",
              "        vertical-align: middle;\n",
              "    }\n",
              "\n",
              "    .dataframe tbody tr th {\n",
              "        vertical-align: top;\n",
              "    }\n",
              "\n",
              "    .dataframe thead th {\n",
              "        text-align: right;\n",
              "    }\n",
              "</style>\n",
              "<table border=\"1\" class=\"dataframe\">\n",
              "  <thead>\n",
              "    <tr style=\"text-align: right;\">\n",
              "      <th></th>\n",
              "      <th>n_student</th>\n",
              "      <th>pretest</th>\n",
              "      <th>posttest</th>\n",
              "      <th>school_ANKYI</th>\n",
              "      <th>school_CCAAW</th>\n",
              "      <th>school_CIMBB</th>\n",
              "      <th>school_CUQAM</th>\n",
              "      <th>school_DNQDD</th>\n",
              "      <th>school_FBUMG</th>\n",
              "      <th>school_GJJHK</th>\n",
              "      <th>...</th>\n",
              "      <th>classroom_YUC</th>\n",
              "      <th>classroom_ZBH</th>\n",
              "      <th>classroom_ZDT</th>\n",
              "      <th>classroom_ZNS</th>\n",
              "      <th>teaching_method_Experimental</th>\n",
              "      <th>teaching_method_Standard</th>\n",
              "      <th>gender_Female</th>\n",
              "      <th>gender_Male</th>\n",
              "      <th>lunch_Does not qualify</th>\n",
              "      <th>lunch_Qualifies for reduced/free lunch</th>\n",
              "    </tr>\n",
              "  </thead>\n",
              "  <tbody>\n",
              "    <tr>\n",
              "      <th>0</th>\n",
              "      <td>22</td>\n",
              "      <td>53</td>\n",
              "      <td>62</td>\n",
              "      <td>0</td>\n",
              "      <td>0</td>\n",
              "      <td>0</td>\n",
              "      <td>0</td>\n",
              "      <td>0</td>\n",
              "      <td>0</td>\n",
              "      <td>0</td>\n",
              "      <td>...</td>\n",
              "      <td>0</td>\n",
              "      <td>0</td>\n",
              "      <td>0</td>\n",
              "      <td>0</td>\n",
              "      <td>0</td>\n",
              "      <td>1</td>\n",
              "      <td>1</td>\n",
              "      <td>0</td>\n",
              "      <td>1</td>\n",
              "      <td>0</td>\n",
              "    </tr>\n",
              "    <tr>\n",
              "      <th>1</th>\n",
              "      <td>21</td>\n",
              "      <td>54</td>\n",
              "      <td>69</td>\n",
              "      <td>0</td>\n",
              "      <td>0</td>\n",
              "      <td>0</td>\n",
              "      <td>0</td>\n",
              "      <td>0</td>\n",
              "      <td>0</td>\n",
              "      <td>1</td>\n",
              "      <td>...</td>\n",
              "      <td>0</td>\n",
              "      <td>0</td>\n",
              "      <td>0</td>\n",
              "      <td>0</td>\n",
              "      <td>0</td>\n",
              "      <td>1</td>\n",
              "      <td>1</td>\n",
              "      <td>0</td>\n",
              "      <td>0</td>\n",
              "      <td>1</td>\n",
              "    </tr>\n",
              "    <tr>\n",
              "      <th>2</th>\n",
              "      <td>21</td>\n",
              "      <td>62</td>\n",
              "      <td>72</td>\n",
              "      <td>1</td>\n",
              "      <td>0</td>\n",
              "      <td>0</td>\n",
              "      <td>0</td>\n",
              "      <td>0</td>\n",
              "      <td>0</td>\n",
              "      <td>0</td>\n",
              "      <td>...</td>\n",
              "      <td>0</td>\n",
              "      <td>0</td>\n",
              "      <td>0</td>\n",
              "      <td>1</td>\n",
              "      <td>0</td>\n",
              "      <td>1</td>\n",
              "      <td>1</td>\n",
              "      <td>0</td>\n",
              "      <td>1</td>\n",
              "      <td>0</td>\n",
              "    </tr>\n",
              "    <tr>\n",
              "      <th>3</th>\n",
              "      <td>21</td>\n",
              "      <td>58</td>\n",
              "      <td>69</td>\n",
              "      <td>0</td>\n",
              "      <td>0</td>\n",
              "      <td>0</td>\n",
              "      <td>0</td>\n",
              "      <td>0</td>\n",
              "      <td>0</td>\n",
              "      <td>0</td>\n",
              "      <td>...</td>\n",
              "      <td>0</td>\n",
              "      <td>0</td>\n",
              "      <td>0</td>\n",
              "      <td>0</td>\n",
              "      <td>0</td>\n",
              "      <td>1</td>\n",
              "      <td>1</td>\n",
              "      <td>0</td>\n",
              "      <td>1</td>\n",
              "      <td>0</td>\n",
              "    </tr>\n",
              "    <tr>\n",
              "      <th>4</th>\n",
              "      <td>28</td>\n",
              "      <td>52</td>\n",
              "      <td>59</td>\n",
              "      <td>0</td>\n",
              "      <td>0</td>\n",
              "      <td>0</td>\n",
              "      <td>0</td>\n",
              "      <td>0</td>\n",
              "      <td>0</td>\n",
              "      <td>0</td>\n",
              "      <td>...</td>\n",
              "      <td>0</td>\n",
              "      <td>0</td>\n",
              "      <td>0</td>\n",
              "      <td>0</td>\n",
              "      <td>0</td>\n",
              "      <td>1</td>\n",
              "      <td>1</td>\n",
              "      <td>0</td>\n",
              "      <td>1</td>\n",
              "      <td>0</td>\n",
              "    </tr>\n",
              "  </tbody>\n",
              "</table>\n",
              "<p>5 rows × 134 columns</p>\n",
              "</div>\n",
              "      <button class=\"colab-df-convert\" onclick=\"convertToInteractive('df-5d4ca1b7-07ad-4938-87ca-20e8346be7ec')\"\n",
              "              title=\"Convert this dataframe to an interactive table.\"\n",
              "              style=\"display:none;\">\n",
              "        \n",
              "  <svg xmlns=\"http://www.w3.org/2000/svg\" height=\"24px\"viewBox=\"0 0 24 24\"\n",
              "       width=\"24px\">\n",
              "    <path d=\"M0 0h24v24H0V0z\" fill=\"none\"/>\n",
              "    <path d=\"M18.56 5.44l.94 2.06.94-2.06 2.06-.94-2.06-.94-.94-2.06-.94 2.06-2.06.94zm-11 1L8.5 8.5l.94-2.06 2.06-.94-2.06-.94L8.5 2.5l-.94 2.06-2.06.94zm10 10l.94 2.06.94-2.06 2.06-.94-2.06-.94-.94-2.06-.94 2.06-2.06.94z\"/><path d=\"M17.41 7.96l-1.37-1.37c-.4-.4-.92-.59-1.43-.59-.52 0-1.04.2-1.43.59L10.3 9.45l-7.72 7.72c-.78.78-.78 2.05 0 2.83L4 21.41c.39.39.9.59 1.41.59.51 0 1.02-.2 1.41-.59l7.78-7.78 2.81-2.81c.8-.78.8-2.07 0-2.86zM5.41 20L4 18.59l7.72-7.72 1.47 1.35L5.41 20z\"/>\n",
              "  </svg>\n",
              "      </button>\n",
              "      \n",
              "  <style>\n",
              "    .colab-df-container {\n",
              "      display:flex;\n",
              "      flex-wrap:wrap;\n",
              "      gap: 12px;\n",
              "    }\n",
              "\n",
              "    .colab-df-convert {\n",
              "      background-color: #E8F0FE;\n",
              "      border: none;\n",
              "      border-radius: 50%;\n",
              "      cursor: pointer;\n",
              "      display: none;\n",
              "      fill: #1967D2;\n",
              "      height: 32px;\n",
              "      padding: 0 0 0 0;\n",
              "      width: 32px;\n",
              "    }\n",
              "\n",
              "    .colab-df-convert:hover {\n",
              "      background-color: #E2EBFA;\n",
              "      box-shadow: 0px 1px 2px rgba(60, 64, 67, 0.3), 0px 1px 3px 1px rgba(60, 64, 67, 0.15);\n",
              "      fill: #174EA6;\n",
              "    }\n",
              "\n",
              "    [theme=dark] .colab-df-convert {\n",
              "      background-color: #3B4455;\n",
              "      fill: #D2E3FC;\n",
              "    }\n",
              "\n",
              "    [theme=dark] .colab-df-convert:hover {\n",
              "      background-color: #434B5C;\n",
              "      box-shadow: 0px 1px 3px 1px rgba(0, 0, 0, 0.15);\n",
              "      filter: drop-shadow(0px 1px 2px rgba(0, 0, 0, 0.3));\n",
              "      fill: #FFFFFF;\n",
              "    }\n",
              "  </style>\n",
              "\n",
              "      <script>\n",
              "        const buttonEl =\n",
              "          document.querySelector('#df-5d4ca1b7-07ad-4938-87ca-20e8346be7ec button.colab-df-convert');\n",
              "        buttonEl.style.display =\n",
              "          google.colab.kernel.accessAllowed ? 'block' : 'none';\n",
              "\n",
              "        async function convertToInteractive(key) {\n",
              "          const element = document.querySelector('#df-5d4ca1b7-07ad-4938-87ca-20e8346be7ec');\n",
              "          const dataTable =\n",
              "            await google.colab.kernel.invokeFunction('convertToInteractive',\n",
              "                                                     [key], {});\n",
              "          if (!dataTable) return;\n",
              "\n",
              "          const docLinkHtml = 'Like what you see? Visit the ' +\n",
              "            '<a target=\"_blank\" href=https://colab.research.google.com/notebooks/data_table.ipynb>data table notebook</a>'\n",
              "            + ' to learn more about interactive tables.';\n",
              "          element.innerHTML = '';\n",
              "          dataTable['output_type'] = 'display_data';\n",
              "          await google.colab.output.renderOutput(dataTable, element);\n",
              "          const docLink = document.createElement('div');\n",
              "          docLink.innerHTML = docLinkHtml;\n",
              "          element.appendChild(docLink);\n",
              "        }\n",
              "      </script>\n",
              "    </div>\n",
              "  </div>\n",
              "  "
            ]
          },
          "metadata": {},
          "execution_count": 33
        }
      ],
      "source": [
        "# printing the first 5 rows of the dataframe\n",
        "score_dataset.head()"
      ]
    },
    {
      "cell_type": "code",
      "execution_count": 34,
      "metadata": {
        "id": "yXpNuGvBHJxR",
        "colab": {
          "base_uri": "https://localhost:8080/",
          "height": 352
        },
        "outputId": "8f300676-d645-4dd9-9f08-87d695ddd324"
      },
      "outputs": [
        {
          "output_type": "execute_result",
          "data": {
            "text/plain": [
              "      n_student  pretest  posttest  school_ANKYI  school_CCAAW  school_CIMBB  \\\n",
              "2021         24       33        45             0             0             0   \n",
              "2022         15       53        68             0             0             0   \n",
              "2023         28       33        40             0             0             0   \n",
              "2024         26       36        51             0             0             0   \n",
              "2025         20       65        78             0             0             0   \n",
              "\n",
              "      school_CUQAM  school_DNQDD  school_FBUMG  school_GJJHK  ...  \\\n",
              "2021             0             0             0             0  ...   \n",
              "2022             0             0             0             0  ...   \n",
              "2023             0             0             0             0  ...   \n",
              "2024             0             0             0             0  ...   \n",
              "2025             0             0             0             0  ...   \n",
              "\n",
              "      classroom_YUC  classroom_ZBH  classroom_ZDT  classroom_ZNS  \\\n",
              "2021              0              0              0              0   \n",
              "2022              0              0              0              0   \n",
              "2023              0              0              0              0   \n",
              "2024              0              0              0              0   \n",
              "2025              0              0              0              0   \n",
              "\n",
              "      teaching_method_Experimental  teaching_method_Standard  gender_Female  \\\n",
              "2021                             0                         1              0   \n",
              "2022                             1                         0              0   \n",
              "2023                             0                         1              1   \n",
              "2024                             1                         0              0   \n",
              "2025                             0                         1              1   \n",
              "\n",
              "      gender_Male  lunch_Does not qualify  \\\n",
              "2021            1                       0   \n",
              "2022            1                       0   \n",
              "2023            0                       0   \n",
              "2024            1                       0   \n",
              "2025            0                       1   \n",
              "\n",
              "      lunch_Qualifies for reduced/free lunch  \n",
              "2021                                       1  \n",
              "2022                                       1  \n",
              "2023                                       1  \n",
              "2024                                       1  \n",
              "2025                                       0  \n",
              "\n",
              "[5 rows x 134 columns]"
            ],
            "text/html": [
              "\n",
              "  <div id=\"df-950dc9cb-2df8-4bb2-92aa-4d3e46a10aae\">\n",
              "    <div class=\"colab-df-container\">\n",
              "      <div>\n",
              "<style scoped>\n",
              "    .dataframe tbody tr th:only-of-type {\n",
              "        vertical-align: middle;\n",
              "    }\n",
              "\n",
              "    .dataframe tbody tr th {\n",
              "        vertical-align: top;\n",
              "    }\n",
              "\n",
              "    .dataframe thead th {\n",
              "        text-align: right;\n",
              "    }\n",
              "</style>\n",
              "<table border=\"1\" class=\"dataframe\">\n",
              "  <thead>\n",
              "    <tr style=\"text-align: right;\">\n",
              "      <th></th>\n",
              "      <th>n_student</th>\n",
              "      <th>pretest</th>\n",
              "      <th>posttest</th>\n",
              "      <th>school_ANKYI</th>\n",
              "      <th>school_CCAAW</th>\n",
              "      <th>school_CIMBB</th>\n",
              "      <th>school_CUQAM</th>\n",
              "      <th>school_DNQDD</th>\n",
              "      <th>school_FBUMG</th>\n",
              "      <th>school_GJJHK</th>\n",
              "      <th>...</th>\n",
              "      <th>classroom_YUC</th>\n",
              "      <th>classroom_ZBH</th>\n",
              "      <th>classroom_ZDT</th>\n",
              "      <th>classroom_ZNS</th>\n",
              "      <th>teaching_method_Experimental</th>\n",
              "      <th>teaching_method_Standard</th>\n",
              "      <th>gender_Female</th>\n",
              "      <th>gender_Male</th>\n",
              "      <th>lunch_Does not qualify</th>\n",
              "      <th>lunch_Qualifies for reduced/free lunch</th>\n",
              "    </tr>\n",
              "  </thead>\n",
              "  <tbody>\n",
              "    <tr>\n",
              "      <th>2021</th>\n",
              "      <td>24</td>\n",
              "      <td>33</td>\n",
              "      <td>45</td>\n",
              "      <td>0</td>\n",
              "      <td>0</td>\n",
              "      <td>0</td>\n",
              "      <td>0</td>\n",
              "      <td>0</td>\n",
              "      <td>0</td>\n",
              "      <td>0</td>\n",
              "      <td>...</td>\n",
              "      <td>0</td>\n",
              "      <td>0</td>\n",
              "      <td>0</td>\n",
              "      <td>0</td>\n",
              "      <td>0</td>\n",
              "      <td>1</td>\n",
              "      <td>0</td>\n",
              "      <td>1</td>\n",
              "      <td>0</td>\n",
              "      <td>1</td>\n",
              "    </tr>\n",
              "    <tr>\n",
              "      <th>2022</th>\n",
              "      <td>15</td>\n",
              "      <td>53</td>\n",
              "      <td>68</td>\n",
              "      <td>0</td>\n",
              "      <td>0</td>\n",
              "      <td>0</td>\n",
              "      <td>0</td>\n",
              "      <td>0</td>\n",
              "      <td>0</td>\n",
              "      <td>0</td>\n",
              "      <td>...</td>\n",
              "      <td>0</td>\n",
              "      <td>0</td>\n",
              "      <td>0</td>\n",
              "      <td>0</td>\n",
              "      <td>1</td>\n",
              "      <td>0</td>\n",
              "      <td>0</td>\n",
              "      <td>1</td>\n",
              "      <td>0</td>\n",
              "      <td>1</td>\n",
              "    </tr>\n",
              "    <tr>\n",
              "      <th>2023</th>\n",
              "      <td>28</td>\n",
              "      <td>33</td>\n",
              "      <td>40</td>\n",
              "      <td>0</td>\n",
              "      <td>0</td>\n",
              "      <td>0</td>\n",
              "      <td>0</td>\n",
              "      <td>0</td>\n",
              "      <td>0</td>\n",
              "      <td>0</td>\n",
              "      <td>...</td>\n",
              "      <td>0</td>\n",
              "      <td>0</td>\n",
              "      <td>0</td>\n",
              "      <td>0</td>\n",
              "      <td>0</td>\n",
              "      <td>1</td>\n",
              "      <td>1</td>\n",
              "      <td>0</td>\n",
              "      <td>0</td>\n",
              "      <td>1</td>\n",
              "    </tr>\n",
              "    <tr>\n",
              "      <th>2024</th>\n",
              "      <td>26</td>\n",
              "      <td>36</td>\n",
              "      <td>51</td>\n",
              "      <td>0</td>\n",
              "      <td>0</td>\n",
              "      <td>0</td>\n",
              "      <td>0</td>\n",
              "      <td>0</td>\n",
              "      <td>0</td>\n",
              "      <td>0</td>\n",
              "      <td>...</td>\n",
              "      <td>0</td>\n",
              "      <td>0</td>\n",
              "      <td>0</td>\n",
              "      <td>0</td>\n",
              "      <td>1</td>\n",
              "      <td>0</td>\n",
              "      <td>0</td>\n",
              "      <td>1</td>\n",
              "      <td>0</td>\n",
              "      <td>1</td>\n",
              "    </tr>\n",
              "    <tr>\n",
              "      <th>2025</th>\n",
              "      <td>20</td>\n",
              "      <td>65</td>\n",
              "      <td>78</td>\n",
              "      <td>0</td>\n",
              "      <td>0</td>\n",
              "      <td>0</td>\n",
              "      <td>0</td>\n",
              "      <td>0</td>\n",
              "      <td>0</td>\n",
              "      <td>0</td>\n",
              "      <td>...</td>\n",
              "      <td>0</td>\n",
              "      <td>0</td>\n",
              "      <td>0</td>\n",
              "      <td>0</td>\n",
              "      <td>0</td>\n",
              "      <td>1</td>\n",
              "      <td>1</td>\n",
              "      <td>0</td>\n",
              "      <td>1</td>\n",
              "      <td>0</td>\n",
              "    </tr>\n",
              "  </tbody>\n",
              "</table>\n",
              "<p>5 rows × 134 columns</p>\n",
              "</div>\n",
              "      <button class=\"colab-df-convert\" onclick=\"convertToInteractive('df-950dc9cb-2df8-4bb2-92aa-4d3e46a10aae')\"\n",
              "              title=\"Convert this dataframe to an interactive table.\"\n",
              "              style=\"display:none;\">\n",
              "        \n",
              "  <svg xmlns=\"http://www.w3.org/2000/svg\" height=\"24px\"viewBox=\"0 0 24 24\"\n",
              "       width=\"24px\">\n",
              "    <path d=\"M0 0h24v24H0V0z\" fill=\"none\"/>\n",
              "    <path d=\"M18.56 5.44l.94 2.06.94-2.06 2.06-.94-2.06-.94-.94-2.06-.94 2.06-2.06.94zm-11 1L8.5 8.5l.94-2.06 2.06-.94-2.06-.94L8.5 2.5l-.94 2.06-2.06.94zm10 10l.94 2.06.94-2.06 2.06-.94-2.06-.94-.94-2.06-.94 2.06-2.06.94z\"/><path d=\"M17.41 7.96l-1.37-1.37c-.4-.4-.92-.59-1.43-.59-.52 0-1.04.2-1.43.59L10.3 9.45l-7.72 7.72c-.78.78-.78 2.05 0 2.83L4 21.41c.39.39.9.59 1.41.59.51 0 1.02-.2 1.41-.59l7.78-7.78 2.81-2.81c.8-.78.8-2.07 0-2.86zM5.41 20L4 18.59l7.72-7.72 1.47 1.35L5.41 20z\"/>\n",
              "  </svg>\n",
              "      </button>\n",
              "      \n",
              "  <style>\n",
              "    .colab-df-container {\n",
              "      display:flex;\n",
              "      flex-wrap:wrap;\n",
              "      gap: 12px;\n",
              "    }\n",
              "\n",
              "    .colab-df-convert {\n",
              "      background-color: #E8F0FE;\n",
              "      border: none;\n",
              "      border-radius: 50%;\n",
              "      cursor: pointer;\n",
              "      display: none;\n",
              "      fill: #1967D2;\n",
              "      height: 32px;\n",
              "      padding: 0 0 0 0;\n",
              "      width: 32px;\n",
              "    }\n",
              "\n",
              "    .colab-df-convert:hover {\n",
              "      background-color: #E2EBFA;\n",
              "      box-shadow: 0px 1px 2px rgba(60, 64, 67, 0.3), 0px 1px 3px 1px rgba(60, 64, 67, 0.15);\n",
              "      fill: #174EA6;\n",
              "    }\n",
              "\n",
              "    [theme=dark] .colab-df-convert {\n",
              "      background-color: #3B4455;\n",
              "      fill: #D2E3FC;\n",
              "    }\n",
              "\n",
              "    [theme=dark] .colab-df-convert:hover {\n",
              "      background-color: #434B5C;\n",
              "      box-shadow: 0px 1px 3px 1px rgba(0, 0, 0, 0.15);\n",
              "      filter: drop-shadow(0px 1px 2px rgba(0, 0, 0, 0.3));\n",
              "      fill: #FFFFFF;\n",
              "    }\n",
              "  </style>\n",
              "\n",
              "      <script>\n",
              "        const buttonEl =\n",
              "          document.querySelector('#df-950dc9cb-2df8-4bb2-92aa-4d3e46a10aae button.colab-df-convert');\n",
              "        buttonEl.style.display =\n",
              "          google.colab.kernel.accessAllowed ? 'block' : 'none';\n",
              "\n",
              "        async function convertToInteractive(key) {\n",
              "          const element = document.querySelector('#df-950dc9cb-2df8-4bb2-92aa-4d3e46a10aae');\n",
              "          const dataTable =\n",
              "            await google.colab.kernel.invokeFunction('convertToInteractive',\n",
              "                                                     [key], {});\n",
              "          if (!dataTable) return;\n",
              "\n",
              "          const docLinkHtml = 'Like what you see? Visit the ' +\n",
              "            '<a target=\"_blank\" href=https://colab.research.google.com/notebooks/data_table.ipynb>data table notebook</a>'\n",
              "            + ' to learn more about interactive tables.';\n",
              "          element.innerHTML = '';\n",
              "          dataTable['output_type'] = 'display_data';\n",
              "          await google.colab.output.renderOutput(dataTable, element);\n",
              "          const docLink = document.createElement('div');\n",
              "          docLink.innerHTML = docLinkHtml;\n",
              "          element.appendChild(docLink);\n",
              "        }\n",
              "      </script>\n",
              "    </div>\n",
              "  </div>\n",
              "  "
            ]
          },
          "metadata": {},
          "execution_count": 34
        }
      ],
      "source": [
        "# printing the last 5 rows of the dataframe\n",
        "score_dataset.tail()"
      ]
    },
    {
      "cell_type": "code",
      "execution_count": 35,
      "metadata": {
        "id": "fH0cLo2mIY0T",
        "colab": {
          "base_uri": "https://localhost:8080/"
        },
        "outputId": "7ef18afb-03fb-497a-a359-800e906642b8"
      },
      "outputs": [
        {
          "output_type": "execute_result",
          "data": {
            "text/plain": [
              "(2026, 134)"
            ]
          },
          "metadata": {},
          "execution_count": 35
        }
      ],
      "source": [
        "# number of rows and columns\n",
        "score_dataset.shape"
      ]
    },
    {
      "cell_type": "code",
      "execution_count": 36,
      "metadata": {
        "id": "9dRfxHSqIhQa",
        "colab": {
          "base_uri": "https://localhost:8080/"
        },
        "outputId": "6f857c48-a96c-4152-9638-1b951c01b3c8"
      },
      "outputs": [
        {
          "output_type": "stream",
          "name": "stdout",
          "text": [
            "<class 'pandas.core.frame.DataFrame'>\n",
            "Int64Index: 2026 entries, 0 to 2025\n",
            "Columns: 134 entries, n_student to lunch_Qualifies for reduced/free lunch\n",
            "dtypes: int64(3), uint8(131)\n",
            "memory usage: 322.5 KB\n"
          ]
        }
      ],
      "source": [
        "score_dataset.info()"
      ]
    },
    {
      "cell_type": "markdown",
      "metadata": {
        "id": "XNPsHo-aImlo"
      },
      "source": [
        "There is no text data in any columns in score_dataset\n",
        "\n",
        "\n",
        "\n"
      ]
    },
    {
      "cell_type": "code",
      "source": [
        "score_dataset.corr()['posttest']#the correlation with the target variable"
      ],
      "metadata": {
        "colab": {
          "base_uri": "https://localhost:8080/"
        },
        "id": "Wkm_0fXLSQoN",
        "outputId": "a6f89ec5-8e2f-4ed4-f00a-df178c204ff9"
      },
      "execution_count": 37,
      "outputs": [
        {
          "output_type": "execute_result",
          "data": {
            "text/plain": [
              "n_student                                -0.505762\n",
              "pretest                                   0.951527\n",
              "posttest                                  1.000000\n",
              "school_ANKYI                              0.043920\n",
              "school_CCAAW                              0.180962\n",
              "                                            ...   \n",
              "teaching_method_Standard                 -0.312110\n",
              "gender_Female                            -0.002834\n",
              "gender_Male                               0.002834\n",
              "lunch_Does not qualify                    0.602951\n",
              "lunch_Qualifies for reduced/free lunch   -0.602951\n",
              "Name: posttest, Length: 134, dtype: float64"
            ]
          },
          "metadata": {},
          "execution_count": 37
        }
      ]
    },
    {
      "cell_type": "code",
      "source": [
        "cor = score_dataset.corr()\n",
        "#Correlation with output variable\n",
        "cor_target = abs(cor[\"posttest\"])\n",
        "#Selecting highly correlated features\n",
        "relevant_features = cor_target[cor_target>0.3]#choosing the\n",
        "relevant_features"
      ],
      "metadata": {
        "colab": {
          "base_uri": "https://localhost:8080/"
        },
        "id": "qR52BE3rSddz",
        "outputId": "d757e6da-3f38-4861-f0cc-2aacc03fac1d"
      },
      "execution_count": 38,
      "outputs": [
        {
          "output_type": "execute_result",
          "data": {
            "text/plain": [
              "n_student                                 0.505762\n",
              "pretest                                   0.951527\n",
              "posttest                                  1.000000\n",
              "school_GOOBU                              0.358480\n",
              "school_IDGFP                              0.307869\n",
              "school_KZKKE                              0.317906\n",
              "school_UKPGS                              0.438616\n",
              "school_VVTVA                              0.306937\n",
              "school_setting_Suburban                   0.455322\n",
              "school_setting_Urban                      0.334434\n",
              "school_type_Non-public                    0.375162\n",
              "school_type_Public                        0.375162\n",
              "teaching_method_Experimental              0.312110\n",
              "teaching_method_Standard                  0.312110\n",
              "lunch_Does not qualify                    0.602951\n",
              "lunch_Qualifies for reduced/free lunch    0.602951\n",
              "Name: posttest, dtype: float64"
            ]
          },
          "metadata": {},
          "execution_count": 38
        }
      ]
    },
    {
      "cell_type": "code",
      "source": [
        "best_features=[\"n_student\",'pretest','school_GOOBU','school_IDGFP','school_KZKKE','school_UKPGS','school_VVTVA',\n",
        "               'school_setting_Suburban','school_setting_Urban','school_type_Non-public','school_type_Public',\n",
        "               'teaching_method_Experimental','teaching_method_Standard','lunch_Does not qualify',\n",
        "               'lunch_Qualifies for reduced/free lunch']"
      ],
      "metadata": {
        "id": "LRNIyuHaSr5Z"
      },
      "execution_count": 39,
      "outputs": []
    },
    {
      "cell_type": "markdown",
      "metadata": {
        "id": "frnfU681K2eC"
      },
      "source": [
        "# Splitting features and target:"
      ]
    },
    {
      "cell_type": "code",
      "execution_count": 40,
      "metadata": {
        "id": "qjku7yMA4Y32"
      },
      "outputs": [],
      "source": [
        "X=score_dataset[best_features]\n",
        "Y=score_dataset['posttest']\n",
        "X_train, X_test, Y_train,Y_test=train_test_split(X,Y,test_size=0.2,random_state=62,shuffle=True)"
      ]
    },
    {
      "cell_type": "code",
      "execution_count": 41,
      "metadata": {
        "id": "lB94sNXEL0ZO",
        "colab": {
          "base_uri": "https://localhost:8080/"
        },
        "outputId": "76e1e83e-aa8e-4bd1-ca63-16177ecac26e"
      },
      "outputs": [
        {
          "output_type": "stream",
          "name": "stdout",
          "text": [
            "(1620, 15) (406, 15) (1620,) (406,)\n"
          ]
        }
      ],
      "source": [
        "print(X_train.shape, X_test.shape, Y_train.shape, Y_test.shape)"
      ]
    },
    {
      "cell_type": "code",
      "source": [],
      "metadata": {
        "id": "jp6bZV2UVGhi"
      },
      "execution_count": 41,
      "outputs": []
    }
  ],
  "metadata": {
    "colab": {
      "provenance": []
    },
    "kernelspec": {
      "display_name": "Python 3",
      "name": "python3"
    },
    "language_info": {
      "name": "python"
    },
    "accelerator": "GPU",
    "gpuClass": "standard"
  },
  "nbformat": 4,
  "nbformat_minor": 0
}