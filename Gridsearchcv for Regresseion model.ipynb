{
  "nbformat": 4,
  "nbformat_minor": 0,
  "metadata": {
    "colab": {
      "provenance": []
    },
    "kernelspec": {
      "name": "python3",
      "display_name": "Python 3"
    },
    "language_info": {
      "name": "python"
    }
  },
  "cells": [
    {
      "cell_type": "code",
      "execution_count": 53,
      "metadata": {
        "id": "qJH0pQT4iSGh"
      },
      "outputs": [],
      "source": [
        "import numpy as np\n",
        "import pandas as pd\n",
        "import matplotlib.pyplot as plt\n",
        "import seaborn as sns\n",
        "import re\n",
        "import nltk\n",
        "import string\n",
        "from nltk.corpus import *\n",
        "from wordcloud import *\n",
        "from sklearn import *\n",
        "from sklearn.model_selection import KFold, cross_val_score\n",
        "from sklearn.model_selection import train_test_split\n",
        "from sklearn.pipeline import Pipeline\n",
        "from sklearn.preprocessing import StandardScaler\n",
        "from sklearn.linear_model import LinearRegression\n",
        "from sklearn.decomposition import *\n",
        "from sklearn.tree import *\n",
        "from sklearn.feature_extraction.text import *\n",
        "from sklearn.linear_model import LogisticRegression\n",
        "from sklearn.ensemble import *\n",
        "from sklearn.metrics import *\n",
        "%matplotlib inline"
      ]
    },
    {
      "cell_type": "code",
      "source": [
        "df=pd.read_csv('one_hot.csv')\n",
        "import matplotlib.pyplot as plt\n",
        "df.head()\n",
        "len(df)"
      ],
      "metadata": {
        "colab": {
          "base_uri": "https://localhost:8080/"
        },
        "id": "G0VcX8-9i-Kt",
        "outputId": "83e8e40c-7c05-4013-dbe8-b2d399855c6c"
      },
      "execution_count": 54,
      "outputs": [
        {
          "output_type": "execute_result",
          "data": {
            "text/plain": [
              "2026"
            ]
          },
          "metadata": {},
          "execution_count": 54
        }
      ]
    },
    {
      "cell_type": "code",
      "source": [
        "df.corr()['posttest']#the correlation with the target variable"
      ],
      "metadata": {
        "colab": {
          "base_uri": "https://localhost:8080/"
        },
        "id": "ciOCLnDJj3Vo",
        "outputId": "0d6fbb46-d3cf-4c3b-9e89-560f1e679e1b"
      },
      "execution_count": 55,
      "outputs": [
        {
          "output_type": "execute_result",
          "data": {
            "text/plain": [
              "n_student                                -0.505762\n",
              "pretest                                   0.951527\n",
              "posttest                                  1.000000\n",
              "school_ANKYI                              0.043920\n",
              "school_CCAAW                              0.180962\n",
              "                                            ...   \n",
              "teaching_method_Standard                 -0.312110\n",
              "gender_Female                            -0.002834\n",
              "gender_Male                               0.002834\n",
              "lunch_Does not qualify                    0.602951\n",
              "lunch_Qualifies for reduced/free lunch   -0.602951\n",
              "Name: posttest, Length: 134, dtype: float64"
            ]
          },
          "metadata": {},
          "execution_count": 55
        }
      ]
    },
    {
      "cell_type": "code",
      "source": [
        "cor = df.corr()\n",
        "#Correlation with output variable\n",
        "cor_target = abs(cor[\"posttest\"])\n",
        "#Selecting highly correlated features\n",
        "relevant_features = cor_target[cor_target>0.3]#choosing the\n",
        "relevant_features"
      ],
      "metadata": {
        "colab": {
          "base_uri": "https://localhost:8080/"
        },
        "id": "4br234QqkXxF",
        "outputId": "9d181a8b-b9c3-45fd-9d61-d10a4692db09"
      },
      "execution_count": 56,
      "outputs": [
        {
          "output_type": "execute_result",
          "data": {
            "text/plain": [
              "n_student                                 0.505762\n",
              "pretest                                   0.951527\n",
              "posttest                                  1.000000\n",
              "school_GOOBU                              0.358480\n",
              "school_IDGFP                              0.307869\n",
              "school_KZKKE                              0.317906\n",
              "school_UKPGS                              0.438616\n",
              "school_VVTVA                              0.306937\n",
              "school_setting_Suburban                   0.455322\n",
              "school_setting_Urban                      0.334434\n",
              "school_type_Non-public                    0.375162\n",
              "school_type_Public                        0.375162\n",
              "teaching_method_Experimental              0.312110\n",
              "teaching_method_Standard                  0.312110\n",
              "lunch_Does not qualify                    0.602951\n",
              "lunch_Qualifies for reduced/free lunch    0.602951\n",
              "Name: posttest, dtype: float64"
            ]
          },
          "metadata": {},
          "execution_count": 56
        }
      ]
    },
    {
      "cell_type": "code",
      "source": [
        "best_features=[\"n_student\",'pretest','school_GOOBU','school_IDGFP','school_KZKKE','school_UKPGS','school_VVTVA',\n",
        "               'school_setting_Suburban','school_setting_Urban','school_type_Non-public','school_type_Public',\n",
        "               'teaching_method_Experimental','teaching_method_Standard','lunch_Does not qualify',\n",
        "               'lunch_Qualifies for reduced/free lunch']"
      ],
      "metadata": {
        "id": "6GJ-yU-rkjN6"
      },
      "execution_count": 57,
      "outputs": []
    },
    {
      "cell_type": "code",
      "source": [
        "X=df[best_features]\n",
        "Y=df['posttest']\n",
        "X_train, X_test, Y_train,Y_test=train_test_split(X,Y,test_size=0.2,random_state=65,shuffle=True)"
      ],
      "metadata": {
        "id": "RUf9rB4okrxN"
      },
      "execution_count": 58,
      "outputs": []
    },
    {
      "cell_type": "code",
      "source": [
        "\n",
        "from sklearn.metrics import mean_squared_error, mean_absolute_error, r2_score\n",
        "from sklearn.linear_model import LinearRegression\n",
        "from sklearn.model_selection import GridSearchCV\n",
        "model = LinearRegression()\n",
        "model.fit(X_train,Y_train)\n",
        "pred = model.predict(X_test)\n",
        "predicted_values = np.array(pred)\n",
        "# Iterate through the list and round each value to the nearest integer\n",
        "rounded_values = np.round(predicted_values).astype(int)\n",
        "\n",
        "# Calculate the mean squared error (MSE)\n",
        "mse = mean_squared_error(Y_test, rounded_values)\n",
        "\n",
        "# Calculate the root mean squared error (RMSE)\n",
        "rmse = np.sqrt(mse)\n",
        "\n",
        "# Calculate the explained variance score (R^2)\n",
        "r2 = r2_score(Y_test, rounded_values)\n",
        "\n",
        "# Calculate the fraction of variance explained (FVE)\n",
        "fve = 1 - mse / np.var(Y_test)\n",
        "\n",
        "# Print the evaluation metrics\n",
        "print('MSE: ', mse)\n",
        "print('RMSE: ', rmse)\n",
        "print('R^2: ', r2)\n",
        "print(f'Accuracy: {round(r2_score(Y_test , rounded_values),3)*100}%')\n",
        "\n",
        "print('FVE: ', fve)\n",
        "\n",
        "\n",
        "\n",
        "\n"
      ],
      "metadata": {
        "colab": {
          "base_uri": "https://localhost:8080/"
        },
        "id": "b8MhF9PMkxf6",
        "outputId": "85b43ad1-cf72-4fdf-cebb-78746498a0ad"
      },
      "execution_count": 59,
      "outputs": [
        {
          "output_type": "stream",
          "name": "stdout",
          "text": [
            "MSE:  10.238916256157635\n",
            "RMSE:  3.1998306605440288\n",
            "R^2:  0.9489727765335639\n",
            "Accuracy: 94.89999999999999%\n",
            "FVE:  0.9489727765335639\n"
          ]
        }
      ]
    },
    {
      "cell_type": "code",
      "source": [
        "#now for random forest regressor\n",
        "rfr=GridSearchCV(RandomForestRegressor(random_state=62),{\n",
        "    # Number of trees in random forest\n",
        "    'n_estimators': [100, 200, 300],\n",
        "    'criterion': ['squared_error', 'poisson','absolute_error'],\n",
        "    # Maximum depth of tree\n",
        "    'max_depth': [10, 20, 30, 50],\n",
        "    # minimum number of samples needed to split\n",
        "    'min_samples_split': [2, 5, 10],\n",
        "    # Number of features to consider at every split\n",
        "    'max_features' : ['log2', 'sqrt',1],\n",
        "    # Method of selecting samples for training each tree\n",
        "    'bootstrap' : [True, False],\n",
        "},cv=3,return_train_score=False)\n",
        "rfr.fit(X_train,Y_train)\n",
        "\n",
        "\n"
      ],
      "metadata": {
        "id": "-tOG_jvQqZrk",
        "colab": {
          "base_uri": "https://localhost:8080/",
          "height": 118
        },
        "outputId": "5554b524-00dd-417b-8a6b-915d8a08f23a"
      },
      "execution_count": 60,
      "outputs": [
        {
          "output_type": "execute_result",
          "data": {
            "text/plain": [
              "GridSearchCV(cv=3, estimator=RandomForestRegressor(random_state=62),\n",
              "             param_grid={'bootstrap': [True, False],\n",
              "                         'criterion': ['squared_error', 'poisson',\n",
              "                                       'absolute_error'],\n",
              "                         'max_depth': [10, 20, 30, 50],\n",
              "                         'max_features': ['log2', 'sqrt', 1],\n",
              "                         'min_samples_split': [2, 5, 10],\n",
              "                         'n_estimators': [100, 200, 300]})"
            ],
            "text/html": [
              "<style>#sk-container-id-11 {color: black;background-color: white;}#sk-container-id-11 pre{padding: 0;}#sk-container-id-11 div.sk-toggleable {background-color: white;}#sk-container-id-11 label.sk-toggleable__label {cursor: pointer;display: block;width: 100%;margin-bottom: 0;padding: 0.3em;box-sizing: border-box;text-align: center;}#sk-container-id-11 label.sk-toggleable__label-arrow:before {content: \"▸\";float: left;margin-right: 0.25em;color: #696969;}#sk-container-id-11 label.sk-toggleable__label-arrow:hover:before {color: black;}#sk-container-id-11 div.sk-estimator:hover label.sk-toggleable__label-arrow:before {color: black;}#sk-container-id-11 div.sk-toggleable__content {max-height: 0;max-width: 0;overflow: hidden;text-align: left;background-color: #f0f8ff;}#sk-container-id-11 div.sk-toggleable__content pre {margin: 0.2em;color: black;border-radius: 0.25em;background-color: #f0f8ff;}#sk-container-id-11 input.sk-toggleable__control:checked~div.sk-toggleable__content {max-height: 200px;max-width: 100%;overflow: auto;}#sk-container-id-11 input.sk-toggleable__control:checked~label.sk-toggleable__label-arrow:before {content: \"▾\";}#sk-container-id-11 div.sk-estimator input.sk-toggleable__control:checked~label.sk-toggleable__label {background-color: #d4ebff;}#sk-container-id-11 div.sk-label input.sk-toggleable__control:checked~label.sk-toggleable__label {background-color: #d4ebff;}#sk-container-id-11 input.sk-hidden--visually {border: 0;clip: rect(1px 1px 1px 1px);clip: rect(1px, 1px, 1px, 1px);height: 1px;margin: -1px;overflow: hidden;padding: 0;position: absolute;width: 1px;}#sk-container-id-11 div.sk-estimator {font-family: monospace;background-color: #f0f8ff;border: 1px dotted black;border-radius: 0.25em;box-sizing: border-box;margin-bottom: 0.5em;}#sk-container-id-11 div.sk-estimator:hover {background-color: #d4ebff;}#sk-container-id-11 div.sk-parallel-item::after {content: \"\";width: 100%;border-bottom: 1px solid gray;flex-grow: 1;}#sk-container-id-11 div.sk-label:hover label.sk-toggleable__label {background-color: #d4ebff;}#sk-container-id-11 div.sk-serial::before {content: \"\";position: absolute;border-left: 1px solid gray;box-sizing: border-box;top: 0;bottom: 0;left: 50%;z-index: 0;}#sk-container-id-11 div.sk-serial {display: flex;flex-direction: column;align-items: center;background-color: white;padding-right: 0.2em;padding-left: 0.2em;position: relative;}#sk-container-id-11 div.sk-item {position: relative;z-index: 1;}#sk-container-id-11 div.sk-parallel {display: flex;align-items: stretch;justify-content: center;background-color: white;position: relative;}#sk-container-id-11 div.sk-item::before, #sk-container-id-11 div.sk-parallel-item::before {content: \"\";position: absolute;border-left: 1px solid gray;box-sizing: border-box;top: 0;bottom: 0;left: 50%;z-index: -1;}#sk-container-id-11 div.sk-parallel-item {display: flex;flex-direction: column;z-index: 1;position: relative;background-color: white;}#sk-container-id-11 div.sk-parallel-item:first-child::after {align-self: flex-end;width: 50%;}#sk-container-id-11 div.sk-parallel-item:last-child::after {align-self: flex-start;width: 50%;}#sk-container-id-11 div.sk-parallel-item:only-child::after {width: 0;}#sk-container-id-11 div.sk-dashed-wrapped {border: 1px dashed gray;margin: 0 0.4em 0.5em 0.4em;box-sizing: border-box;padding-bottom: 0.4em;background-color: white;}#sk-container-id-11 div.sk-label label {font-family: monospace;font-weight: bold;display: inline-block;line-height: 1.2em;}#sk-container-id-11 div.sk-label-container {text-align: center;}#sk-container-id-11 div.sk-container {/* jupyter's `normalize.less` sets `[hidden] { display: none; }` but bootstrap.min.css set `[hidden] { display: none !important; }` so we also need the `!important` here to be able to override the default hidden behavior on the sphinx rendered scikit-learn.org. See: https://github.com/scikit-learn/scikit-learn/issues/21755 */display: inline-block !important;position: relative;}#sk-container-id-11 div.sk-text-repr-fallback {display: none;}</style><div id=\"sk-container-id-11\" class=\"sk-top-container\"><div class=\"sk-text-repr-fallback\"><pre>GridSearchCV(cv=3, estimator=RandomForestRegressor(random_state=62),\n",
              "             param_grid={&#x27;bootstrap&#x27;: [True, False],\n",
              "                         &#x27;criterion&#x27;: [&#x27;squared_error&#x27;, &#x27;poisson&#x27;,\n",
              "                                       &#x27;absolute_error&#x27;],\n",
              "                         &#x27;max_depth&#x27;: [10, 20, 30, 50],\n",
              "                         &#x27;max_features&#x27;: [&#x27;log2&#x27;, &#x27;sqrt&#x27;, 1],\n",
              "                         &#x27;min_samples_split&#x27;: [2, 5, 10],\n",
              "                         &#x27;n_estimators&#x27;: [100, 200, 300]})</pre><b>In a Jupyter environment, please rerun this cell to show the HTML representation or trust the notebook. <br />On GitHub, the HTML representation is unable to render, please try loading this page with nbviewer.org.</b></div><div class=\"sk-container\" hidden><div class=\"sk-item sk-dashed-wrapped\"><div class=\"sk-label-container\"><div class=\"sk-label sk-toggleable\"><input class=\"sk-toggleable__control sk-hidden--visually\" id=\"sk-estimator-id-31\" type=\"checkbox\" ><label for=\"sk-estimator-id-31\" class=\"sk-toggleable__label sk-toggleable__label-arrow\">GridSearchCV</label><div class=\"sk-toggleable__content\"><pre>GridSearchCV(cv=3, estimator=RandomForestRegressor(random_state=62),\n",
              "             param_grid={&#x27;bootstrap&#x27;: [True, False],\n",
              "                         &#x27;criterion&#x27;: [&#x27;squared_error&#x27;, &#x27;poisson&#x27;,\n",
              "                                       &#x27;absolute_error&#x27;],\n",
              "                         &#x27;max_depth&#x27;: [10, 20, 30, 50],\n",
              "                         &#x27;max_features&#x27;: [&#x27;log2&#x27;, &#x27;sqrt&#x27;, 1],\n",
              "                         &#x27;min_samples_split&#x27;: [2, 5, 10],\n",
              "                         &#x27;n_estimators&#x27;: [100, 200, 300]})</pre></div></div></div><div class=\"sk-parallel\"><div class=\"sk-parallel-item\"><div class=\"sk-item\"><div class=\"sk-label-container\"><div class=\"sk-label sk-toggleable\"><input class=\"sk-toggleable__control sk-hidden--visually\" id=\"sk-estimator-id-32\" type=\"checkbox\" ><label for=\"sk-estimator-id-32\" class=\"sk-toggleable__label sk-toggleable__label-arrow\">estimator: RandomForestRegressor</label><div class=\"sk-toggleable__content\"><pre>RandomForestRegressor(random_state=62)</pre></div></div></div><div class=\"sk-serial\"><div class=\"sk-item\"><div class=\"sk-estimator sk-toggleable\"><input class=\"sk-toggleable__control sk-hidden--visually\" id=\"sk-estimator-id-33\" type=\"checkbox\" ><label for=\"sk-estimator-id-33\" class=\"sk-toggleable__label sk-toggleable__label-arrow\">RandomForestRegressor</label><div class=\"sk-toggleable__content\"><pre>RandomForestRegressor(random_state=62)</pre></div></div></div></div></div></div></div></div></div></div>"
            ]
          },
          "metadata": {},
          "execution_count": 60
        }
      ]
    },
    {
      "cell_type": "code",
      "source": [
        "rfr.best_params_"
      ],
      "metadata": {
        "colab": {
          "base_uri": "https://localhost:8080/"
        },
        "id": "hDEQFIJi2CrJ",
        "outputId": "cb6c4301-28c5-443f-cf9d-115cb17c03c4"
      },
      "execution_count": 61,
      "outputs": [
        {
          "output_type": "execute_result",
          "data": {
            "text/plain": [
              "{'bootstrap': True,\n",
              " 'criterion': 'squared_error',\n",
              " 'max_depth': 10,\n",
              " 'max_features': 'log2',\n",
              " 'min_samples_split': 10,\n",
              " 'n_estimators': 300}"
            ]
          },
          "metadata": {},
          "execution_count": 61
        }
      ]
    },
    {
      "cell_type": "code",
      "source": [
        "from sklearn.ensemble import RandomForestRegressor\n",
        "from math import log2\n",
        "rfr_best=RandomForestRegressor(criterion=\"squared_error\",max_depth=10,n_estimators=300, random_state=62,bootstrap=True,\n",
        "                           max_features='log2',min_samples_split=10)\n",
        "rfr_best.fit(X_train,Y_train)\n",
        "pred1 = rfr_best.predict(X_test)\n",
        "predicted_values1 = np.array(pred1)\n",
        "# Iterate through the list and round each value to the nearest integer\n",
        "rounded_values1 = np.round(predicted_values1).astype(int)\n",
        "# Calculate the mean squared error (MSE)\n",
        "mse = mean_squared_error(Y_test, rounded_values1)\n",
        "\n",
        "# Calculate the root mean squared error (RMSE)\n",
        "rmse = np.sqrt(mse)\n",
        "\n",
        "# Calculate the explained variance score (R^2)\n",
        "r2 = r2_score(Y_test, rounded_values1)\n",
        "\n",
        "# Calculate the fraction of variance explained (FVE)\n",
        "fve = 1 - mse / np.var(Y_test)\n",
        "\n",
        "# Print the evaluation metrics\n",
        "print('MSE: ', mse)\n",
        "print('RMSE: ', rmse)\n",
        "print('R^2: ', r2)\n",
        "print(f'Accuracy: {round(r2_score(Y_test , rounded_values1),3)*100}%')\n",
        "\n",
        "print('FVE: ', fve)"
      ],
      "metadata": {
        "colab": {
          "base_uri": "https://localhost:8080/"
        },
        "id": "kAv1O6gJ2Kn7",
        "outputId": "0d070782-d3a6-4c7d-96bb-3c7965353035"
      },
      "execution_count": 24,
      "outputs": [
        {
          "output_type": "stream",
          "name": "stdout",
          "text": [
            "MSE:  9.002463054187192\n",
            "RMSE:  3.000410480948764\n",
            "R^2:  0.9551348323863786\n",
            "Accuracy: 95.5%\n",
            "FVE:  0.9551348323863786\n"
          ]
        }
      ]
    },
    {
      "cell_type": "code",
      "source": [
        "#now for decision Tree regression\n",
        "from sklearn.tree import DecisionTreeRegressor\n",
        "dtr=GridSearchCV(DecisionTreeRegressor(random_state=62),{\n",
        "    'criterion': ['squared_error', 'poisson','absolute_error'],\n",
        "    # Maximum depth of tree\n",
        "    'max_depth': [10, 20, 30, 50],\n",
        "    # minimum number of samples needed to split\n",
        "    'min_samples_split': [2, 5, 10],\n",
        "    # Number of features to consider at every split\n",
        "    'max_features' : ['log2', 'sqrt',1]\n",
        "},cv=3,return_train_score=False)\n",
        "dtr.fit(X_train,Y_train)\n",
        "\n",
        "\n"
      ],
      "metadata": {
        "colab": {
          "base_uri": "https://localhost:8080/",
          "height": 118
        },
        "id": "icib8wvO3ypQ",
        "outputId": "8444b2ad-41fc-4253-ee82-f9cf8bc81ffe"
      },
      "execution_count": 40,
      "outputs": [
        {
          "output_type": "execute_result",
          "data": {
            "text/plain": [
              "GridSearchCV(cv=3, estimator=DecisionTreeRegressor(random_state=62),\n",
              "             param_grid={'criterion': ['squared_error', 'poisson',\n",
              "                                       'absolute_error'],\n",
              "                         'max_depth': [10, 20, 30, 50],\n",
              "                         'max_features': ['log2', 'sqrt', 1],\n",
              "                         'min_samples_split': [2, 5, 10]})"
            ],
            "text/html": [
              "<style>#sk-container-id-8 {color: black;background-color: white;}#sk-container-id-8 pre{padding: 0;}#sk-container-id-8 div.sk-toggleable {background-color: white;}#sk-container-id-8 label.sk-toggleable__label {cursor: pointer;display: block;width: 100%;margin-bottom: 0;padding: 0.3em;box-sizing: border-box;text-align: center;}#sk-container-id-8 label.sk-toggleable__label-arrow:before {content: \"▸\";float: left;margin-right: 0.25em;color: #696969;}#sk-container-id-8 label.sk-toggleable__label-arrow:hover:before {color: black;}#sk-container-id-8 div.sk-estimator:hover label.sk-toggleable__label-arrow:before {color: black;}#sk-container-id-8 div.sk-toggleable__content {max-height: 0;max-width: 0;overflow: hidden;text-align: left;background-color: #f0f8ff;}#sk-container-id-8 div.sk-toggleable__content pre {margin: 0.2em;color: black;border-radius: 0.25em;background-color: #f0f8ff;}#sk-container-id-8 input.sk-toggleable__control:checked~div.sk-toggleable__content {max-height: 200px;max-width: 100%;overflow: auto;}#sk-container-id-8 input.sk-toggleable__control:checked~label.sk-toggleable__label-arrow:before {content: \"▾\";}#sk-container-id-8 div.sk-estimator input.sk-toggleable__control:checked~label.sk-toggleable__label {background-color: #d4ebff;}#sk-container-id-8 div.sk-label input.sk-toggleable__control:checked~label.sk-toggleable__label {background-color: #d4ebff;}#sk-container-id-8 input.sk-hidden--visually {border: 0;clip: rect(1px 1px 1px 1px);clip: rect(1px, 1px, 1px, 1px);height: 1px;margin: -1px;overflow: hidden;padding: 0;position: absolute;width: 1px;}#sk-container-id-8 div.sk-estimator {font-family: monospace;background-color: #f0f8ff;border: 1px dotted black;border-radius: 0.25em;box-sizing: border-box;margin-bottom: 0.5em;}#sk-container-id-8 div.sk-estimator:hover {background-color: #d4ebff;}#sk-container-id-8 div.sk-parallel-item::after {content: \"\";width: 100%;border-bottom: 1px solid gray;flex-grow: 1;}#sk-container-id-8 div.sk-label:hover label.sk-toggleable__label {background-color: #d4ebff;}#sk-container-id-8 div.sk-serial::before {content: \"\";position: absolute;border-left: 1px solid gray;box-sizing: border-box;top: 0;bottom: 0;left: 50%;z-index: 0;}#sk-container-id-8 div.sk-serial {display: flex;flex-direction: column;align-items: center;background-color: white;padding-right: 0.2em;padding-left: 0.2em;position: relative;}#sk-container-id-8 div.sk-item {position: relative;z-index: 1;}#sk-container-id-8 div.sk-parallel {display: flex;align-items: stretch;justify-content: center;background-color: white;position: relative;}#sk-container-id-8 div.sk-item::before, #sk-container-id-8 div.sk-parallel-item::before {content: \"\";position: absolute;border-left: 1px solid gray;box-sizing: border-box;top: 0;bottom: 0;left: 50%;z-index: -1;}#sk-container-id-8 div.sk-parallel-item {display: flex;flex-direction: column;z-index: 1;position: relative;background-color: white;}#sk-container-id-8 div.sk-parallel-item:first-child::after {align-self: flex-end;width: 50%;}#sk-container-id-8 div.sk-parallel-item:last-child::after {align-self: flex-start;width: 50%;}#sk-container-id-8 div.sk-parallel-item:only-child::after {width: 0;}#sk-container-id-8 div.sk-dashed-wrapped {border: 1px dashed gray;margin: 0 0.4em 0.5em 0.4em;box-sizing: border-box;padding-bottom: 0.4em;background-color: white;}#sk-container-id-8 div.sk-label label {font-family: monospace;font-weight: bold;display: inline-block;line-height: 1.2em;}#sk-container-id-8 div.sk-label-container {text-align: center;}#sk-container-id-8 div.sk-container {/* jupyter's `normalize.less` sets `[hidden] { display: none; }` but bootstrap.min.css set `[hidden] { display: none !important; }` so we also need the `!important` here to be able to override the default hidden behavior on the sphinx rendered scikit-learn.org. See: https://github.com/scikit-learn/scikit-learn/issues/21755 */display: inline-block !important;position: relative;}#sk-container-id-8 div.sk-text-repr-fallback {display: none;}</style><div id=\"sk-container-id-8\" class=\"sk-top-container\"><div class=\"sk-text-repr-fallback\"><pre>GridSearchCV(cv=3, estimator=DecisionTreeRegressor(random_state=62),\n",
              "             param_grid={&#x27;criterion&#x27;: [&#x27;squared_error&#x27;, &#x27;poisson&#x27;,\n",
              "                                       &#x27;absolute_error&#x27;],\n",
              "                         &#x27;max_depth&#x27;: [10, 20, 30, 50],\n",
              "                         &#x27;max_features&#x27;: [&#x27;log2&#x27;, &#x27;sqrt&#x27;, 1],\n",
              "                         &#x27;min_samples_split&#x27;: [2, 5, 10]})</pre><b>In a Jupyter environment, please rerun this cell to show the HTML representation or trust the notebook. <br />On GitHub, the HTML representation is unable to render, please try loading this page with nbviewer.org.</b></div><div class=\"sk-container\" hidden><div class=\"sk-item sk-dashed-wrapped\"><div class=\"sk-label-container\"><div class=\"sk-label sk-toggleable\"><input class=\"sk-toggleable__control sk-hidden--visually\" id=\"sk-estimator-id-22\" type=\"checkbox\" ><label for=\"sk-estimator-id-22\" class=\"sk-toggleable__label sk-toggleable__label-arrow\">GridSearchCV</label><div class=\"sk-toggleable__content\"><pre>GridSearchCV(cv=3, estimator=DecisionTreeRegressor(random_state=62),\n",
              "             param_grid={&#x27;criterion&#x27;: [&#x27;squared_error&#x27;, &#x27;poisson&#x27;,\n",
              "                                       &#x27;absolute_error&#x27;],\n",
              "                         &#x27;max_depth&#x27;: [10, 20, 30, 50],\n",
              "                         &#x27;max_features&#x27;: [&#x27;log2&#x27;, &#x27;sqrt&#x27;, 1],\n",
              "                         &#x27;min_samples_split&#x27;: [2, 5, 10]})</pre></div></div></div><div class=\"sk-parallel\"><div class=\"sk-parallel-item\"><div class=\"sk-item\"><div class=\"sk-label-container\"><div class=\"sk-label sk-toggleable\"><input class=\"sk-toggleable__control sk-hidden--visually\" id=\"sk-estimator-id-23\" type=\"checkbox\" ><label for=\"sk-estimator-id-23\" class=\"sk-toggleable__label sk-toggleable__label-arrow\">estimator: DecisionTreeRegressor</label><div class=\"sk-toggleable__content\"><pre>DecisionTreeRegressor(random_state=62)</pre></div></div></div><div class=\"sk-serial\"><div class=\"sk-item\"><div class=\"sk-estimator sk-toggleable\"><input class=\"sk-toggleable__control sk-hidden--visually\" id=\"sk-estimator-id-24\" type=\"checkbox\" ><label for=\"sk-estimator-id-24\" class=\"sk-toggleable__label sk-toggleable__label-arrow\">DecisionTreeRegressor</label><div class=\"sk-toggleable__content\"><pre>DecisionTreeRegressor(random_state=62)</pre></div></div></div></div></div></div></div></div></div></div>"
            ]
          },
          "metadata": {},
          "execution_count": 40
        }
      ]
    },
    {
      "cell_type": "code",
      "source": [
        "dtr.best_params_"
      ],
      "metadata": {
        "colab": {
          "base_uri": "https://localhost:8080/"
        },
        "id": "nvHvvrNe7Cb2",
        "outputId": "f61e4058-462f-4d17-9345-aba916b8e2fd"
      },
      "execution_count": 39,
      "outputs": [
        {
          "output_type": "execute_result",
          "data": {
            "text/plain": [
              "{'criterion': 'squared_error',\n",
              " 'max_depth': 10,\n",
              " 'max_features': 'log2',\n",
              " 'min_samples_split': 5}"
            ]
          },
          "metadata": {},
          "execution_count": 39
        }
      ]
    },
    {
      "cell_type": "code",
      "source": [
        "from math import log2\n",
        "dtr_best=DecisionTreeRegressor(criterion=\"squared_error\",max_depth=10, random_state=62,\n",
        "                           max_features='log2',min_samples_split=5)\n",
        "dtr_best.fit(X_train,Y_train)\n",
        "pred2 = dtr_best.predict(X_test)\n",
        "predicted_values2 = np.array(pred2)\n",
        "# Iterate through the list and round each value to the nearest integer\n",
        "rounded_values2 = np.round(predicted_values2).astype(int)\n",
        "# Calculate the mean squared error (MSE)\n",
        "mse = mean_squared_error(Y_test, rounded_values2)\n",
        "\n",
        "# Calculate the root mean squared error (RMSE)\n",
        "rmse = np.sqrt(mse)\n",
        "\n",
        "# Calculate the explained variance score (R^2)\n",
        "r2 = r2_score(Y_test, rounded_values2)\n",
        "\n",
        "# Calculate the fraction of variance explained (FVE)\n",
        "fve = 1 - mse / np.var(Y_test)\n",
        "\n",
        "# Print the evaluation metrics\n",
        "print('MSE: ', mse)\n",
        "print('RMSE: ', rmse)\n",
        "print('R^2: ', r2)\n",
        "print(f'Accuracy: {round(r2_score(Y_test , rounded_values2),3)*100}%')\n",
        "\n",
        "print('FVE: ', fve)"
      ],
      "metadata": {
        "colab": {
          "base_uri": "https://localhost:8080/"
        },
        "id": "x7z22Bm47H-0",
        "outputId": "9d912658-bd27-4404-8663-2d3a963a83c5"
      },
      "execution_count": 51,
      "outputs": [
        {
          "output_type": "stream",
          "name": "stdout",
          "text": [
            "MSE:  12.509852216748769\n",
            "RMSE:  3.536926945350832\n",
            "R^2:  0.9376552157839719\n",
            "Accuracy: 93.8%\n",
            "FVE:  0.9376552157839719\n"
          ]
        }
      ]
    },
    {
      "cell_type": "code",
      "source": [
        "#now for ada boost regression\n",
        "from sklearn.ensemble import AdaBoostRegressor\n",
        "ada=AdaBoostRegressor()\n",
        "adbr=GridSearchCV(AdaBoostRegressor(random_state=62),{\n",
        "    \n",
        "    # Number of trees in random forest\n",
        "    'n_estimators': [100, 200, 300],\n",
        "    #Weight applied to each regressor at each boosting iteration\n",
        "    'learning_rate':[.001,0.01,.1],\n",
        "    #The loss function to use when updating the weights after each boosting iteration.\n",
        "    'loss': ['linear', 'square', 'exponential'],\n",
        "    \n",
        "    },cv=3,return_train_score=False)\n",
        "adbr.fit(X_train,Y_train)"
      ],
      "metadata": {
        "colab": {
          "base_uri": "https://localhost:8080/",
          "height": 118
        },
        "id": "hUZf4U888AAw",
        "outputId": "8592e1d2-3d82-4119-d820-cbfe530c6d92"
      },
      "execution_count": 64,
      "outputs": [
        {
          "output_type": "execute_result",
          "data": {
            "text/plain": [
              "GridSearchCV(cv=3, estimator=AdaBoostRegressor(random_state=62),\n",
              "             param_grid={'learning_rate': [0.001, 0.01, 0.1],\n",
              "                         'loss': ['linear', 'square', 'exponential'],\n",
              "                         'n_estimators': [100, 200, 300]})"
            ],
            "text/html": [
              "<style>#sk-container-id-12 {color: black;background-color: white;}#sk-container-id-12 pre{padding: 0;}#sk-container-id-12 div.sk-toggleable {background-color: white;}#sk-container-id-12 label.sk-toggleable__label {cursor: pointer;display: block;width: 100%;margin-bottom: 0;padding: 0.3em;box-sizing: border-box;text-align: center;}#sk-container-id-12 label.sk-toggleable__label-arrow:before {content: \"▸\";float: left;margin-right: 0.25em;color: #696969;}#sk-container-id-12 label.sk-toggleable__label-arrow:hover:before {color: black;}#sk-container-id-12 div.sk-estimator:hover label.sk-toggleable__label-arrow:before {color: black;}#sk-container-id-12 div.sk-toggleable__content {max-height: 0;max-width: 0;overflow: hidden;text-align: left;background-color: #f0f8ff;}#sk-container-id-12 div.sk-toggleable__content pre {margin: 0.2em;color: black;border-radius: 0.25em;background-color: #f0f8ff;}#sk-container-id-12 input.sk-toggleable__control:checked~div.sk-toggleable__content {max-height: 200px;max-width: 100%;overflow: auto;}#sk-container-id-12 input.sk-toggleable__control:checked~label.sk-toggleable__label-arrow:before {content: \"▾\";}#sk-container-id-12 div.sk-estimator input.sk-toggleable__control:checked~label.sk-toggleable__label {background-color: #d4ebff;}#sk-container-id-12 div.sk-label input.sk-toggleable__control:checked~label.sk-toggleable__label {background-color: #d4ebff;}#sk-container-id-12 input.sk-hidden--visually {border: 0;clip: rect(1px 1px 1px 1px);clip: rect(1px, 1px, 1px, 1px);height: 1px;margin: -1px;overflow: hidden;padding: 0;position: absolute;width: 1px;}#sk-container-id-12 div.sk-estimator {font-family: monospace;background-color: #f0f8ff;border: 1px dotted black;border-radius: 0.25em;box-sizing: border-box;margin-bottom: 0.5em;}#sk-container-id-12 div.sk-estimator:hover {background-color: #d4ebff;}#sk-container-id-12 div.sk-parallel-item::after {content: \"\";width: 100%;border-bottom: 1px solid gray;flex-grow: 1;}#sk-container-id-12 div.sk-label:hover label.sk-toggleable__label {background-color: #d4ebff;}#sk-container-id-12 div.sk-serial::before {content: \"\";position: absolute;border-left: 1px solid gray;box-sizing: border-box;top: 0;bottom: 0;left: 50%;z-index: 0;}#sk-container-id-12 div.sk-serial {display: flex;flex-direction: column;align-items: center;background-color: white;padding-right: 0.2em;padding-left: 0.2em;position: relative;}#sk-container-id-12 div.sk-item {position: relative;z-index: 1;}#sk-container-id-12 div.sk-parallel {display: flex;align-items: stretch;justify-content: center;background-color: white;position: relative;}#sk-container-id-12 div.sk-item::before, #sk-container-id-12 div.sk-parallel-item::before {content: \"\";position: absolute;border-left: 1px solid gray;box-sizing: border-box;top: 0;bottom: 0;left: 50%;z-index: -1;}#sk-container-id-12 div.sk-parallel-item {display: flex;flex-direction: column;z-index: 1;position: relative;background-color: white;}#sk-container-id-12 div.sk-parallel-item:first-child::after {align-self: flex-end;width: 50%;}#sk-container-id-12 div.sk-parallel-item:last-child::after {align-self: flex-start;width: 50%;}#sk-container-id-12 div.sk-parallel-item:only-child::after {width: 0;}#sk-container-id-12 div.sk-dashed-wrapped {border: 1px dashed gray;margin: 0 0.4em 0.5em 0.4em;box-sizing: border-box;padding-bottom: 0.4em;background-color: white;}#sk-container-id-12 div.sk-label label {font-family: monospace;font-weight: bold;display: inline-block;line-height: 1.2em;}#sk-container-id-12 div.sk-label-container {text-align: center;}#sk-container-id-12 div.sk-container {/* jupyter's `normalize.less` sets `[hidden] { display: none; }` but bootstrap.min.css set `[hidden] { display: none !important; }` so we also need the `!important` here to be able to override the default hidden behavior on the sphinx rendered scikit-learn.org. See: https://github.com/scikit-learn/scikit-learn/issues/21755 */display: inline-block !important;position: relative;}#sk-container-id-12 div.sk-text-repr-fallback {display: none;}</style><div id=\"sk-container-id-12\" class=\"sk-top-container\"><div class=\"sk-text-repr-fallback\"><pre>GridSearchCV(cv=3, estimator=AdaBoostRegressor(random_state=62),\n",
              "             param_grid={&#x27;learning_rate&#x27;: [0.001, 0.01, 0.1],\n",
              "                         &#x27;loss&#x27;: [&#x27;linear&#x27;, &#x27;square&#x27;, &#x27;exponential&#x27;],\n",
              "                         &#x27;n_estimators&#x27;: [100, 200, 300]})</pre><b>In a Jupyter environment, please rerun this cell to show the HTML representation or trust the notebook. <br />On GitHub, the HTML representation is unable to render, please try loading this page with nbviewer.org.</b></div><div class=\"sk-container\" hidden><div class=\"sk-item sk-dashed-wrapped\"><div class=\"sk-label-container\"><div class=\"sk-label sk-toggleable\"><input class=\"sk-toggleable__control sk-hidden--visually\" id=\"sk-estimator-id-34\" type=\"checkbox\" ><label for=\"sk-estimator-id-34\" class=\"sk-toggleable__label sk-toggleable__label-arrow\">GridSearchCV</label><div class=\"sk-toggleable__content\"><pre>GridSearchCV(cv=3, estimator=AdaBoostRegressor(random_state=62),\n",
              "             param_grid={&#x27;learning_rate&#x27;: [0.001, 0.01, 0.1],\n",
              "                         &#x27;loss&#x27;: [&#x27;linear&#x27;, &#x27;square&#x27;, &#x27;exponential&#x27;],\n",
              "                         &#x27;n_estimators&#x27;: [100, 200, 300]})</pre></div></div></div><div class=\"sk-parallel\"><div class=\"sk-parallel-item\"><div class=\"sk-item\"><div class=\"sk-label-container\"><div class=\"sk-label sk-toggleable\"><input class=\"sk-toggleable__control sk-hidden--visually\" id=\"sk-estimator-id-35\" type=\"checkbox\" ><label for=\"sk-estimator-id-35\" class=\"sk-toggleable__label sk-toggleable__label-arrow\">estimator: AdaBoostRegressor</label><div class=\"sk-toggleable__content\"><pre>AdaBoostRegressor(random_state=62)</pre></div></div></div><div class=\"sk-serial\"><div class=\"sk-item\"><div class=\"sk-estimator sk-toggleable\"><input class=\"sk-toggleable__control sk-hidden--visually\" id=\"sk-estimator-id-36\" type=\"checkbox\" ><label for=\"sk-estimator-id-36\" class=\"sk-toggleable__label sk-toggleable__label-arrow\">AdaBoostRegressor</label><div class=\"sk-toggleable__content\"><pre>AdaBoostRegressor(random_state=62)</pre></div></div></div></div></div></div></div></div></div></div>"
            ]
          },
          "metadata": {},
          "execution_count": 64
        }
      ]
    },
    {
      "cell_type": "code",
      "source": [
        "adbr.best_params_"
      ],
      "metadata": {
        "colab": {
          "base_uri": "https://localhost:8080/"
        },
        "id": "wBl_UqqD-bb2",
        "outputId": "cdfc47de-4f09-4dac-a627-5b838bacdf6b"
      },
      "execution_count": 65,
      "outputs": [
        {
          "output_type": "execute_result",
          "data": {
            "text/plain": [
              "{'learning_rate': 0.1, 'loss': 'square', 'n_estimators': 200}"
            ]
          },
          "metadata": {},
          "execution_count": 65
        }
      ]
    },
    {
      "cell_type": "code",
      "source": [
        "from math import log2\n",
        "adbr_best=AdaBoostRegressor(loss='square', random_state=62,n_estimators=200,\n",
        "                           learning_rate= 0.1)\n",
        "adbr_best.fit(X_train,Y_train)\n",
        "pred3 = adbr_best.predict(X_test)\n",
        "predicted_values3 = np.array(pred3)\n",
        "# Iterate through the list and round each value to the nearest integer\n",
        "rounded_values3 = np.round(predicted_values3).astype(int)\n",
        "# Calculate the mean squared error (MSE)\n",
        "mse = mean_squared_error(Y_test, rounded_values3)\n",
        "\n",
        "# Calculate the root mean squared error (RMSE)\n",
        "rmse = np.sqrt(mse)\n",
        "\n",
        "# Calculate the explained variance score (R^2)\n",
        "r2 = r2_score(Y_test, rounded_values3)\n",
        "\n",
        "# Calculate the fraction of variance explained (FVE)\n",
        "fve = 1 - mse / np.var(Y_test)\n",
        "\n",
        "# Print the evaluation metrics\n",
        "print('MSE: ', mse)\n",
        "print('RMSE: ', rmse)\n",
        "print('R^2: ', r2)\n",
        "print(f'Accuracy: {round(r2_score(Y_test , rounded_values3),3)*100}%')\n",
        "\n",
        "print('FVE: ', fve)"
      ],
      "metadata": {
        "colab": {
          "base_uri": "https://localhost:8080/"
        },
        "id": "FCABQcJVAeOf",
        "outputId": "80a9e48f-762c-4e1c-af5b-af7c03c36006"
      },
      "execution_count": 66,
      "outputs": [
        {
          "output_type": "stream",
          "name": "stdout",
          "text": [
            "MSE:  12.748768472906404\n",
            "RMSE:  3.570541761820803\n",
            "R^2:  0.9364645396530495\n",
            "Accuracy: 93.60000000000001%\n",
            "FVE:  0.9364645396530495\n"
          ]
        }
      ]
    }
  ]
}